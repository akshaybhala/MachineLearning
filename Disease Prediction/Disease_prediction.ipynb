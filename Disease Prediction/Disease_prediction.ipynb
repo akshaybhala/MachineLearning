{
  "nbformat": 4,
  "nbformat_minor": 0,
  "metadata": {
    "kernelspec": {
      "display_name": "Python 3",
      "language": "python",
      "name": "python3"
    },
    "colab": {
      "name": "DA_Assignment3.ipynb",
      "provenance": [],
      "collapsed_sections": [],
      "toc_visible": true
    }
  },
  "cells": [
    {
      "cell_type": "markdown",
      "metadata": {
        "id": "RQCCAImJPHMM",
        "colab_type": "text"
      },
      "source": [
        "#                          **Disease Diagnosis Model**\n",
        "\n",
        "##                               *Akshay Bhala*\n",
        "###                                  *04/04/2020*\n",
        "\n",
        "\n"
      ]
    },
    {
      "cell_type": "markdown",
      "metadata": {
        "id": "_Vl4CgwHQXg3",
        "colab_type": "text"
      },
      "source": [
        "## Introduction: \n",
        "The Goal is to build a disease diagnosis model to predict whether or not a patient has certain unspecified disease or not for a given binary classification problem. We are using multiple machine learning algorithms, such as naive Bayes classifier, K Nearest Neighbor, Support Vector Machine (with both linear and non-linear kernel functions), Random Forest and Gradient Boosting Classifier for building the model."
      ]
    },
    {
      "cell_type": "code",
      "metadata": {
        "id": "MYHQ34uA-KAm",
        "colab_type": "code",
        "colab": {}
      },
      "source": [
        "import pandas as pd\n",
        "import numpy as np\n",
        "import matplotlib.pyplot as plt\n",
        "import seaborn as sns\n",
        "from sklearn.model_selection import train_test_split\n",
        "from sklearn.metrics import classification_report,confusion_matrix\n",
        "from sklearn.metrics import roc_curve\n",
        "from sklearn.metrics import roc_auc_score\n",
        "from matplotlib import pyplot\n",
        "from sklearn.model_selection import GridSearchCV"
      ],
      "execution_count": 0,
      "outputs": []
    },
    {
      "cell_type": "markdown",
      "metadata": {
        "id": "WZNGpVSYQL7e",
        "colab_type": "text"
      },
      "source": [
        "# Section 1: Data preparation"
      ]
    },
    {
      "cell_type": "code",
      "metadata": {
        "id": "wPXQBh8j-KCV",
        "colab_type": "code",
        "outputId": "64cc8958-4abc-4044-bb96-f5d61ac6a1aa",
        "colab": {
          "base_uri": "https://localhost:8080/"
        }
      },
      "source": [
        "df = pd.read_csv('Disease Prediction Training.csv')\n",
        "print(df.shape)\n",
        "df.describe()"
      ],
      "execution_count": 0,
      "outputs": [
        {
          "output_type": "stream",
          "text": [
            "(49000, 12)\n"
          ],
          "name": "stdout"
        },
        {
          "output_type": "execute_result",
          "data": {
            "text/html": [
              "<div>\n",
              "<style scoped>\n",
              "    .dataframe tbody tr th:only-of-type {\n",
              "        vertical-align: middle;\n",
              "    }\n",
              "\n",
              "    .dataframe tbody tr th {\n",
              "        vertical-align: top;\n",
              "    }\n",
              "\n",
              "    .dataframe thead th {\n",
              "        text-align: right;\n",
              "    }\n",
              "</style>\n",
              "<table border=\"1\" class=\"dataframe\">\n",
              "  <thead>\n",
              "    <tr style=\"text-align: right;\">\n",
              "      <th></th>\n",
              "      <th>Age</th>\n",
              "      <th>Height</th>\n",
              "      <th>Weight</th>\n",
              "      <th>High Blood Pressure</th>\n",
              "      <th>Low Blood Pressure</th>\n",
              "      <th>Smoke</th>\n",
              "      <th>Alcohol</th>\n",
              "      <th>Exercise</th>\n",
              "      <th>Disease</th>\n",
              "    </tr>\n",
              "  </thead>\n",
              "  <tbody>\n",
              "    <tr>\n",
              "      <th>count</th>\n",
              "      <td>49000.000000</td>\n",
              "      <td>49000.000000</td>\n",
              "      <td>49000.000000</td>\n",
              "      <td>49000.000000</td>\n",
              "      <td>49000.000000</td>\n",
              "      <td>49000.000000</td>\n",
              "      <td>49000.000000</td>\n",
              "      <td>49000.000000</td>\n",
              "      <td>49000.000000</td>\n",
              "    </tr>\n",
              "    <tr>\n",
              "      <th>mean</th>\n",
              "      <td>52.853306</td>\n",
              "      <td>164.366878</td>\n",
              "      <td>74.190527</td>\n",
              "      <td>128.698939</td>\n",
              "      <td>96.917367</td>\n",
              "      <td>0.088265</td>\n",
              "      <td>0.054245</td>\n",
              "      <td>0.803204</td>\n",
              "      <td>0.499959</td>\n",
              "    </tr>\n",
              "    <tr>\n",
              "      <th>std</th>\n",
              "      <td>6.763065</td>\n",
              "      <td>8.216637</td>\n",
              "      <td>14.329934</td>\n",
              "      <td>147.624582</td>\n",
              "      <td>200.368069</td>\n",
              "      <td>0.283683</td>\n",
              "      <td>0.226503</td>\n",
              "      <td>0.397581</td>\n",
              "      <td>0.500005</td>\n",
              "    </tr>\n",
              "    <tr>\n",
              "      <th>min</th>\n",
              "      <td>29.000000</td>\n",
              "      <td>55.000000</td>\n",
              "      <td>10.000000</td>\n",
              "      <td>-150.000000</td>\n",
              "      <td>0.000000</td>\n",
              "      <td>0.000000</td>\n",
              "      <td>0.000000</td>\n",
              "      <td>0.000000</td>\n",
              "      <td>0.000000</td>\n",
              "    </tr>\n",
              "    <tr>\n",
              "      <th>25%</th>\n",
              "      <td>48.000000</td>\n",
              "      <td>159.000000</td>\n",
              "      <td>65.000000</td>\n",
              "      <td>120.000000</td>\n",
              "      <td>80.000000</td>\n",
              "      <td>0.000000</td>\n",
              "      <td>0.000000</td>\n",
              "      <td>1.000000</td>\n",
              "      <td>0.000000</td>\n",
              "    </tr>\n",
              "    <tr>\n",
              "      <th>50%</th>\n",
              "      <td>53.000000</td>\n",
              "      <td>165.000000</td>\n",
              "      <td>72.000000</td>\n",
              "      <td>120.000000</td>\n",
              "      <td>80.000000</td>\n",
              "      <td>0.000000</td>\n",
              "      <td>0.000000</td>\n",
              "      <td>1.000000</td>\n",
              "      <td>0.000000</td>\n",
              "    </tr>\n",
              "    <tr>\n",
              "      <th>75%</th>\n",
              "      <td>58.000000</td>\n",
              "      <td>170.000000</td>\n",
              "      <td>82.000000</td>\n",
              "      <td>140.000000</td>\n",
              "      <td>90.000000</td>\n",
              "      <td>0.000000</td>\n",
              "      <td>0.000000</td>\n",
              "      <td>1.000000</td>\n",
              "      <td>1.000000</td>\n",
              "    </tr>\n",
              "    <tr>\n",
              "      <th>max</th>\n",
              "      <td>64.000000</td>\n",
              "      <td>207.000000</td>\n",
              "      <td>200.000000</td>\n",
              "      <td>14020.000000</td>\n",
              "      <td>11000.000000</td>\n",
              "      <td>1.000000</td>\n",
              "      <td>1.000000</td>\n",
              "      <td>1.000000</td>\n",
              "      <td>1.000000</td>\n",
              "    </tr>\n",
              "  </tbody>\n",
              "</table>\n",
              "</div>"
            ],
            "text/plain": [
              "                Age        Height  ...      Exercise       Disease\n",
              "count  49000.000000  49000.000000  ...  49000.000000  49000.000000\n",
              "mean      52.853306    164.366878  ...      0.803204      0.499959\n",
              "std        6.763065      8.216637  ...      0.397581      0.500005\n",
              "min       29.000000     55.000000  ...      0.000000      0.000000\n",
              "25%       48.000000    159.000000  ...      1.000000      0.000000\n",
              "50%       53.000000    165.000000  ...      1.000000      0.000000\n",
              "75%       58.000000    170.000000  ...      1.000000      1.000000\n",
              "max       64.000000    207.000000  ...      1.000000      1.000000\n",
              "\n",
              "[8 rows x 9 columns]"
            ]
          },
          "metadata": {
            "tags": []
          },
          "execution_count": 23
        }
      ]
    },
    {
      "cell_type": "code",
      "metadata": {
        "id": "kgfOn1n_-KDz",
        "colab_type": "code",
        "outputId": "238bc494-d223-428f-fdac-8a753aca0cf5",
        "colab": {
          "base_uri": "https://localhost:8080/"
        }
      },
      "source": [
        "df.isnull().sum()"
      ],
      "execution_count": 0,
      "outputs": [
        {
          "output_type": "execute_result",
          "data": {
            "text/plain": [
              "Age                    0\n",
              "Gender                 0\n",
              "Height                 0\n",
              "Weight                 0\n",
              "High Blood Pressure    0\n",
              "Low Blood Pressure     0\n",
              "Cholesterol            0\n",
              "Glucose                0\n",
              "Smoke                  0\n",
              "Alcohol                0\n",
              "Exercise               0\n",
              "Disease                0\n",
              "dtype: int64"
            ]
          },
          "metadata": {
            "tags": []
          },
          "execution_count": 24
        }
      ]
    },
    {
      "cell_type": "markdown",
      "metadata": {
        "id": "Bho0QBG0T0VL",
        "colab_type": "text"
      },
      "source": [
        "**Analysis:** From the above summary we can see that the data set does not contain Null Values but has some data quality issues such as consisting negative blood pressure values and outliers. "
      ]
    },
    {
      "cell_type": "code",
      "metadata": {
        "id": "Hkh_UPiAWW-2",
        "colab_type": "code",
        "outputId": "000f9233-643f-4691-b95c-2b661b64a325",
        "colab": {
          "base_uri": "https://localhost:8080/",
          "height": 242
        }
      },
      "source": [
        "fig = plt.figure(figsize=(10,3))\n",
        "ax1 = fig.add_subplot(1,2,1)\n",
        "ax2 = fig.add_subplot(1,2,2)\n",
        "\n",
        "ax1.boxplot(df['High Blood Pressure'])\n",
        "ax1.set_xlabel('High Blood Pressure ')\n",
        "ax2.boxplot(df['Low Blood Pressure'])\n",
        "ax2.set_xlabel('Low Blood Pressure')"
      ],
      "execution_count": 0,
      "outputs": [
        {
          "output_type": "execute_result",
          "data": {
            "text/plain": [
              "Text(0.5, 0, 'Low Blood Pressure')"
            ]
          },
          "metadata": {
            "tags": []
          },
          "execution_count": 25
        },
        {
          "output_type": "display_data",
          "data": {
            "image/png": "[encoded data removed]",
            "text/plain": [
              "<Figure size 720x216 with 2 Axes>"
            ]
          },
          "metadata": {
            "tags": []
          }
        }
      ]
    },
    {
      "cell_type": "code",
      "metadata": {
        "id": "yb6wMjNN-KEw",
        "colab_type": "code",
        "outputId": "e243cea6-a544-4679-d97e-5978567fdc48",
        "colab": {
          "base_uri": "https://localhost:8080/",
          "height": 102
        }
      },
      "source": [
        "print(df.Disease.value_counts())\n",
        "countNoDisease = len(df[df.Disease == 0])\n",
        "countHaveDisease = len(df[df.Disease == 1])\n",
        "print(\"Percentage of Patients Haven't Heart Disease: {:.2f}%\".format((countNoDisease / (len(df.Disease))*100)))\n",
        "print(\"Percentage of Patients Have Heart Disease: {:.2f}%\".format((countHaveDisease / (len(df.Disease))*100)))"
      ],
      "execution_count": 0,
      "outputs": [
        {
          "output_type": "stream",
          "text": [
            "0    24502\n",
            "1    24498\n",
            "Name: Disease, dtype: int64\n",
            "Percentage of Patients Haven't Heart Disease: 50.00%\n",
            "Percentage of Patients Have Heart Disease: 50.00%\n"
          ],
          "name": "stdout"
        }
      ]
    },
    {
      "cell_type": "code",
      "metadata": {
        "id": "uNK33N0--KGq",
        "colab_type": "code",
        "outputId": "4005a1f3-5b62-4a1e-8d88-9fbf4919e2b8",
        "colab": {
          "base_uri": "https://localhost:8080/"
        }
      },
      "source": [
        "pd.crosstab(df.Age,df.Disease).plot(kind=\"bar\",figsize=(20,6))\n",
        "plt.title('Heart Disease Frequency for Ages')\n",
        "plt.xlabel('Age')\n",
        "plt.ylabel('Frequency')\n",
        "plt.show()"
      ],
      "execution_count": 0,
      "outputs": [
        {
          "output_type": "display_data",
          "data": {
            "image/png": "[encoded data removed]",
            "text/plain": [
              "<Figure size 1440x432 with 1 Axes>"
            ]
          },
          "metadata": {
            "tags": []
          }
        }
      ]
    },
    {
      "cell_type": "markdown",
      "metadata": {
        "id": "f5r_ISqsJk8X",
        "colab_type": "text"
      },
      "source": [
        "**Analysis:** The above graph shows a pattern that as Age increases the chances of getting a Disease is High."
      ]
    },
    {
      "cell_type": "code",
      "metadata": {
        "id": "DcqZsoBN-KIf",
        "colab_type": "code",
        "outputId": "33650c21-ae2c-4b58-f3a5-d4b5bda30b9a",
        "colab": {
          "base_uri": "https://localhost:8080/"
        }
      },
      "source": [
        "countFemale = len(df[df.Gender == 'female'])\n",
        "countMale = len(df[df.Gender == 'male'])\n",
        "print(\"Percentage of Female Patients: {:.2f}%\".format((countFemale / (len(df.Gender))*100)))\n",
        "print(\"Percentage of Male Patients: {:.2f}%\".format((countMale / (len(df.Gender))*100)))\n",
        "pd.crosstab(df.Gender,df.Disease).plot(kind=\"bar\",figsize=(15,6),color=['#1CA53B','#AA1111' ])\n",
        "plt.title('Heart Disease Frequency for Gender')\n",
        "plt.xlabel('Gender (Female, Male)')\n",
        "plt.xticks(rotation=0)\n",
        "plt.legend([\"Haven't Disease\", \"Have Disease\"])\n",
        "plt.ylabel('Frequency')\n",
        "plt.show()"
      ],
      "execution_count": 0,
      "outputs": [
        {
          "output_type": "stream",
          "text": [
            "Percentage of Female Patients: 65.03%\n",
            "Percentage of Male Patients: 34.97%\n"
          ],
          "name": "stdout"
        },
        {
          "output_type": "display_data",
          "data": {
            "image/png": "[encoded data removed]",
            "text/plain": [
              "<Figure size 1080x432 with 1 Axes>"
            ]
          },
          "metadata": {
            "tags": []
          }
        }
      ]
    },
    {
      "cell_type": "markdown",
      "metadata": {
        "id": "evTCiosVJzIb",
        "colab_type": "text"
      },
      "source": [
        "**Analysis:** Female Patients are twice as Male Patients"
      ]
    },
    {
      "cell_type": "code",
      "metadata": {
        "id": "Gs_ViltfNUR0",
        "colab_type": "code",
        "outputId": "c9cb42ba-edfe-4a24-8464-236576669926",
        "colab": {
          "base_uri": "https://localhost:8080/"
        }
      },
      "source": [
        "plt.scatter(df.Height,df.Weight,c=df.Disease)\n",
        "plt.title('Heart Disease Frequency in comparison with height and weight')\n",
        "plt.xlabel('Height')\n",
        "plt.ylabel('Weight')\n",
        "plt.show()"
      ],
      "execution_count": 0,
      "outputs": [
        {
          "output_type": "display_data",
          "data": {
            "image/png": "[encoded data removed]",
            "text/plain": [
              "<Figure size 432x288 with 1 Axes>"
            ]
          },
          "metadata": {
            "tags": []
          }
        }
      ]
    },
    {
      "cell_type": "markdown",
      "metadata": {
        "id": "D7wVNW_sKPfC",
        "colab_type": "text"
      },
      "source": [
        "**Analysis:** The above plot shows an very important characteristic that within the average height which is between 140 - 180 as the weight goes beyond 75 there is a high risk of getting the Disease."
      ]
    },
    {
      "cell_type": "code",
      "metadata": {
        "id": "Vy5BDMHg-KPY",
        "colab_type": "code",
        "outputId": "9cdc1587-b38f-449f-dc7f-c7a307be72cd",
        "colab": {
          "base_uri": "https://localhost:8080/"
        }
      },
      "source": [
        "pd.crosstab([df.Cholesterol,df.Glucose],df.Disease).plot(kind=\"bar\",figsize=(15,6),color=['#11A5AA','#AA1190' ])\n",
        "plt.title('Heart Disease Frequency According To Cholesterol Level and Glucose Level')\n",
        "plt.xlabel('Cholesterol / Glucose(Too High, High or Normal)')\n",
        "plt.xticks(rotation = 0)\n",
        "plt.ylabel('Frequency of Disease or Not')\n",
        "plt.show()"
      ],
      "execution_count": 0,
      "outputs": [
        {
          "output_type": "display_data",
          "data": {
            "image/png": "[encoded data removed]",
            "text/plain": [
              "<Figure size 1080x432 with 1 Axes>"
            ]
          },
          "metadata": {
            "tags": []
          }
        }
      ]
    },
    {
      "cell_type": "markdown",
      "metadata": {
        "id": "imkvMwxzvF5V",
        "colab_type": "text"
      },
      "source": [
        "**Analysis:** We can see that when cholestrol is high/too high as compared to when glucose is normal there are more number of chances getting a disease. Although when both are high there is a definite chance of getting the disease."
      ]
    },
    {
      "cell_type": "markdown",
      "metadata": {
        "id": "mNhSbjUD4pc1",
        "colab_type": "text"
      },
      "source": [
        "Performing One hot Encoding for categorical columns in our data set and using inter quartile range to remove outliers and making sure our data is ready for machine learning models."
      ]
    },
    {
      "cell_type": "code",
      "metadata": {
        "id": "B8HVxZYS-KTc",
        "colab_type": "code",
        "colab": {}
      },
      "source": [
        "a = pd.get_dummies(df['Gender'], prefix = \"Gender_\")\n",
        "b = pd.get_dummies(df['Cholesterol'], prefix = \"Cholesterol_\")\n",
        "c = pd.get_dummies(df['Glucose'], prefix = \"Glucose_\")"
      ],
      "execution_count": 0,
      "outputs": []
    },
    {
      "cell_type": "code",
      "metadata": {
        "id": "XgW7Qhte-KUd",
        "colab_type": "code",
        "colab": {}
      },
      "source": [
        "frames = [df, a, b, c]\n",
        "df = pd.concat(frames, axis = 1)\n",
        "df = df.drop(columns = ['Gender', 'Cholesterol', 'Glucose'])"
      ],
      "execution_count": 0,
      "outputs": []
    },
    {
      "cell_type": "code",
      "metadata": {
        "id": "zLxw9ty0ZHwR",
        "colab_type": "code",
        "colab": {}
      },
      "source": [
        "def outliers_IQR(data, col):\n",
        "    lower_quartile = data[col].quantile(0.25)\n",
        "    upper_quartile = data[col].quantile(0.75)\n",
        "    IQR = upper_quartile - lower_quartile\n",
        "    outlier_thresh = 1.5 * IQR\n",
        "    return data[data[col].between((lower_quartile - outlier_thresh), (upper_quartile + outlier_thresh))]\n",
        "\n",
        "df = outliers_IQR(df, 'High Blood Pressure')\n",
        "df = outliers_IQR(df, 'Low Blood Pressure')"
      ],
      "execution_count": 0,
      "outputs": []
    },
    {
      "cell_type": "code",
      "metadata": {
        "id": "iGmknwJXZYEt",
        "colab_type": "code",
        "outputId": "eba0bbfa-d076-4b19-b000-549079d8262e",
        "colab": {
          "base_uri": "https://localhost:8080/",
          "height": 242
        }
      },
      "source": [
        "fig = plt.figure(figsize=(10,3))\n",
        "ax1 = fig.add_subplot(1,2,1)\n",
        "ax2 = fig.add_subplot(1,2,2)\n",
        "\n",
        "ax1.boxplot(df['High Blood Pressure'])\n",
        "ax1.set_xlabel('High Blood Pressure ')\n",
        "ax2.boxplot(df['Low Blood Pressure'])\n",
        "ax2.set_xlabel('Low Blood Pressure')"
      ],
      "execution_count": 0,
      "outputs": [
        {
          "output_type": "execute_result",
          "data": {
            "text/plain": [
              "Text(0.5, 0, 'Low Blood Pressure')"
            ]
          },
          "metadata": {
            "tags": []
          },
          "execution_count": 34
        },
        {
          "output_type": "display_data",
          "data": {
            "image/png": "[encoded data removed]",
            "text/plain": [
              "<Figure size 720x216 with 2 Axes>"
            ]
          },
          "metadata": {
            "tags": []
          }
        }
      ]
    },
    {
      "cell_type": "markdown",
      "metadata": {
        "id": "C7X3FHfV5PEG",
        "colab_type": "text"
      },
      "source": [
        "**Analysis:** The above figure proofs that outliers are treated for both the columns."
      ]
    },
    {
      "cell_type": "code",
      "metadata": {
        "id": "hICRUE1dajE4",
        "colab_type": "code",
        "outputId": "6496cf91-9668-4d08-8699-1713c4bba0d8",
        "colab": {
          "base_uri": "https://localhost:8080/",
          "height": 334
        }
      },
      "source": [
        "df.describe()"
      ],
      "execution_count": 0,
      "outputs": [
        {
          "output_type": "execute_result",
          "data": {
            "text/html": [
              "<div>\n",
              "<style scoped>\n",
              "    .dataframe tbody tr th:only-of-type {\n",
              "        vertical-align: middle;\n",
              "    }\n",
              "\n",
              "    .dataframe tbody tr th {\n",
              "        vertical-align: top;\n",
              "    }\n",
              "\n",
              "    .dataframe thead th {\n",
              "        text-align: right;\n",
              "    }\n",
              "</style>\n",
              "<table border=\"1\" class=\"dataframe\">\n",
              "  <thead>\n",
              "    <tr style=\"text-align: right;\">\n",
              "      <th></th>\n",
              "      <th>Age</th>\n",
              "      <th>Height</th>\n",
              "      <th>Weight</th>\n",
              "      <th>High Blood Pressure</th>\n",
              "      <th>Low Blood Pressure</th>\n",
              "      <th>Smoke</th>\n",
              "      <th>Alcohol</th>\n",
              "      <th>Exercise</th>\n",
              "      <th>Disease</th>\n",
              "      <th>Gender__female</th>\n",
              "      <th>Gender__male</th>\n",
              "      <th>Cholesterol__high</th>\n",
              "      <th>Cholesterol__normal</th>\n",
              "      <th>Cholesterol__too high</th>\n",
              "      <th>Glucose__high</th>\n",
              "      <th>Glucose__normal</th>\n",
              "      <th>Glucose__too high</th>\n",
              "    </tr>\n",
              "  </thead>\n",
              "  <tbody>\n",
              "    <tr>\n",
              "      <th>count</th>\n",
              "      <td>45143.000000</td>\n",
              "      <td>45143.000000</td>\n",
              "      <td>45143.000000</td>\n",
              "      <td>45143.000000</td>\n",
              "      <td>45143.000000</td>\n",
              "      <td>45143.000000</td>\n",
              "      <td>45143.000000</td>\n",
              "      <td>45143.000000</td>\n",
              "      <td>45143.000000</td>\n",
              "      <td>45143.000000</td>\n",
              "      <td>45143.000000</td>\n",
              "      <td>45143.000000</td>\n",
              "      <td>45143.000000</td>\n",
              "      <td>45143.000000</td>\n",
              "      <td>45143.000000</td>\n",
              "      <td>45143.000000</td>\n",
              "      <td>45143.000000</td>\n",
              "    </tr>\n",
              "    <tr>\n",
              "      <th>mean</th>\n",
              "      <td>52.922048</td>\n",
              "      <td>164.467559</td>\n",
              "      <td>74.254302</td>\n",
              "      <td>126.652083</td>\n",
              "      <td>81.807855</td>\n",
              "      <td>0.087987</td>\n",
              "      <td>0.053541</td>\n",
              "      <td>0.803247</td>\n",
              "      <td>0.498859</td>\n",
              "      <td>0.647852</td>\n",
              "      <td>0.352148</td>\n",
              "      <td>0.133908</td>\n",
              "      <td>0.750770</td>\n",
              "      <td>0.115322</td>\n",
              "      <td>0.072547</td>\n",
              "      <td>0.850918</td>\n",
              "      <td>0.076535</td>\n",
              "    </tr>\n",
              "    <tr>\n",
              "      <th>std</th>\n",
              "      <td>6.739011</td>\n",
              "      <td>8.142508</td>\n",
              "      <td>14.087040</td>\n",
              "      <td>14.356218</td>\n",
              "      <td>7.745571</td>\n",
              "      <td>0.283279</td>\n",
              "      <td>0.225112</td>\n",
              "      <td>0.397548</td>\n",
              "      <td>0.500004</td>\n",
              "      <td>0.477645</td>\n",
              "      <td>0.477645</td>\n",
              "      <td>0.340557</td>\n",
              "      <td>0.432572</td>\n",
              "      <td>0.319414</td>\n",
              "      <td>0.259395</td>\n",
              "      <td>0.356173</td>\n",
              "      <td>0.265854</td>\n",
              "    </tr>\n",
              "    <tr>\n",
              "      <th>min</th>\n",
              "      <td>29.000000</td>\n",
              "      <td>55.000000</td>\n",
              "      <td>11.000000</td>\n",
              "      <td>90.000000</td>\n",
              "      <td>65.000000</td>\n",
              "      <td>0.000000</td>\n",
              "      <td>0.000000</td>\n",
              "      <td>0.000000</td>\n",
              "      <td>0.000000</td>\n",
              "      <td>0.000000</td>\n",
              "      <td>0.000000</td>\n",
              "      <td>0.000000</td>\n",
              "      <td>0.000000</td>\n",
              "      <td>0.000000</td>\n",
              "      <td>0.000000</td>\n",
              "      <td>0.000000</td>\n",
              "      <td>0.000000</td>\n",
              "    </tr>\n",
              "    <tr>\n",
              "      <th>25%</th>\n",
              "      <td>48.000000</td>\n",
              "      <td>159.000000</td>\n",
              "      <td>65.000000</td>\n",
              "      <td>120.000000</td>\n",
              "      <td>80.000000</td>\n",
              "      <td>0.000000</td>\n",
              "      <td>0.000000</td>\n",
              "      <td>1.000000</td>\n",
              "      <td>0.000000</td>\n",
              "      <td>0.000000</td>\n",
              "      <td>0.000000</td>\n",
              "      <td>0.000000</td>\n",
              "      <td>1.000000</td>\n",
              "      <td>0.000000</td>\n",
              "      <td>0.000000</td>\n",
              "      <td>1.000000</td>\n",
              "      <td>0.000000</td>\n",
              "    </tr>\n",
              "    <tr>\n",
              "      <th>50%</th>\n",
              "      <td>54.000000</td>\n",
              "      <td>165.000000</td>\n",
              "      <td>72.000000</td>\n",
              "      <td>120.000000</td>\n",
              "      <td>80.000000</td>\n",
              "      <td>0.000000</td>\n",
              "      <td>0.000000</td>\n",
              "      <td>1.000000</td>\n",
              "      <td>0.000000</td>\n",
              "      <td>1.000000</td>\n",
              "      <td>0.000000</td>\n",
              "      <td>0.000000</td>\n",
              "      <td>1.000000</td>\n",
              "      <td>0.000000</td>\n",
              "      <td>0.000000</td>\n",
              "      <td>1.000000</td>\n",
              "      <td>0.000000</td>\n",
              "    </tr>\n",
              "    <tr>\n",
              "      <th>75%</th>\n",
              "      <td>58.000000</td>\n",
              "      <td>170.000000</td>\n",
              "      <td>82.000000</td>\n",
              "      <td>140.000000</td>\n",
              "      <td>90.000000</td>\n",
              "      <td>0.000000</td>\n",
              "      <td>0.000000</td>\n",
              "      <td>1.000000</td>\n",
              "      <td>1.000000</td>\n",
              "      <td>1.000000</td>\n",
              "      <td>1.000000</td>\n",
              "      <td>0.000000</td>\n",
              "      <td>1.000000</td>\n",
              "      <td>0.000000</td>\n",
              "      <td>0.000000</td>\n",
              "      <td>1.000000</td>\n",
              "      <td>0.000000</td>\n",
              "    </tr>\n",
              "    <tr>\n",
              "      <th>max</th>\n",
              "      <td>64.000000</td>\n",
              "      <td>207.000000</td>\n",
              "      <td>200.000000</td>\n",
              "      <td>170.000000</td>\n",
              "      <td>105.000000</td>\n",
              "      <td>1.000000</td>\n",
              "      <td>1.000000</td>\n",
              "      <td>1.000000</td>\n",
              "      <td>1.000000</td>\n",
              "      <td>1.000000</td>\n",
              "      <td>1.000000</td>\n",
              "      <td>1.000000</td>\n",
              "      <td>1.000000</td>\n",
              "      <td>1.000000</td>\n",
              "      <td>1.000000</td>\n",
              "      <td>1.000000</td>\n",
              "      <td>1.000000</td>\n",
              "    </tr>\n",
              "  </tbody>\n",
              "</table>\n",
              "</div>"
            ],
            "text/plain": [
              "                Age        Height  ...  Glucose__normal  Glucose__too high\n",
              "count  45143.000000  45143.000000  ...     45143.000000       45143.000000\n",
              "mean      52.922048    164.467559  ...         0.850918           0.076535\n",
              "std        6.739011      8.142508  ...         0.356173           0.265854\n",
              "min       29.000000     55.000000  ...         0.000000           0.000000\n",
              "25%       48.000000    159.000000  ...         1.000000           0.000000\n",
              "50%       54.000000    165.000000  ...         1.000000           0.000000\n",
              "75%       58.000000    170.000000  ...         1.000000           0.000000\n",
              "max       64.000000    207.000000  ...         1.000000           1.000000\n",
              "\n",
              "[8 rows x 17 columns]"
            ]
          },
          "metadata": {
            "tags": []
          },
          "execution_count": 35
        }
      ]
    },
    {
      "cell_type": "code",
      "metadata": {
        "id": "oBT029yw-KMg",
        "colab_type": "code",
        "outputId": "7353356f-2b04-41bb-ba66-0e06c0fd339e",
        "colab": {
          "base_uri": "https://localhost:8080/",
          "height": 413
        }
      },
      "source": [
        "pd.crosstab(df['Low Blood Pressure'],df.Disease).plot(kind=\"bar\",figsize=(15,6),color=['#1CA53B','#AA1111' ])\n",
        "plt.title('Heart Disease Frequency for Low Blood Pressure')\n",
        "plt.xlabel('Low Blood Pressure')\n",
        "plt.xticks(rotation=90)\n",
        "plt.legend([\"Haven't Disease\", \"Have Disease\"])\n",
        "plt.ylabel('Frequency')\n",
        "plt.show()"
      ],
      "execution_count": 0,
      "outputs": [
        {
          "output_type": "display_data",
          "data": {
            "image/png": "[encoded data removed]",
            "text/plain": [
              "<Figure size 1080x432 with 1 Axes>"
            ]
          },
          "metadata": {
            "tags": []
          }
        }
      ]
    },
    {
      "cell_type": "markdown",
      "metadata": {
        "id": "Q3zuGJy4k3Ew",
        "colab_type": "text"
      },
      "source": [
        "**Analysis:** The Normal Range of Blood pressure is 90 to 120 and as we can see when blood pressure falls below 90 there are more number of patients having a chance of a disease. \n"
      ]
    },
    {
      "cell_type": "code",
      "metadata": {
        "id": "xKrEG0F2Ogt1",
        "colab_type": "code",
        "outputId": "4aa27e9b-5aaf-4b96-f18b-464476d39408",
        "colab": {
          "base_uri": "https://localhost:8080/",
          "height": 413
        }
      },
      "source": [
        "df['High Blood Pressure']=df['High Blood Pressure'].abs()\n",
        "pd.crosstab(df['High Blood Pressure'],df.Disease).plot(kind=\"bar\",figsize=(15,6),color=['#1CA53B','#AA1111' ])\n",
        "plt.title('Heart Disease Frequency with High Blood Pressure')\n",
        "plt.xlabel('High Blood Pressure')\n",
        "plt.xticks(rotation=90)\n",
        "plt.legend([\"Haven't Disease\", \"Have Disease\"])\n",
        "plt.ylabel('Frequency')\n",
        "plt.show()"
      ],
      "execution_count": 0,
      "outputs": [
        {
          "output_type": "display_data",
          "data": {
            "image/png": "[encoded data removed]",
            "text/plain": [
              "<Figure size 1080x432 with 1 Axes>"
            ]
          },
          "metadata": {
            "tags": []
          }
        }
      ]
    },
    {
      "cell_type": "markdown",
      "metadata": {
        "id": "DZKf__bBmB1u",
        "colab_type": "text"
      },
      "source": [
        "**Analysis:** The Normal Range of Blood pressure is 90 to 120 and as we can see the more the increase in blood pressure more are the chances of getting a disease."
      ]
    },
    {
      "cell_type": "code",
      "metadata": {
        "id": "13FbvuPi-KRF",
        "colab_type": "code",
        "outputId": "8451b9e0-6c6e-4d2f-fbfb-7f5cc4318e56",
        "colab": {
          "base_uri": "https://localhost:8080/",
          "height": 404
        }
      },
      "source": [
        "pd.crosstab([df.Smoke,df.Alcohol,df.Exercise],df.Disease).plot(kind=\"bar\",figsize=(15,6),color=['#11A5AA','#AA1190' ])\n",
        "plt.title('Heart Disease Frequency According To Smoke / Alcohol / Exercise ')\n",
        "plt.xlabel('Smoke/Alcohol/Excercise')\n",
        "plt.xticks(rotation = 0)\n",
        "plt.ylabel('Frequency of Disease or Not')\n",
        "plt.show()"
      ],
      "execution_count": 0,
      "outputs": [
        {
          "output_type": "display_data",
          "data": {
            "image/png": "[encoded data removed]",
            "text/plain": [
              "<Figure size 1080x432 with 1 Axes>"
            ]
          },
          "metadata": {
            "tags": []
          }
        }
      ]
    },
    {
      "cell_type": "markdown",
      "metadata": {
        "id": "eWrk82P5rdgk",
        "colab_type": "text"
      },
      "source": [
        "**Analysis:** We can see an interesting characteristic that when people smoke and drink alcohol and don't do exercise they are at higher risk of getting disease.\n",
        " "
      ]
    },
    {
      "cell_type": "markdown",
      "metadata": {
        "id": "wiejco2d1bPr",
        "colab_type": "text"
      },
      "source": [
        "#Section 2: Build, tune and evaluate various machine learning algorithms"
      ]
    },
    {
      "cell_type": "code",
      "metadata": {
        "id": "5wNidMvO-KVt",
        "colab_type": "code",
        "colab": {}
      },
      "source": [
        "y = df.Disease.values"
      ],
      "execution_count": 0,
      "outputs": []
    },
    {
      "cell_type": "code",
      "metadata": {
        "id": "CetlxNqe-KWd",
        "colab_type": "code",
        "colab": {}
      },
      "source": [
        "x_data = df.drop(['Disease'], axis = 1)"
      ],
      "execution_count": 0,
      "outputs": []
    },
    {
      "cell_type": "code",
      "metadata": {
        "id": "cUhViqBqzCrm",
        "colab_type": "code",
        "colab": {}
      },
      "source": [
        "# Scaling data\n",
        "x = (x_data - np.min(x_data)) / (np.max(x_data) - np.min(x_data)).values"
      ],
      "execution_count": 0,
      "outputs": []
    },
    {
      "cell_type": "code",
      "metadata": {
        "id": "LFOlgtGi-KXB",
        "colab_type": "code",
        "colab": {}
      },
      "source": [
        "#transpose matrices\n",
        "\n",
        "x_train, x_test, y_train, y_test = train_test_split(x,y,test_size = 0.3,random_state=0)\n",
        "x_train = x_train.T\n",
        "y_train = y_train.T\n",
        "x_test = x_test.T\n",
        "y_test = y_test.T"
      ],
      "execution_count": 0,
      "outputs": []
    },
    {
      "cell_type": "code",
      "metadata": {
        "id": "kgq_gdUhUZor",
        "colab_type": "code",
        "colab": {}
      },
      "source": [
        "ns_probs = [0 for _ in range(len(y_test.T))]"
      ],
      "execution_count": 0,
      "outputs": []
    },
    {
      "cell_type": "markdown",
      "metadata": {
        "id": "3Iwr_0Uh6BVz",
        "colab_type": "text"
      },
      "source": [
        "1. Naive Bayes Classifier"
      ]
    },
    {
      "cell_type": "code",
      "metadata": {
        "id": "0kUS_t4c-KZX",
        "colab_type": "code",
        "outputId": "7dc2e7e8-883b-464e-fef6-cd2a139d4f17",
        "colab": {
          "base_uri": "https://localhost:8080/",
          "height": 272
        }
      },
      "source": [
        "from sklearn.naive_bayes import GaussianNB\n",
        "nb_G = GaussianNB()\n",
        "nb_G = nb_G.fit(x_train.T, y_train.T)\n",
        "prediction = nb_G.predict(x_test.T)\n",
        "print(\"\\n Confusion Matrix \\n\",confusion_matrix(y_test.T,prediction))\n",
        "print(\"\\n Classification Report \\n\",classification_report(y_test.T, prediction))"
      ],
      "execution_count": 0,
      "outputs": [
        {
          "output_type": "stream",
          "text": [
            "\n",
            " Confusion Matrix \n",
            " [[5330 1509]\n",
            " [2775 3929]]\n",
            "\n",
            " Classification Report \n",
            "               precision    recall  f1-score   support\n",
            "\n",
            "           0       0.66      0.78      0.71      6839\n",
            "           1       0.72      0.59      0.65      6704\n",
            "\n",
            "    accuracy                           0.68     13543\n",
            "   macro avg       0.69      0.68      0.68     13543\n",
            "weighted avg       0.69      0.68      0.68     13543\n",
            "\n"
          ],
          "name": "stdout"
        }
      ]
    },
    {
      "cell_type": "code",
      "metadata": {
        "id": "YRKzacsOUmkU",
        "colab_type": "code",
        "outputId": "389db979-3a56-4023-f20c-ff194944e2dd",
        "colab": {
          "base_uri": "https://localhost:8080/"
        }
      },
      "source": [
        "from sklearn.naive_bayes import BernoulliNB\n",
        "nb_B = BernoulliNB()\n",
        "nb_B = nb_B.fit(x_train.T, y_train.T)\n",
        "prediction = nb_B.predict(x_test.T)\n",
        "print(\"\\n Confusion Matrix \\n\",confusion_matrix(y_test.T,prediction))\n",
        "print(\"\\n Classification Report \\n\",classification_report(y_test.T, prediction))"
      ],
      "execution_count": 0,
      "outputs": [
        {
          "output_type": "stream",
          "text": [
            "\n",
            " Confusion Matrix \n",
            " [[5416 1423]\n",
            " [4021 2683]]\n",
            "\n",
            " Classification Report \n",
            "               precision    recall  f1-score   support\n",
            "\n",
            "           0       0.57      0.79      0.67      6839\n",
            "           1       0.65      0.40      0.50      6704\n",
            "\n",
            "    accuracy                           0.60     13543\n",
            "   macro avg       0.61      0.60      0.58     13543\n",
            "weighted avg       0.61      0.60      0.58     13543\n",
            "\n"
          ],
          "name": "stdout"
        }
      ]
    },
    {
      "cell_type": "code",
      "metadata": {
        "id": "HxHcHPpAkXMf",
        "colab_type": "code",
        "outputId": "b9ca8088-dd15-41c5-8cf1-82d48a2d259f",
        "colab": {
          "base_uri": "https://localhost:8080/"
        }
      },
      "source": [
        "from sklearn.naive_bayes import MultinomialNB\n",
        "nb_M = MultinomialNB()\n",
        "nb_M = nb_M.fit(x_train.T, y_train.T)\n",
        "prediction = nb_M.predict(x_test.T)\n",
        "print(\"\\n Confusion Matrix \\n\",confusion_matrix(y_test.T,prediction))\n",
        "print(\"\\n Classification Report \\n\",classification_report(y_test.T, prediction))"
      ],
      "execution_count": 0,
      "outputs": [
        {
          "output_type": "stream",
          "text": [
            "\n",
            " Confusion Matrix \n",
            " [[5454 1385]\n",
            " [4018 2686]]\n",
            "\n",
            " Classification Report \n",
            "               precision    recall  f1-score   support\n",
            "\n",
            "           0       0.58      0.80      0.67      6839\n",
            "           1       0.66      0.40      0.50      6704\n",
            "\n",
            "    accuracy                           0.60     13543\n",
            "   macro avg       0.62      0.60      0.58     13543\n",
            "weighted avg       0.62      0.60      0.58     13543\n",
            "\n"
          ],
          "name": "stdout"
        }
      ]
    },
    {
      "cell_type": "code",
      "metadata": {
        "id": "doGw73FHW8aL",
        "colab_type": "code",
        "outputId": "988a31ff-5864-4233-f789-f6b561f09d9a",
        "colab": {
          "base_uri": "https://localhost:8080/",
          "height": 313
        }
      },
      "source": [
        "lr_probs = nb_G.predict_proba(x_test.T)\n",
        "lr_probs = lr_probs[:, 1]\n",
        "ns_auc = roc_auc_score(y_test.T, ns_probs)\n",
        "lr_auc = roc_auc_score(y_test.T, lr_probs)\n",
        "# summarize scores\n",
        "print('No Disease: ROC AUC=%.3f' % (ns_auc))\n",
        "print('Disease: ROC AUC=%.3f' % (lr_auc))\n",
        "# calculate roc curves\n",
        "ns_fpr, ns_tpr, _ = roc_curve(y_test.T, ns_probs)\n",
        "lr_fpr, lr_tpr, _ = roc_curve(y_test.T, lr_probs)\n",
        "# plot the roc curve for the model\n",
        "pyplot.plot(ns_fpr, ns_tpr, linestyle='--', label='No Disease')\n",
        "pyplot.plot(lr_fpr, lr_tpr, marker='.', label='Disease')\n",
        "# axis labels\n",
        "pyplot.xlabel('False Positive Rate')\n",
        "pyplot.ylabel('True Positive Rate')\n",
        "# show the legend\n",
        "pyplot.legend()\n",
        "# show the plot\n",
        "pyplot.show()"
      ],
      "execution_count": 0,
      "outputs": [
        {
          "output_type": "stream",
          "text": [
            "No Disease: ROC AUC=0.500\n",
            "Disease: ROC AUC=0.760\n"
          ],
          "name": "stdout"
        },
        {
          "output_type": "display_data",
          "data": {
            "image/png": "[encoded data removed]",
            "text/plain": [
              "<Figure size 432x288 with 1 Axes>"
            ]
          },
          "metadata": {
            "tags": []
          }
        }
      ]
    },
    {
      "cell_type": "markdown",
      "metadata": {
        "id": "wD028N7VLoZN",
        "colab_type": "text"
      },
      "source": [
        "**Analysis:** As Observed above the best performing classifier between Guassian Naive Bayes, Bernoulli Naive Bayes and Multinomial Naive Bayes is the Guassian Naive Bayes classifier. It has accuracy of 68% along with 68% recall and 69% precision.Therefore it is our best model."
      ]
    },
    {
      "cell_type": "markdown",
      "metadata": {
        "id": "huipvJOZ6vM2",
        "colab_type": "text"
      },
      "source": [
        "**Note:** For each algorithm i have followed the same approach:\n",
        "*   Step1: Running Base Model\n",
        "*   Step2: Tunning Hyperparameter and printing Best Parameter\n",
        "*   Step3: Training the model with best parameter and printing prediction results and classification report with confusion matrix\n",
        "*   Step4: Calculating AUROC and plotting ROC curve\n",
        "*   Step5: Detailed Explaination of the mentioned Algorithm\n",
        "\n",
        "\n",
        "\n",
        "\n",
        "\n",
        "\n",
        "\n",
        "\n",
        "\n",
        "\n",
        "\n",
        "\n"
      ]
    },
    {
      "cell_type": "markdown",
      "metadata": {
        "id": "5GR7hnmz6GwQ",
        "colab_type": "text"
      },
      "source": [
        "2. KNN Classifier"
      ]
    },
    {
      "cell_type": "code",
      "metadata": {
        "id": "rHBu6cnr-KaN",
        "colab_type": "code",
        "outputId": "99a92eea-3513-405c-c392-b64119f2d363",
        "colab": {
          "base_uri": "https://localhost:8080/",
          "height": 272
        }
      },
      "source": [
        "from sklearn.neighbors import KNeighborsClassifier\n",
        "knn = KNeighborsClassifier(n_neighbors=3)  \n",
        "knn = knn.fit(x_train.T, y_train.T)\n",
        "prediction = knn.predict(x_test.T)\n",
        "print(\"\\n Confusion Matrix \\n\",confusion_matrix(y_test.T,prediction))\n",
        "print(\"\\n Classification Report \\n\",classification_report(y_test.T, prediction))"
      ],
      "execution_count": 0,
      "outputs": [
        {
          "output_type": "stream",
          "text": [
            "\n",
            " Confusion Matrix \n",
            " [[4662 2177]\n",
            " [2149 4555]]\n",
            "\n",
            " Classification Report \n",
            "               precision    recall  f1-score   support\n",
            "\n",
            "           0       0.68      0.68      0.68      6839\n",
            "           1       0.68      0.68      0.68      6704\n",
            "\n",
            "    accuracy                           0.68     13543\n",
            "   macro avg       0.68      0.68      0.68     13543\n",
            "weighted avg       0.68      0.68      0.68     13543\n",
            "\n"
          ],
          "name": "stdout"
        }
      ]
    },
    {
      "cell_type": "code",
      "metadata": {
        "id": "svYzvvxy-KbM",
        "colab_type": "code",
        "outputId": "8533a6a5-7b1e-4435-a955-36d239c66970",
        "colab": {
          "base_uri": "https://localhost:8080/"
        }
      },
      "source": [
        "n_neighbors = list(range(1,30))\n",
        "#Convert to dictionary\n",
        "hyperparameters = dict( n_neighbors=n_neighbors)\n",
        "#Create new KNN object\n",
        "knn_2 = KNeighborsClassifier()\n",
        "#Use GridSearch\n",
        "clf = GridSearchCV(knn_2, hyperparameters, cv=10)\n",
        "#Fit the model\n",
        "best_model = clf.fit(x_train.T, y_train.T)\n",
        "grid_predictions = best_model.predict(x_test.T)\n",
        "#Print The value of best Hyperparameters\n",
        "print('Best n_neighbors:', best_model.best_estimator_.get_params()['n_neighbors'])"
      ],
      "execution_count": 0,
      "outputs": [
        {
          "output_type": "stream",
          "text": [
            "Best n_neighbors: 26\n"
          ],
          "name": "stdout"
        }
      ]
    },
    {
      "cell_type": "code",
      "metadata": {
        "id": "BxqMoUqG4mTE",
        "colab_type": "code",
        "outputId": "6efe48b7-68aa-45d9-b37e-254597350d0e",
        "colab": {
          "base_uri": "https://localhost:8080/"
        }
      },
      "source": [
        "knn_best = KNeighborsClassifier(n_neighbors=26)  \n",
        "knn_best = knn_best.fit(x_train.T, y_train.T)\n",
        "prediction = knn_best.predict(x_test.T)\n",
        "print(\"\\n Confusion Matrix \\n\",confusion_matrix(y_test.T,prediction))\n",
        "print(\"\\n Classification Report \\n\",classification_report(y_test.T, prediction))"
      ],
      "execution_count": 0,
      "outputs": [
        {
          "output_type": "stream",
          "text": [
            "\n",
            " Confusion Matrix \n",
            " [[5311 1528]\n",
            " [2176 4528]]\n",
            "\n",
            " Classification Report \n",
            "               precision    recall  f1-score   support\n",
            "\n",
            "           0       0.71      0.78      0.74      6839\n",
            "           1       0.75      0.68      0.71      6704\n",
            "\n",
            "    accuracy                           0.73     13543\n",
            "   macro avg       0.73      0.73      0.73     13543\n",
            "weighted avg       0.73      0.73      0.73     13543\n",
            "\n"
          ],
          "name": "stdout"
        }
      ]
    },
    {
      "cell_type": "code",
      "metadata": {
        "id": "bGuxTaA6WNWk",
        "colab_type": "code",
        "outputId": "473f447d-ae9d-48f8-ed55-249102e401ae",
        "colab": {
          "base_uri": "https://localhost:8080/"
        }
      },
      "source": [
        "lr_probs = knn_best.predict_proba(x_test.T)\n",
        "lr_probs = lr_probs[:, 1]\n",
        "ns_auc = roc_auc_score(y_test.T, ns_probs)\n",
        "lr_auc = roc_auc_score(y_test.T, lr_probs)\n",
        "# summarize scores\n",
        "print('No Disease: ROC AUC=%.3f' % (ns_auc))\n",
        "print('Disease: ROC AUC=%.3f' % (lr_auc))\n",
        "# calculate roc curves\n",
        "ns_fpr, ns_tpr, _ = roc_curve(y_test.T, ns_probs)\n",
        "lr_fpr, lr_tpr, _ = roc_curve(y_test.T, lr_probs)\n",
        "# plot the roc curve for the model\n",
        "pyplot.plot(ns_fpr, ns_tpr, linestyle='--', label='No Disease')\n",
        "pyplot.plot(lr_fpr, lr_tpr, marker='.', label='Disease')\n",
        "# axis labels\n",
        "pyplot.xlabel('False Positive Rate')\n",
        "pyplot.ylabel('True Positive Rate')\n",
        "# show the legend\n",
        "pyplot.legend()\n",
        "# show the plot\n",
        "pyplot.show()"
      ],
      "execution_count": 0,
      "outputs": [
        {
          "output_type": "stream",
          "text": [
            "No Disease: ROC AUC=0.500\n",
            "Disease: ROC AUC=0.787\n"
          ],
          "name": "stdout"
        },
        {
          "output_type": "display_data",
          "data": {
            "image/png": "[encoded data removed]",
            "text/plain": [
              "<Figure size 432x288 with 1 Axes>"
            ]
          },
          "metadata": {
            "tags": []
          }
        }
      ]
    },
    {
      "cell_type": "markdown",
      "metadata": {
        "id": "xP6x4I9dP69L",
        "colab_type": "text"
      },
      "source": [
        "**Analysis:** n_neighbors=1 means each sample is using itself as reference, that’s an overfitting case. For our data, increasing the number of neighbors improves the test scores After Tuning we get 26 as the best n_neighbour giving us accuracy of 73% higher than base model along with both precision and recall as 73%"
      ]
    },
    {
      "cell_type": "markdown",
      "metadata": {
        "id": "azAjr-Cl6Ng_",
        "colab_type": "text"
      },
      "source": [
        "3. Linear SVM"
      ]
    },
    {
      "cell_type": "code",
      "metadata": {
        "id": "TRPri7zf-Kbz",
        "colab_type": "code",
        "outputId": "714b0ec5-d45c-4ca8-dac6-117502c29a9e",
        "colab": {
          "base_uri": "https://localhost:8080/",
          "height": 272
        }
      },
      "source": [
        "from sklearn.svm import SVC\n",
        "svm_L = SVC(kernel='linear')\n",
        "svm_L = svm_L.fit(x_train.T, y_train.T)\n",
        "predictions = svm_L.predict(x_test.T)\n",
        "print(\"\\n Confusion Matrix \\n\",confusion_matrix(y_test.T,predictions))\n",
        "print(\"\\n Classification report \\n\",classification_report(y_test.T,predictions))"
      ],
      "execution_count": 0,
      "outputs": [
        {
          "output_type": "stream",
          "text": [
            "\n",
            " Confusion Matrix \n",
            " [[5608 1231]\n",
            " [2422 4282]]\n",
            "\n",
            " Classification report \n",
            "               precision    recall  f1-score   support\n",
            "\n",
            "           0       0.70      0.82      0.75      6839\n",
            "           1       0.78      0.64      0.70      6704\n",
            "\n",
            "    accuracy                           0.73     13543\n",
            "   macro avg       0.74      0.73      0.73     13543\n",
            "weighted avg       0.74      0.73      0.73     13543\n",
            "\n"
          ],
          "name": "stdout"
        }
      ]
    },
    {
      "cell_type": "code",
      "metadata": {
        "id": "ZUHfgtfb7PN_",
        "colab_type": "code",
        "outputId": "1c9ae255-e48d-4f84-e722-954837466e49",
        "colab": {
          "base_uri": "https://localhost:8080/"
        }
      },
      "source": [
        "param_grid = {'C': [0.1,1,10], 'kernel': ['linear']} \n",
        "grid = GridSearchCV(SVC(),param_grid,n_jobs=3)\n",
        "grid = grid.fit(x_train.T,y_train.T)\n",
        "grid_predictions = grid.predict(x_test.T)\n",
        "print(\"\\n Best Parameters \\n\",grid.best_params_)"
      ],
      "execution_count": 0,
      "outputs": [
        {
          "output_type": "stream",
          "text": [
            "\n",
            " Best Parameters \n",
            " {'C': 0.1, 'kernel': 'linear'}\n"
          ],
          "name": "stdout"
        }
      ]
    },
    {
      "cell_type": "code",
      "metadata": {
        "id": "RVEPGx1jIkdu",
        "colab_type": "code",
        "outputId": "1f8cc04b-528c-4e87-b8bc-85a6e09774ba",
        "colab": {
          "base_uri": "https://localhost:8080/"
        }
      },
      "source": [
        "from sklearn.svm import SVC\n",
        "svm_Best = SVC(C=0.1,kernel='linear',probability=True)\n",
        "svm_Best = svm_Best.fit(x_train.T, y_train.T)\n",
        "predictions = svm_Best.predict(x_test.T)\n",
        "print(\"\\n Confusion Matrix \\n\",confusion_matrix(y_test.T,predictions))\n",
        "print(\"\\n Classification report \\n\",classification_report(y_test.T,predictions))"
      ],
      "execution_count": 0,
      "outputs": [
        {
          "output_type": "stream",
          "text": [
            "\n",
            " Confusion Matrix \n",
            " [[5615 1224]\n",
            " [2429 4275]]\n",
            "\n",
            " Classification report \n",
            "               precision    recall  f1-score   support\n",
            "\n",
            "           0       0.70      0.82      0.75      6839\n",
            "           1       0.78      0.64      0.70      6704\n",
            "\n",
            "    accuracy                           0.73     13543\n",
            "   macro avg       0.74      0.73      0.73     13543\n",
            "weighted avg       0.74      0.73      0.73     13543\n",
            "\n"
          ],
          "name": "stdout"
        }
      ]
    },
    {
      "cell_type": "code",
      "metadata": {
        "id": "y91IBCBDXKtZ",
        "colab_type": "code",
        "outputId": "4e25aa58-7edd-40e3-bf48-3b09d37a00e7",
        "colab": {
          "base_uri": "https://localhost:8080/"
        }
      },
      "source": [
        "lr_probs = svm_Best.predict_proba(x_test.T)\n",
        "lr_probs = lr_probs[:, 1]\n",
        "ns_auc = roc_auc_score(y_test.T, ns_probs)\n",
        "lr_auc = roc_auc_score(y_test.T, lr_probs)\n",
        "# summarize scores\n",
        "print('No Disease: ROC AUC=%.3f' % (ns_auc))\n",
        "print('Disease: ROC AUC=%.3f' % (lr_auc))\n",
        "# calculate roc curves\n",
        "ns_fpr, ns_tpr, _ = roc_curve(y_test.T, ns_probs)\n",
        "lr_fpr, lr_tpr, _ = roc_curve(y_test.T, lr_probs)\n",
        "# plot the roc curve for the model\n",
        "pyplot.plot(ns_fpr, ns_tpr, linestyle='--', label='No Disease')\n",
        "pyplot.plot(lr_fpr, lr_tpr, marker='.', label='Disease')\n",
        "# axis labels\n",
        "pyplot.xlabel('False Positive Rate')\n",
        "pyplot.ylabel('True Positive Rate')\n",
        "# show the legend\n",
        "pyplot.legend()\n",
        "# show the plot\n",
        "pyplot.show()"
      ],
      "execution_count": 0,
      "outputs": [
        {
          "output_type": "stream",
          "text": [
            "No Disease: ROC AUC=0.500\n",
            "Disease: ROC AUC=0.794\n"
          ],
          "name": "stdout"
        },
        {
          "output_type": "display_data",
          "data": {
            "image/png": "[encoded data removed]",
            "text/plain": [
              "<Figure size 432x288 with 1 Axes>"
            ]
          },
          "metadata": {
            "tags": []
          }
        }
      ]
    },
    {
      "cell_type": "markdown",
      "metadata": {
        "id": "8qV5Z2rZQYi-",
        "colab_type": "text"
      },
      "source": [
        "**Analysis:** Support Vectors Classifier tries to find the best hyperplane to separate the different classes by maximizing the distance between sample points and the hyperplane. Using linear will use a linear hyperplane (a line in the case of 2D data). C is the penalty parameter of the error term. It controls the trade off between smooth decision boundary and classifying the training points correctly. Increasing C values may lead to overfitting the training data. Therefore Applying the best parameter which is C = 0.1 for Linear SVM we get 73% accuracy along with 73% recall and 74% precision."
      ]
    },
    {
      "cell_type": "markdown",
      "metadata": {
        "id": "4mbgK3rX6S3Y",
        "colab_type": "text"
      },
      "source": [
        "4. NON Linear SVM"
      ]
    },
    {
      "cell_type": "code",
      "metadata": {
        "id": "UpVvqG0Z-Kco",
        "colab_type": "code",
        "outputId": "3497c9f1-5923-4d72-ec86-45f9b566a5d7",
        "colab": {
          "base_uri": "https://localhost:8080/",
          "height": 272
        }
      },
      "source": [
        "svm_NL = SVC(kernel='rbf')\n",
        "svm_NL.fit(x_train.T, y_train.T)\n",
        "predictions = svm_NL.predict(x_test.T)\n",
        "print(\"\\n Confusion Matrix \\n\",confusion_matrix(y_test.T,predictions))\n",
        "print(\"\\n Classification report \\n\",classification_report(y_test.T,predictions))"
      ],
      "execution_count": 0,
      "outputs": [
        {
          "output_type": "stream",
          "text": [
            "\n",
            " Confusion Matrix \n",
            " [[5459 1380]\n",
            " [2223 4481]]\n",
            "\n",
            " Classification report \n",
            "               precision    recall  f1-score   support\n",
            "\n",
            "           0       0.71      0.80      0.75      6839\n",
            "           1       0.76      0.67      0.71      6704\n",
            "\n",
            "    accuracy                           0.73     13543\n",
            "   macro avg       0.74      0.73      0.73     13543\n",
            "weighted avg       0.74      0.73      0.73     13543\n",
            "\n"
          ],
          "name": "stdout"
        }
      ]
    },
    {
      "cell_type": "code",
      "metadata": {
        "id": "TM7MiI_Aw3ar",
        "colab_type": "code",
        "outputId": "3cf271f0-e082-4447-bb15-9e93d49bec0e",
        "colab": {
          "base_uri": "https://localhost:8080/"
        }
      },
      "source": [
        "param_grid = {'C': [0.1,1,10],'gamma': [1,0.1,0.01], 'kernel': ['rbf']} \n",
        "grid = GridSearchCV(SVC(),param_grid,n_jobs=3)\n",
        "grid = grid.fit(x_train.T,y_train.T)\n",
        "grid_predictions = grid.predict(x_test.T)\n",
        "print(\"\\n Best Parameters \\n\",grid.best_params_)"
      ],
      "execution_count": 0,
      "outputs": [
        {
          "output_type": "stream",
          "text": [
            "\n",
            " Best Parameters \n",
            " {'C': 10, 'gamma': 0.1, 'kernel': 'rbf'}\n"
          ],
          "name": "stdout"
        }
      ]
    },
    {
      "cell_type": "code",
      "metadata": {
        "id": "v0kMpvmJMvNk",
        "colab_type": "code",
        "outputId": "0564130a-d4e2-49b6-8813-0cc3f81e98da",
        "colab": {
          "base_uri": "https://localhost:8080/"
        }
      },
      "source": [
        "svm_NL_Best = SVC(C=10,gamma=0.1,kernel='rbf',probability=True)\n",
        "svm_NL_Best.fit(x_train.T, y_train.T)\n",
        "predictions = svm_NL_Best.predict(x_test.T)\n",
        "print(\"\\n Confusion Matrix \\n\",confusion_matrix(y_test.T,predictions))\n",
        "print(\"\\n Classification report \\n\",classification_report(y_test.T,predictions))"
      ],
      "execution_count": 0,
      "outputs": [
        {
          "output_type": "stream",
          "text": [
            "\n",
            " Confusion Matrix \n",
            " [[5469 1370]\n",
            " [2226 4478]]\n",
            "\n",
            " Classification report \n",
            "               precision    recall  f1-score   support\n",
            "\n",
            "           0       0.71      0.80      0.75      6839\n",
            "           1       0.77      0.67      0.71      6704\n",
            "\n",
            "    accuracy                           0.73     13543\n",
            "   macro avg       0.74      0.73      0.73     13543\n",
            "weighted avg       0.74      0.73      0.73     13543\n",
            "\n"
          ],
          "name": "stdout"
        }
      ]
    },
    {
      "cell_type": "code",
      "metadata": {
        "id": "imzhmJf6Xkfw",
        "colab_type": "code",
        "outputId": "4c84d37b-3832-4707-992e-5fc8a15ece3c",
        "colab": {
          "base_uri": "https://localhost:8080/"
        }
      },
      "source": [
        "lr_probs = svm_NL_Best.predict_proba(x_test.T)\n",
        "lr_probs = lr_probs[:, 1]\n",
        "ns_auc = roc_auc_score(y_test.T, ns_probs)\n",
        "lr_auc = roc_auc_score(y_test.T, lr_probs)\n",
        "# summarize scores\n",
        "print('No Disease: ROC AUC=%.3f' % (ns_auc))\n",
        "print('Disease: ROC AUC=%.3f' % (lr_auc))\n",
        "# calculate roc curves\n",
        "ns_fpr, ns_tpr, _ = roc_curve(y_test.T, ns_probs)\n",
        "lr_fpr, lr_tpr, _ = roc_curve(y_test.T, lr_probs)\n",
        "# plot the roc curve for the model\n",
        "pyplot.plot(ns_fpr, ns_tpr, linestyle='--', label='No Disease')\n",
        "pyplot.plot(lr_fpr, lr_tpr, marker='.', label='Disease')\n",
        "# axis labels\n",
        "pyplot.xlabel('False Positive Rate')\n",
        "pyplot.ylabel('True Positive Rate')\n",
        "# show the legend\n",
        "pyplot.legend()\n",
        "# show the plot\n",
        "pyplot.show()"
      ],
      "execution_count": 0,
      "outputs": [
        {
          "output_type": "stream",
          "text": [
            "No Disease: ROC AUC=0.500\n",
            "Disease: ROC AUC=0.794\n"
          ],
          "name": "stdout"
        },
        {
          "output_type": "display_data",
          "data": {
            "image/png": "[encoded data removed]",
            "text/plain": [
              "<Figure size 432x288 with 1 Axes>"
            ]
          },
          "metadata": {
            "tags": []
          }
        }
      ]
    },
    {
      "cell_type": "markdown",
      "metadata": {
        "id": "FVj0ueaXRDU8",
        "colab_type": "text"
      },
      "source": [
        "**Analysis:** rbf uses the non linear hyper plane. gamma is a parameter for non linear hyperplanes. The higher the gamma value it tries to exactly fit the training data set. Based on the above observed values by tuning hyperparameters we get more accuracy, recall and precision than the base model. The tuned model for Non-Linear SVM performs with an accuracy of 73% with recall as 73% and precision as 74%."
      ]
    },
    {
      "cell_type": "markdown",
      "metadata": {
        "id": "AWs289LH6XFA",
        "colab_type": "text"
      },
      "source": [
        "5. Random Forest Classifier"
      ]
    },
    {
      "cell_type": "code",
      "metadata": {
        "id": "PGayRJ7v-Kdj",
        "colab_type": "code",
        "outputId": "704d73ca-9020-4cbf-874e-79ea22665746",
        "colab": {
          "base_uri": "https://localhost:8080/",
          "height": 272
        }
      },
      "source": [
        "from sklearn.ensemble import RandomForestClassifier\n",
        "rf = RandomForestClassifier()\n",
        "rf.fit(x_train.T, y_train.T)\n",
        "predictions = rf.predict(x_test.T)\n",
        "print(\"\\n Confusion Matrix \\n\",confusion_matrix(y_test.T,predictions))\n",
        "print(\"\\n Classification Report \\n\",classification_report(y_test.T,predictions))"
      ],
      "execution_count": 0,
      "outputs": [
        {
          "output_type": "stream",
          "text": [
            "\n",
            " Confusion Matrix \n",
            " [[4855 1984]\n",
            " [1991 4713]]\n",
            "\n",
            " Classification Report \n",
            "               precision    recall  f1-score   support\n",
            "\n",
            "           0       0.71      0.71      0.71      6839\n",
            "           1       0.70      0.70      0.70      6704\n",
            "\n",
            "    accuracy                           0.71     13543\n",
            "   macro avg       0.71      0.71      0.71     13543\n",
            "weighted avg       0.71      0.71      0.71     13543\n",
            "\n"
          ],
          "name": "stdout"
        }
      ]
    },
    {
      "cell_type": "code",
      "metadata": {
        "id": "igZNW9AUdRHY",
        "colab_type": "code",
        "colab": {
          "base_uri": "https://localhost:8080/",
          "height": 88
        },
        "outputId": "3191be91-1c51-429c-e080-99cfa6e15576"
      },
      "source": [
        "from sklearn.ensemble import RandomForestClassifier\n",
        "param_grid = { 'bootstrap': [True],\n",
        "    'max_depth': [10, 50, 100],\n",
        "    'max_features': [2, 3],\n",
        "    'min_samples_leaf': [3, 5],\n",
        "    'min_samples_split': [8, 10, 12],\n",
        "    'n_estimators': [100, 200, 300]} \n",
        "grid = GridSearchCV(RandomForestClassifier(),param_grid,n_jobs=3)\n",
        "grid = grid.fit(x_train.T,y_train.T)\n",
        "grid_predictions = grid.predict(x_test.T)\n",
        "print(\"\\n Best Parameters \\n\",grid.best_params_)"
      ],
      "execution_count": 61,
      "outputs": [
        {
          "output_type": "stream",
          "text": [
            "\n",
            " Best Parameters \n",
            " {'bootstrap': True, 'max_depth': 100, 'max_features': 2, 'min_samples_leaf': 5, 'min_samples_split': 12, 'n_estimators': 300}\n"
          ],
          "name": "stdout"
        }
      ]
    },
    {
      "cell_type": "code",
      "metadata": {
        "id": "0S7tySqSupIB",
        "colab_type": "code",
        "colab": {
          "base_uri": "https://localhost:8080/",
          "height": 272
        },
        "outputId": "1e5ce9d0-c881-49ee-b6c8-c27cfa1db569"
      },
      "source": [
        "rf_best = RandomForestClassifier(bootstrap=True,max_depth=100,max_features=3,min_samples_leaf=5,min_samples_split=12,n_estimators=300)\n",
        "rf_best.fit(x_train.T, y_train.T)\n",
        "predictions = rf_best.predict(x_test.T)\n",
        "print(\"\\n Confusion Matrix \\n\",confusion_matrix(y_test.T,predictions))\n",
        "print(\"\\n Classification Report \\n\",classification_report(y_test.T,predictions))"
      ],
      "execution_count": 62,
      "outputs": [
        {
          "output_type": "stream",
          "text": [
            "\n",
            " Confusion Matrix \n",
            " [[5275 1564]\n",
            " [2038 4666]]\n",
            "\n",
            " Classification Report \n",
            "               precision    recall  f1-score   support\n",
            "\n",
            "           0       0.72      0.77      0.75      6839\n",
            "           1       0.75      0.70      0.72      6704\n",
            "\n",
            "    accuracy                           0.73     13543\n",
            "   macro avg       0.74      0.73      0.73     13543\n",
            "weighted avg       0.73      0.73      0.73     13543\n",
            "\n"
          ],
          "name": "stdout"
        }
      ]
    },
    {
      "cell_type": "code",
      "metadata": {
        "id": "WYKVHZpTvfnt",
        "colab_type": "code",
        "colab": {
          "base_uri": "https://localhost:8080/",
          "height": 313
        },
        "outputId": "f083a947-54c0-4d06-8ca8-77ebec2ed67f"
      },
      "source": [
        "lr_probs = rf_best.predict_proba(x_test.T)\n",
        "lr_probs = lr_probs[:, 1]\n",
        "ns_auc = roc_auc_score(y_test.T, ns_probs)\n",
        "lr_auc = roc_auc_score(y_test.T, lr_probs)\n",
        "# summarize scores\n",
        "print('No Disease: ROC AUC=%.3f' % (ns_auc))\n",
        "print('Disease: ROC AUC=%.3f' % (lr_auc))\n",
        "# calculate roc curves\n",
        "ns_fpr, ns_tpr, _ = roc_curve(y_test.T, ns_probs)\n",
        "lr_fpr, lr_tpr, _ = roc_curve(y_test.T, lr_probs)\n",
        "# plot the roc curve for the model\n",
        "pyplot.plot(ns_fpr, ns_tpr, linestyle='--', label='No Disease')\n",
        "pyplot.plot(lr_fpr, lr_tpr, marker='.', label='Disease')\n",
        "# axis labels\n",
        "pyplot.xlabel('False Positive Rate')\n",
        "pyplot.ylabel('True Positive Rate')\n",
        "# show the legend\n",
        "pyplot.legend()\n",
        "# show the plot\n",
        "pyplot.show()"
      ],
      "execution_count": 63,
      "outputs": [
        {
          "output_type": "stream",
          "text": [
            "No Disease: ROC AUC=0.500\n",
            "Disease: ROC AUC=0.800\n"
          ],
          "name": "stdout"
        },
        {
          "output_type": "display_data",
          "data": {
            "image/png": "[encoded data removed]",
            "text/plain": [
              "<Figure size 432x288 with 1 Axes>"
            ]
          },
          "metadata": {
            "tags": []
          }
        }
      ]
    },
    {
      "cell_type": "markdown",
      "metadata": {
        "id": "mmfYWIJBRfKA",
        "colab_type": "text"
      },
      "source": [
        "**Analysis:** A random forest is a meta estimator that fits a number of decision tree classifiers on various sub-samples of the dataset and use averaging to improve the predictive accuracy and control over-fitting.n_estimators represents the number of trees in the forest. Usually the higher the number of trees the better to learn the data. However, adding a lot of trees can slow down the training process considerably. max_depth represents the depth of each tree in the forest. The deeper the tree, the more splits it has and it captures more information about the data. As Depth increases there is a chance of overfitting. min_samples_split represents the minimum number of samples required to split an internal node.When we increase this parameter, each tree in the forest becomes more constrained as it has to consider more samples at each node. There is a chance of underfitting when we require all of the sample at each node.min_samples_leaf is The minimum number of samples required to be at a leaf node. This parameter is similar to min_samples_splits, however, this describe the minimum number of samples of samples at the leafs, the base of the tree.Increasing this value can cause underfitting.max_features represents the number of features to consider when looking for the best split. As this value increases there is a chance of overfitting. After tuning random forest model it runs with an accuracy of 73% with a precision of 74% and recall as 73%."
      ]
    },
    {
      "cell_type": "markdown",
      "metadata": {
        "id": "8SfT3oCG6cL_",
        "colab_type": "text"
      },
      "source": [
        "6. Gradient Boosting Classifier"
      ]
    },
    {
      "cell_type": "code",
      "metadata": {
        "id": "lkmem5ye-KeQ",
        "colab_type": "code",
        "colab": {
          "base_uri": "https://localhost:8080/",
          "height": 272
        },
        "outputId": "dca9a566-d4dd-4520-b5e6-21b6b01b2af8"
      },
      "source": [
        "from sklearn.ensemble import GradientBoostingClassifier\n",
        "gradient_boosting = GradientBoostingClassifier(n_estimators = 100, max_depth = 10, learning_rate = 1.0)\n",
        "gradient_boosting.fit(x_train.T, y_train.T)\n",
        "predictions = gradient_boosting.predict(x_test.T)\n",
        "print(\"\\n Confusion Matrix \\n\",confusion_matrix(y_test.T,predictions))\n",
        "print(\"\\n Classification Report \\n\",classification_report(y_test.T,predictions))"
      ],
      "execution_count": 64,
      "outputs": [
        {
          "output_type": "stream",
          "text": [
            "\n",
            " Confusion Matrix \n",
            " [[4478 2361]\n",
            " [2243 4461]]\n",
            "\n",
            " Classification Report \n",
            "               precision    recall  f1-score   support\n",
            "\n",
            "           0       0.67      0.65      0.66      6839\n",
            "           1       0.65      0.67      0.66      6704\n",
            "\n",
            "    accuracy                           0.66     13543\n",
            "   macro avg       0.66      0.66      0.66     13543\n",
            "weighted avg       0.66      0.66      0.66     13543\n",
            "\n"
          ],
          "name": "stdout"
        }
      ]
    },
    {
      "cell_type": "code",
      "metadata": {
        "id": "yfxyvec6lR4A",
        "colab_type": "code",
        "colab": {
          "base_uri": "https://localhost:8080/",
          "height": 122
        },
        "outputId": "bbb8abd6-0200-4f35-f1d8-0330a45cad29"
      },
      "source": [
        "param_grid = {'n_estimators': [100, 200, 300],\n",
        "    'max_depth': [10, 80, 90],\n",
        "    'learning_rate': [1.0,3.0,10.0]} \n",
        "grid = GridSearchCV(GradientBoostingClassifier(),param_grid,n_jobs=3)\n",
        "grid = grid.fit(x_train.T,y_train.T)\n",
        "grid_predictions = grid.predict(x_test.T)\n",
        "print(\"\\n Best Parameters \\n\",grid.best_params_)"
      ],
      "execution_count": 65,
      "outputs": [
        {
          "output_type": "stream",
          "text": [
            "/usr/local/lib/python3.6/dist-packages/joblib/externals/loky/process_executor.py:706: UserWarning: A worker stopped while some jobs were given to the executor. This can be caused by a too short worker timeout or by a memory leak.\n",
            "  \"timeout or by a memory leak.\", UserWarning\n"
          ],
          "name": "stderr"
        },
        {
          "output_type": "stream",
          "text": [
            "\n",
            " Best Parameters \n",
            " {'learning_rate': 1.0, 'max_depth': 90, 'n_estimators': 300}\n"
          ],
          "name": "stdout"
        }
      ]
    },
    {
      "cell_type": "code",
      "metadata": {
        "id": "U0ehwmSj3cRV",
        "colab_type": "code",
        "colab": {
          "base_uri": "https://localhost:8080/",
          "height": 272
        },
        "outputId": "ca9b72ea-2df0-4daf-edff-bd6bf5ce1f36"
      },
      "source": [
        "gb_best = GradientBoostingClassifier(n_estimators=300,max_depth=90,learning_rate=1.0)\n",
        "gb_best = gb_best.fit(x_train.T, y_train.T)\n",
        "predictions = gb_best.predict(x_test.T)\n",
        "print(\"\\n Confusion Matrix \\n\",confusion_matrix(y_test.T,predictions))\n",
        "print(\"\\n Classification Report \\n\",classification_report(y_test.T,predictions))"
      ],
      "execution_count": 66,
      "outputs": [
        {
          "output_type": "stream",
          "text": [
            "\n",
            " Confusion Matrix \n",
            " [[4855 1984]\n",
            " [2429 4275]]\n",
            "\n",
            " Classification Report \n",
            "               precision    recall  f1-score   support\n",
            "\n",
            "           0       0.67      0.71      0.69      6839\n",
            "           1       0.68      0.64      0.66      6704\n",
            "\n",
            "    accuracy                           0.67     13543\n",
            "   macro avg       0.67      0.67      0.67     13543\n",
            "weighted avg       0.67      0.67      0.67     13543\n",
            "\n"
          ],
          "name": "stdout"
        }
      ]
    },
    {
      "cell_type": "code",
      "metadata": {
        "id": "997ZDCgKIjCL",
        "colab_type": "code",
        "colab": {
          "base_uri": "https://localhost:8080/",
          "height": 313
        },
        "outputId": "29792f27-1448-4c4a-c06c-2ec63dd5c294"
      },
      "source": [
        "lr_probs = gb_best.predict_proba(x_test.T)\n",
        "lr_probs = lr_probs[:, 1]\n",
        "ns_auc = roc_auc_score(y_test.T, ns_probs)\n",
        "lr_auc = roc_auc_score(y_test.T, lr_probs)\n",
        "# summarize scores\n",
        "print('No Disease: ROC AUC=%.3f' % (ns_auc))\n",
        "print('Disease: ROC AUC=%.3f' % (lr_auc))\n",
        "# calculate roc curves\n",
        "ns_fpr, ns_tpr, _ = roc_curve(y_test.T, ns_probs)\n",
        "lr_fpr, lr_tpr, _ = roc_curve(y_test.T, lr_probs)\n",
        "# plot the roc curve for the model\n",
        "pyplot.plot(ns_fpr, ns_tpr, linestyle='--', label='No Disease')\n",
        "pyplot.plot(lr_fpr, lr_tpr, marker='.', label='Disease')\n",
        "# axis labels\n",
        "pyplot.xlabel('False Positive Rate')\n",
        "pyplot.ylabel('True Positive Rate')\n",
        "# show the legend\n",
        "pyplot.legend()\n",
        "# show the plot\n",
        "pyplot.show()"
      ],
      "execution_count": 67,
      "outputs": [
        {
          "output_type": "stream",
          "text": [
            "No Disease: ROC AUC=0.500\n",
            "Disease: ROC AUC=0.714\n"
          ],
          "name": "stdout"
        },
        {
          "output_type": "display_data",
          "data": {
            "image/png": "[encoded data removed]",
            "text/plain": [
              "<Figure size 432x288 with 1 Axes>"
            ]
          },
          "metadata": {
            "tags": []
          }
        }
      ]
    },
    {
      "cell_type": "markdown",
      "metadata": {
        "id": "FZ_7EaIVTOap",
        "colab_type": "text"
      },
      "source": [
        "**Analysis:** GB builds an additive model in a forward stage-wise fashion; it allows for the optimization of arbitrary differentiable loss functions. Binary classification is a special case where only a single regression tree is induced. learning rate shrinks the contribution of each tree by learning_rate. Using a high learning rate results in overfitting.n_estimators represents the number of trees in the forest. Usually the higher the number of trees the better to learn the data. Increasing the number of estimators may result in overfitting.max_depth This indicates how deep the built tree can be. The deeper the tree, the more splits it has and it captures more information about how the data. model overfits for large depth values. After getting the best hyper parameters for Gradient bossting classifier , the model performs with an accuracy of 67%, showing 67% precision and 67% recall."
      ]
    },
    {
      "cell_type": "code",
      "metadata": {
        "id": "Y7KC5X79Ro7q",
        "colab_type": "code",
        "colab": {}
      },
      "source": [
        "hyper = pd.DataFrame(data=None, index= ['Accuracy','Precision','Recall','F1_Score','AUC_Score'],columns=['NBC','KNN','SVM','Non_linear_SVM','RF','GBC'])"
      ],
      "execution_count": 0,
      "outputs": []
    },
    {
      "cell_type": "code",
      "metadata": {
        "id": "bdPiJ57S-KgD",
        "colab_type": "code",
        "colab": {}
      },
      "source": [
        "hyper['NBC']= [0.68,0.69,0.68,0.68,0.760]\n",
        "hyper['KNN'] = [0.73,0.73,0.73,0.73,0.787] \n",
        "hyper['SVM']=[0.73,0.74,0.73,0.73,0.794]\n",
        "hyper['Non_linear_SVM']=[0.73,0.74,0.73,0.73,0.794]\n",
        "hyper['RF'] = [0.73,0.74,0.73,0.73,0.800]\n",
        "hyper['GBC'] = [0.67,0.67,0.67,0.67,0.714]"
      ],
      "execution_count": 0,
      "outputs": []
    },
    {
      "cell_type": "code",
      "metadata": {
        "id": "A3vB4kAz-Kgx",
        "colab_type": "code",
        "colab": {
          "base_uri": "https://localhost:8080/",
          "height": 204
        },
        "outputId": "fa2aa960-48e1-4cbf-b130-a50ad9fb505d"
      },
      "source": [
        "hyper"
      ],
      "execution_count": 79,
      "outputs": [
        {
          "output_type": "execute_result",
          "data": {
            "text/html": [
              "<div>\n",
              "<style scoped>\n",
              "    .dataframe tbody tr th:only-of-type {\n",
              "        vertical-align: middle;\n",
              "    }\n",
              "\n",
              "    .dataframe tbody tr th {\n",
              "        vertical-align: top;\n",
              "    }\n",
              "\n",
              "    .dataframe thead th {\n",
              "        text-align: right;\n",
              "    }\n",
              "</style>\n",
              "<table border=\"1\" class=\"dataframe\">\n",
              "  <thead>\n",
              "    <tr style=\"text-align: right;\">\n",
              "      <th></th>\n",
              "      <th>NBC</th>\n",
              "      <th>KNN</th>\n",
              "      <th>SVM</th>\n",
              "      <th>Non_linear_SVM</th>\n",
              "      <th>RF</th>\n",
              "      <th>GBC</th>\n",
              "    </tr>\n",
              "  </thead>\n",
              "  <tbody>\n",
              "    <tr>\n",
              "      <th>Accuracy</th>\n",
              "      <td>0.68</td>\n",
              "      <td>0.730</td>\n",
              "      <td>0.730</td>\n",
              "      <td>0.730</td>\n",
              "      <td>0.73</td>\n",
              "      <td>0.670</td>\n",
              "    </tr>\n",
              "    <tr>\n",
              "      <th>Precision</th>\n",
              "      <td>0.69</td>\n",
              "      <td>0.730</td>\n",
              "      <td>0.740</td>\n",
              "      <td>0.740</td>\n",
              "      <td>0.74</td>\n",
              "      <td>0.670</td>\n",
              "    </tr>\n",
              "    <tr>\n",
              "      <th>Recall</th>\n",
              "      <td>0.68</td>\n",
              "      <td>0.730</td>\n",
              "      <td>0.730</td>\n",
              "      <td>0.730</td>\n",
              "      <td>0.73</td>\n",
              "      <td>0.670</td>\n",
              "    </tr>\n",
              "    <tr>\n",
              "      <th>F1_Score</th>\n",
              "      <td>0.68</td>\n",
              "      <td>0.730</td>\n",
              "      <td>0.730</td>\n",
              "      <td>0.730</td>\n",
              "      <td>0.73</td>\n",
              "      <td>0.670</td>\n",
              "    </tr>\n",
              "    <tr>\n",
              "      <th>AUC_Score</th>\n",
              "      <td>0.76</td>\n",
              "      <td>0.787</td>\n",
              "      <td>0.794</td>\n",
              "      <td>0.794</td>\n",
              "      <td>0.80</td>\n",
              "      <td>0.714</td>\n",
              "    </tr>\n",
              "  </tbody>\n",
              "</table>\n",
              "</div>"
            ],
            "text/plain": [
              "            NBC    KNN    SVM  Non_linear_SVM    RF    GBC\n",
              "Accuracy   0.68  0.730  0.730           0.730  0.73  0.670\n",
              "Precision  0.69  0.730  0.740           0.740  0.74  0.670\n",
              "Recall     0.68  0.730  0.730           0.730  0.73  0.670\n",
              "F1_Score   0.68  0.730  0.730           0.730  0.73  0.670\n",
              "AUC_Score  0.76  0.787  0.794           0.794  0.80  0.714"
            ]
          },
          "metadata": {
            "tags": []
          },
          "execution_count": 79
        }
      ]
    },
    {
      "cell_type": "markdown",
      "metadata": {
        "id": "S5tjKku4Tul2",
        "colab_type": "text"
      },
      "source": [
        "**Analysis:** The above table shows us the comparison between performance metrics for all the algorithms. \n",
        "As train data set contains equal number of patients having disease and not having disease, the best measure in performance evaluation method would be Accuracy and Area under curve score. Our aim is to also reduce the True Negative and increase the recall.\n",
        "Therefore by comparing Accuracy, Precision,Recall and AUC_score among all the above models, Random Forest Classifier is the best peroforming model with an accuracy of 73%, has high precision and high recall among the others which is 74% and 73%.The Random Forest has high AUC score which is 0.8 which explains that Random forest predictions are 80% correct which is highest among all the other models.  "
      ]
    },
    {
      "cell_type": "markdown",
      "metadata": {
        "id": "SmbJQSg5tO5u",
        "colab_type": "text"
      },
      "source": [
        "#Section 3: Prediction and interpretation "
      ]
    },
    {
      "cell_type": "code",
      "metadata": {
        "id": "AXtmJHMtKN7p",
        "colab_type": "code",
        "colab": {
          "base_uri": "https://localhost:8080/",
          "height": 334
        },
        "outputId": "76de1850-03c3-44be-9a56-62e3bd7a127d"
      },
      "source": [
        "df_test = pd.read_csv('Disease Prediction Testing.csv')\n",
        "df_test.set_index('ID',inplace = True)\n",
        "a = pd.get_dummies(df_test['Gender'], prefix = \"Gender_\")\n",
        "b = pd.get_dummies(df_test['Cholesterol'], prefix = \"Cholesterol_\")\n",
        "c = pd.get_dummies(df_test['Glucose'], prefix = \"Glucose_\")\n",
        "frames = [df_test, a, b, c]\n",
        "df_test = pd.concat(frames, axis = 1)\n",
        "df_test = df_test.drop(columns = ['Gender', 'Cholesterol', 'Glucose'])\n",
        "df_test.describe()"
      ],
      "execution_count": 71,
      "outputs": [
        {
          "output_type": "execute_result",
          "data": {
            "text/html": [
              "<div>\n",
              "<style scoped>\n",
              "    .dataframe tbody tr th:only-of-type {\n",
              "        vertical-align: middle;\n",
              "    }\n",
              "\n",
              "    .dataframe tbody tr th {\n",
              "        vertical-align: top;\n",
              "    }\n",
              "\n",
              "    .dataframe thead th {\n",
              "        text-align: right;\n",
              "    }\n",
              "</style>\n",
              "<table border=\"1\" class=\"dataframe\">\n",
              "  <thead>\n",
              "    <tr style=\"text-align: right;\">\n",
              "      <th></th>\n",
              "      <th>Age</th>\n",
              "      <th>Height</th>\n",
              "      <th>Weight</th>\n",
              "      <th>High Blood Pressure</th>\n",
              "      <th>Low Blood Pressure</th>\n",
              "      <th>Smoke</th>\n",
              "      <th>Alcohol</th>\n",
              "      <th>Exercise</th>\n",
              "      <th>Gender__female</th>\n",
              "      <th>Gender__male</th>\n",
              "      <th>Cholesterol__high</th>\n",
              "      <th>Cholesterol__normal</th>\n",
              "      <th>Cholesterol__too high</th>\n",
              "      <th>Glucose__high</th>\n",
              "      <th>Glucose__normal</th>\n",
              "      <th>Glucose__too high</th>\n",
              "    </tr>\n",
              "  </thead>\n",
              "  <tbody>\n",
              "    <tr>\n",
              "      <th>count</th>\n",
              "      <td>21000.000000</td>\n",
              "      <td>21000.000000</td>\n",
              "      <td>21000.000000</td>\n",
              "      <td>21000.000000</td>\n",
              "      <td>21000.000000</td>\n",
              "      <td>21000.000000</td>\n",
              "      <td>21000.000000</td>\n",
              "      <td>21000.000000</td>\n",
              "      <td>21000.000000</td>\n",
              "      <td>21000.000000</td>\n",
              "      <td>21000.000000</td>\n",
              "      <td>21000.000000</td>\n",
              "      <td>21000.000000</td>\n",
              "      <td>21000.000000</td>\n",
              "      <td>21000.000000</td>\n",
              "      <td>21000.000000</td>\n",
              "    </tr>\n",
              "    <tr>\n",
              "      <th>mean</th>\n",
              "      <td>52.811190</td>\n",
              "      <td>164.341381</td>\n",
              "      <td>74.241070</td>\n",
              "      <td>129.093429</td>\n",
              "      <td>95.960857</td>\n",
              "      <td>0.087810</td>\n",
              "      <td>0.052667</td>\n",
              "      <td>0.804952</td>\n",
              "      <td>0.650810</td>\n",
              "      <td>0.349190</td>\n",
              "      <td>0.135429</td>\n",
              "      <td>0.748048</td>\n",
              "      <td>0.116524</td>\n",
              "      <td>0.074429</td>\n",
              "      <td>0.848905</td>\n",
              "      <td>0.076667</td>\n",
              "    </tr>\n",
              "    <tr>\n",
              "      <th>std</th>\n",
              "      <td>6.775489</td>\n",
              "      <td>8.195082</td>\n",
              "      <td>14.548468</td>\n",
              "      <td>167.975674</td>\n",
              "      <td>157.257409</td>\n",
              "      <td>0.283024</td>\n",
              "      <td>0.223372</td>\n",
              "      <td>0.396247</td>\n",
              "      <td>0.476726</td>\n",
              "      <td>0.476726</td>\n",
              "      <td>0.342189</td>\n",
              "      <td>0.434144</td>\n",
              "      <td>0.320860</td>\n",
              "      <td>0.262473</td>\n",
              "      <td>0.358150</td>\n",
              "      <td>0.266068</td>\n",
              "    </tr>\n",
              "    <tr>\n",
              "      <th>min</th>\n",
              "      <td>29.000000</td>\n",
              "      <td>64.000000</td>\n",
              "      <td>21.000000</td>\n",
              "      <td>10.000000</td>\n",
              "      <td>-70.000000</td>\n",
              "      <td>0.000000</td>\n",
              "      <td>0.000000</td>\n",
              "      <td>0.000000</td>\n",
              "      <td>0.000000</td>\n",
              "      <td>0.000000</td>\n",
              "      <td>0.000000</td>\n",
              "      <td>0.000000</td>\n",
              "      <td>0.000000</td>\n",
              "      <td>0.000000</td>\n",
              "      <td>0.000000</td>\n",
              "      <td>0.000000</td>\n",
              "    </tr>\n",
              "    <tr>\n",
              "      <th>25%</th>\n",
              "      <td>48.000000</td>\n",
              "      <td>159.000000</td>\n",
              "      <td>65.000000</td>\n",
              "      <td>120.000000</td>\n",
              "      <td>80.000000</td>\n",
              "      <td>0.000000</td>\n",
              "      <td>0.000000</td>\n",
              "      <td>1.000000</td>\n",
              "      <td>0.000000</td>\n",
              "      <td>0.000000</td>\n",
              "      <td>0.000000</td>\n",
              "      <td>0.000000</td>\n",
              "      <td>0.000000</td>\n",
              "      <td>0.000000</td>\n",
              "      <td>1.000000</td>\n",
              "      <td>0.000000</td>\n",
              "    </tr>\n",
              "    <tr>\n",
              "      <th>50%</th>\n",
              "      <td>53.000000</td>\n",
              "      <td>165.000000</td>\n",
              "      <td>72.000000</td>\n",
              "      <td>120.000000</td>\n",
              "      <td>80.000000</td>\n",
              "      <td>0.000000</td>\n",
              "      <td>0.000000</td>\n",
              "      <td>1.000000</td>\n",
              "      <td>1.000000</td>\n",
              "      <td>0.000000</td>\n",
              "      <td>0.000000</td>\n",
              "      <td>1.000000</td>\n",
              "      <td>0.000000</td>\n",
              "      <td>0.000000</td>\n",
              "      <td>1.000000</td>\n",
              "      <td>0.000000</td>\n",
              "    </tr>\n",
              "    <tr>\n",
              "      <th>75%</th>\n",
              "      <td>58.000000</td>\n",
              "      <td>170.000000</td>\n",
              "      <td>82.000000</td>\n",
              "      <td>140.000000</td>\n",
              "      <td>90.000000</td>\n",
              "      <td>0.000000</td>\n",
              "      <td>0.000000</td>\n",
              "      <td>1.000000</td>\n",
              "      <td>1.000000</td>\n",
              "      <td>1.000000</td>\n",
              "      <td>0.000000</td>\n",
              "      <td>1.000000</td>\n",
              "      <td>0.000000</td>\n",
              "      <td>0.000000</td>\n",
              "      <td>1.000000</td>\n",
              "      <td>0.000000</td>\n",
              "    </tr>\n",
              "    <tr>\n",
              "      <th>max</th>\n",
              "      <td>64.000000</td>\n",
              "      <td>250.000000</td>\n",
              "      <td>183.000000</td>\n",
              "      <td>16020.000000</td>\n",
              "      <td>8500.000000</td>\n",
              "      <td>1.000000</td>\n",
              "      <td>1.000000</td>\n",
              "      <td>1.000000</td>\n",
              "      <td>1.000000</td>\n",
              "      <td>1.000000</td>\n",
              "      <td>1.000000</td>\n",
              "      <td>1.000000</td>\n",
              "      <td>1.000000</td>\n",
              "      <td>1.000000</td>\n",
              "      <td>1.000000</td>\n",
              "      <td>1.000000</td>\n",
              "    </tr>\n",
              "  </tbody>\n",
              "</table>\n",
              "</div>"
            ],
            "text/plain": [
              "                Age        Height  ...  Glucose__normal  Glucose__too high\n",
              "count  21000.000000  21000.000000  ...     21000.000000       21000.000000\n",
              "mean      52.811190    164.341381  ...         0.848905           0.076667\n",
              "std        6.775489      8.195082  ...         0.358150           0.266068\n",
              "min       29.000000     64.000000  ...         0.000000           0.000000\n",
              "25%       48.000000    159.000000  ...         1.000000           0.000000\n",
              "50%       53.000000    165.000000  ...         1.000000           0.000000\n",
              "75%       58.000000    170.000000  ...         1.000000           0.000000\n",
              "max       64.000000    250.000000  ...         1.000000           1.000000\n",
              "\n",
              "[8 rows x 16 columns]"
            ]
          },
          "metadata": {
            "tags": []
          },
          "execution_count": 71
        }
      ]
    },
    {
      "cell_type": "code",
      "metadata": {
        "id": "KzfZ6BAYAIC0",
        "colab_type": "code",
        "colab": {}
      },
      "source": [
        "df_test = outliers_IQR(df_test, 'High Blood Pressure')\n",
        "df_test = outliers_IQR(df_test, 'Low Blood Pressure')\n",
        "norm_x = (df_test - np.min(df_test)) / (np.max(df_test) - np.min(df_test)).values\n"
      ],
      "execution_count": 0,
      "outputs": []
    },
    {
      "cell_type": "code",
      "metadata": {
        "id": "rLoX6eeh7nfY",
        "colab_type": "code",
        "colab": {}
      },
      "source": [
        "p_nb = nb_G.predict(norm_x)\n",
        "p_knn = knn_best.predict(norm_x)\n",
        "p_svm_L = svm_Best.predict(norm_x)\n",
        "p_svm_NL = svm_NL_Best.predict(norm_x)\n",
        "p_rf = rf_best.predict(norm_x)\n",
        "p_gbc = gb_best.predict(norm_x)"
      ],
      "execution_count": 0,
      "outputs": []
    },
    {
      "cell_type": "code",
      "metadata": {
        "id": "CjjauG8wIzoA",
        "colab_type": "code",
        "colab": {}
      },
      "source": [
        "final_df = pd.DataFrame(data=None,columns=['NBC','KNN','SVM','Non_linear_SVM','RF','GBC'])\n",
        "final_df['NBC']=p_nb\n",
        "final_df['KNN']=p_knn\n",
        "final_df['SVM']=p_svm_L \n",
        "final_df['Non_linear_SVM']=p_svm_NL\n",
        "final_df['RF']=p_rf\n",
        "final_df['GBC']=p_gbc\n"
      ],
      "execution_count": 0,
      "outputs": []
    },
    {
      "cell_type": "code",
      "metadata": {
        "id": "eFJMqt7ACoxl",
        "colab_type": "code",
        "colab": {}
      },
      "source": [
        "final_df = final_df.reset_index()"
      ],
      "execution_count": 0,
      "outputs": []
    },
    {
      "cell_type": "code",
      "metadata": {
        "id": "eEFat3UEGzmC",
        "colab_type": "code",
        "colab": {
          "base_uri": "https://localhost:8080/",
          "height": 204
        },
        "outputId": "c73d8326-dea1-4734-9877-11d4e542b6e2"
      },
      "source": [
        "final_df.rename(columns = {'index':'ID'}, inplace = True)\n",
        "final_df.head()"
      ],
      "execution_count": 76,
      "outputs": [
        {
          "output_type": "execute_result",
          "data": {
            "text/html": [
              "<div>\n",
              "<style scoped>\n",
              "    .dataframe tbody tr th:only-of-type {\n",
              "        vertical-align: middle;\n",
              "    }\n",
              "\n",
              "    .dataframe tbody tr th {\n",
              "        vertical-align: top;\n",
              "    }\n",
              "\n",
              "    .dataframe thead th {\n",
              "        text-align: right;\n",
              "    }\n",
              "</style>\n",
              "<table border=\"1\" class=\"dataframe\">\n",
              "  <thead>\n",
              "    <tr style=\"text-align: right;\">\n",
              "      <th></th>\n",
              "      <th>ID</th>\n",
              "      <th>NBC</th>\n",
              "      <th>KNN</th>\n",
              "      <th>SVM</th>\n",
              "      <th>Non_linear_SVM</th>\n",
              "      <th>RF</th>\n",
              "      <th>GBC</th>\n",
              "    </tr>\n",
              "  </thead>\n",
              "  <tbody>\n",
              "    <tr>\n",
              "      <th>0</th>\n",
              "      <td>0</td>\n",
              "      <td>0</td>\n",
              "      <td>0</td>\n",
              "      <td>0</td>\n",
              "      <td>0</td>\n",
              "      <td>0</td>\n",
              "      <td>1</td>\n",
              "    </tr>\n",
              "    <tr>\n",
              "      <th>1</th>\n",
              "      <td>1</td>\n",
              "      <td>0</td>\n",
              "      <td>0</td>\n",
              "      <td>0</td>\n",
              "      <td>0</td>\n",
              "      <td>0</td>\n",
              "      <td>0</td>\n",
              "    </tr>\n",
              "    <tr>\n",
              "      <th>2</th>\n",
              "      <td>2</td>\n",
              "      <td>1</td>\n",
              "      <td>0</td>\n",
              "      <td>0</td>\n",
              "      <td>0</td>\n",
              "      <td>1</td>\n",
              "      <td>1</td>\n",
              "    </tr>\n",
              "    <tr>\n",
              "      <th>3</th>\n",
              "      <td>3</td>\n",
              "      <td>1</td>\n",
              "      <td>1</td>\n",
              "      <td>1</td>\n",
              "      <td>1</td>\n",
              "      <td>1</td>\n",
              "      <td>1</td>\n",
              "    </tr>\n",
              "    <tr>\n",
              "      <th>4</th>\n",
              "      <td>4</td>\n",
              "      <td>0</td>\n",
              "      <td>0</td>\n",
              "      <td>0</td>\n",
              "      <td>0</td>\n",
              "      <td>0</td>\n",
              "      <td>0</td>\n",
              "    </tr>\n",
              "  </tbody>\n",
              "</table>\n",
              "</div>"
            ],
            "text/plain": [
              "   ID  NBC  KNN  SVM  Non_linear_SVM  RF  GBC\n",
              "0   0    0    0    0               0   0    1\n",
              "1   1    0    0    0               0   0    0\n",
              "2   2    1    0    0               0   1    1\n",
              "3   3    1    1    1               1   1    1\n",
              "4   4    0    0    0               0   0    0"
            ]
          },
          "metadata": {
            "tags": []
          },
          "execution_count": 76
        }
      ]
    },
    {
      "cell_type": "code",
      "metadata": {
        "id": "KQF1qnZzD-mR",
        "colab_type": "code",
        "colab": {}
      },
      "source": [
        "final_df.to_csv('Akshay_Bhala.csv',index=False)"
      ],
      "execution_count": 0,
      "outputs": []
    },
    {
      "cell_type": "markdown",
      "metadata": {
        "id": "4aD6SpPPCXJz",
        "colab_type": "text"
      },
      "source": [
        "**Conclusion:** Learned about applying six different classification algorithms and how they are used to predict the unspecified disease. Learned how each parameter affects the performance of the model. How tuning  hyperparameter tells us about underfitting and overfitting of data. Plotting Roc curve explains about the performance of the model. The finidings from the above steps tells us that Random forest is the best model for this data set to predict whether the person has disease or not."
      ]
    }
  ]
}