{
  "nbformat": 4,
  "nbformat_minor": 0,
  "metadata": {
    "colab": {
      "name": "DA_Assignment4.ipynb",
      "provenance": [],
      "collapsed_sections": []
    },
    "kernelspec": {
      "name": "python3",
      "display_name": "Python 3"
    }
  },
  "cells": [
    {
      "cell_type": "markdown",
      "metadata": {
        "id": "KpKMhu-zxIfs",
        "colab_type": "text"
      },
      "source": [
        "#**Disease Diagnosis Model**\n",
        "#*Akshay Bhala*\n",
        "#04/26/2020\n"
      ]
    },
    {
      "cell_type": "markdown",
      "metadata": {
        "id": "_Vl4CgwHQXg3",
        "colab_type": "text"
      },
      "source": [
        "## Introduction: \n",
        "The Goal is to build a disease diagnosis model to predict whether or not a patient has certain unspecified disease or not for a given binary classification problem. Will be using Logistic Regression Classification Model , Decision Tree and Ann Models."
      ]
    },
    {
      "cell_type": "code",
      "metadata": {
        "id": "irWkxDeSFhji",
        "colab_type": "code",
        "colab": {}
      },
      "source": [
        "import pandas as pd\n",
        "import numpy as np\n",
        "import matplotlib.pyplot as plt\n",
        "import seaborn as sns\n",
        "from sklearn.model_selection import train_test_split\n",
        "from sklearn.metrics import classification_report,confusion_matrix\n",
        "from sklearn.metrics import roc_curve\n",
        "from sklearn.metrics import roc_auc_score\n",
        "from matplotlib import pyplot\n",
        "from sklearn.model_selection import GridSearchCV\n"
      ],
      "execution_count": 0,
      "outputs": []
    },
    {
      "cell_type": "markdown",
      "metadata": {
        "id": "V7jSsW5cx8Zz",
        "colab_type": "text"
      },
      "source": [
        "#Section 1: Data preparation"
      ]
    },
    {
      "cell_type": "code",
      "metadata": {
        "id": "Q6cOmBkhx-1P",
        "colab_type": "code",
        "colab": {}
      },
      "source": [
        "df = pd.read_csv('Disease Prediction Training.csv')"
      ],
      "execution_count": 0,
      "outputs": []
    },
    {
      "cell_type": "code",
      "metadata": {
        "id": "iRXwieM-yh1c",
        "colab_type": "code",
        "outputId": "5ef86656-81d5-4239-df93-be67bb25413d",
        "colab": {
          "base_uri": "https://localhost:8080/",
          "height": 238
        }
      },
      "source": [
        "df.isnull().sum()"
      ],
      "execution_count": 5,
      "outputs": [
        {
          "output_type": "execute_result",
          "data": {
            "text/plain": [
              "Age                    0\n",
              "Gender                 0\n",
              "Height                 0\n",
              "Weight                 0\n",
              "High Blood Pressure    0\n",
              "Low Blood Pressure     0\n",
              "Cholesterol            0\n",
              "Glucose                0\n",
              "Smoke                  0\n",
              "Alcohol                0\n",
              "Exercise               0\n",
              "Disease                0\n",
              "dtype: int64"
            ]
          },
          "metadata": {
            "tags": []
          },
          "execution_count": 5
        }
      ]
    },
    {
      "cell_type": "markdown",
      "metadata": {
        "id": "2QnFGAPxylzB",
        "colab_type": "text"
      },
      "source": [
        "##Analysis: \n",
        "From the above summary we can see that the data set does not contain Null Values."
      ]
    },
    {
      "cell_type": "code",
      "metadata": {
        "id": "sZQUJCtayklB",
        "colab_type": "code",
        "outputId": "a7a0e610-ace4-45b9-bda3-ad3e4538cb18",
        "colab": {
          "base_uri": "https://localhost:8080/",
          "height": 51
        }
      },
      "source": [
        "print(\"shape:\",df.shape)\n",
        "df = df.drop_duplicates()\n",
        "print(\"shape after removing duplicates\",df.shape)"
      ],
      "execution_count": 6,
      "outputs": [
        {
          "output_type": "stream",
          "text": [
            "shape: (49000, 12)\n",
            "shape after removing duplicates (47248, 12)\n"
          ],
          "name": "stdout"
        }
      ]
    },
    {
      "cell_type": "markdown",
      "metadata": {
        "id": "xgkk2jjp7shF",
        "colab_type": "text"
      },
      "source": [
        "##Analysis: \n",
        "There were 1752 duplicate values which were removed from the data frame."
      ]
    },
    {
      "cell_type": "markdown",
      "metadata": {
        "id": "y_LGsoy0B7yb",
        "colab_type": "text"
      },
      "source": [
        "## Treating Outliers"
      ]
    },
    {
      "cell_type": "code",
      "metadata": {
        "id": "jw7wqzSL_u_l",
        "colab_type": "code",
        "outputId": "ed4bb63f-6559-4857-aa36-808f290480a9",
        "colab": {
          "base_uri": "https://localhost:8080/",
          "height": 351
        }
      },
      "source": [
        "fig = plt.figure(figsize=(10,5))\n",
        "ax1 = fig.add_subplot(2,3,1)\n",
        "ax2 = fig.add_subplot(2,3,2)\n",
        "ax3 = fig.add_subplot(2,3,3)\n",
        "ax4 = fig.add_subplot(2,3,4)\n",
        "ax5 = fig.add_subplot(2,3,5)\n",
        "\n",
        "ax1.boxplot(df['Age'])\n",
        "ax1.set_xlabel('Age ')\n",
        "ax2.boxplot(df['Height'])\n",
        "ax2.set_xlabel('Height')\n",
        "ax3.boxplot(df['Weight'])\n",
        "ax3.set_xlabel('Weight')\n",
        "ax4.boxplot(df['High Blood Pressure'])\n",
        "ax4.set_xlabel('High Blood Pressure ')\n",
        "ax5.boxplot(df['Low Blood Pressure'])\n",
        "ax5.set_xlabel('Low Blood Pressure')"
      ],
      "execution_count": 8,
      "outputs": [
        {
          "output_type": "execute_result",
          "data": {
            "text/plain": [
              "Text(0.5, 0, 'Low Blood Pressure')"
            ]
          },
          "metadata": {
            "tags": []
          },
          "execution_count": 8
        },
        {
          "output_type": "display_data",
          "data": {
            "image/png": "[encoded data removed]",
            "text/plain": [
              "<Figure size 720x360 with 5 Axes>"
            ]
          },
          "metadata": {
            "tags": [],
            "needs_background": "light"
          }
        }
      ]
    },
    {
      "cell_type": "code",
      "metadata": {
        "id": "EInQ0t4k9UJG",
        "colab_type": "code",
        "colab": {}
      },
      "source": [
        "def outliers_IQR(data, col):\n",
        "    lower_quartile = data[col].quantile(0.25)\n",
        "    upper_quartile = data[col].quantile(0.75)\n",
        "    IQR = upper_quartile - lower_quartile\n",
        "    outlier_thresh = 1.5 * IQR\n",
        "    return data[data[col].between((lower_quartile - outlier_thresh), (upper_quartile + outlier_thresh))]\n",
        "\n",
        "df = outliers_IQR(df, 'Age')\n",
        "df = outliers_IQR(df, 'Height')\n",
        "df = outliers_IQR(df, 'Weight')\n",
        "df = outliers_IQR(df, 'High Blood Pressure')\n",
        "df = outliers_IQR(df, 'Low Blood Pressure')"
      ],
      "execution_count": 0,
      "outputs": []
    },
    {
      "cell_type": "code",
      "metadata": {
        "id": "Ma5qaPW_B0UO",
        "colab_type": "code",
        "outputId": "73b77231-fa91-467a-922e-60fcd0375c43",
        "colab": {
          "base_uri": "https://localhost:8080/",
          "height": 354
        }
      },
      "source": [
        "fig = plt.figure(figsize=(10,5))\n",
        "ax1 = fig.add_subplot(2,3,1)\n",
        "ax2 = fig.add_subplot(2,3,2)\n",
        "ax3 = fig.add_subplot(2,3,3)\n",
        "ax4 = fig.add_subplot(2,3,4)\n",
        "ax5 = fig.add_subplot(2,3,5)\n",
        "\n",
        "ax1.boxplot(df['Age'])\n",
        "ax1.set_xlabel('Age ')\n",
        "ax2.boxplot(df['Height'])\n",
        "ax2.set_xlabel('Height')\n",
        "ax3.boxplot(df['Weight'])\n",
        "ax3.set_xlabel('Weight')\n",
        "ax4.boxplot(df['High Blood Pressure'])\n",
        "ax4.set_xlabel('High Blood Pressure ')\n",
        "ax5.boxplot(df['Low Blood Pressure'])\n",
        "ax5.set_xlabel('Low Blood Pressure')"
      ],
      "execution_count": 10,
      "outputs": [
        {
          "output_type": "execute_result",
          "data": {
            "text/plain": [
              "Text(0.5, 0, 'Low Blood Pressure')"
            ]
          },
          "metadata": {
            "tags": []
          },
          "execution_count": 10
        },
        {
          "output_type": "display_data",
          "data": {
            "image/png": "[encoded data removed]",
            "text/plain": [
              "<Figure size 720x360 with 5 Axes>"
            ]
          },
          "metadata": {
            "tags": [],
            "needs_background": "light"
          }
        }
      ]
    },
    {
      "cell_type": "markdown",
      "metadata": {
        "id": "7I656oTRWNMG",
        "colab_type": "text"
      },
      "source": [
        "### Clipping High Blood Pressure (125,170) and Low Blood Pressure Values(60,89). "
      ]
    },
    {
      "cell_type": "code",
      "metadata": {
        "id": "Q0nFSZLoUVF_",
        "colab_type": "code",
        "colab": {}
      },
      "source": [
        "df['High Blood Pressure'].clip(125,170,inplace=True)\n",
        "df['Low Blood Pressure'].clip(60,89,inplace = True)"
      ],
      "execution_count": 0,
      "outputs": []
    },
    {
      "cell_type": "markdown",
      "metadata": {
        "id": "976rMZStFeQU",
        "colab_type": "text"
      },
      "source": [
        "### Univariate Analysis"
      ]
    },
    {
      "cell_type": "code",
      "metadata": {
        "id": "emlG-gCWfrko",
        "colab_type": "code",
        "colab": {
          "base_uri": "https://localhost:8080/",
          "height": 102
        },
        "outputId": "33535e47-699c-4d0d-b19b-494f093fcc1d"
      },
      "source": [
        "print(df.Disease.value_counts())\n",
        "countNoDisease = len(df[df.Disease == 0])\n",
        "countHaveDisease = len(df[df.Disease == 1])\n",
        "print(\"Percentage of Patients Haven't Heart Disease: {:.2f}%\".format((countNoDisease / (len(df.Disease))*100)))\n",
        "print(\"Percentage of Patients Have Heart Disease: {:.2f}%\".format((countHaveDisease / (len(df.Disease))*100)))"
      ],
      "execution_count": 94,
      "outputs": [
        {
          "output_type": "stream",
          "text": [
            "1    21206\n",
            "0    20804\n",
            "Name: Disease, dtype: int64\n",
            "Percentage of Patients Haven't Heart Disease: 49.52%\n",
            "Percentage of Patients Have Heart Disease: 50.48%\n"
          ],
          "name": "stdout"
        }
      ]
    },
    {
      "cell_type": "markdown",
      "metadata": {
        "id": "i-9J5a-XCpmd",
        "colab_type": "text"
      },
      "source": [
        "**Analysis:** It tells us that our Dataset is Balanced DataSet."
      ]
    },
    {
      "cell_type": "markdown",
      "metadata": {
        "id": "Paw__myQFjA-",
        "colab_type": "text"
      },
      "source": [
        "### Bivaraiate Analysis\n"
      ]
    },
    {
      "cell_type": "code",
      "metadata": {
        "id": "DKBN1ZxxWxJV",
        "colab_type": "code",
        "outputId": "a2430002-22ea-497d-df44-59d4048c7cb5",
        "colab": {
          "base_uri": "https://localhost:8080/",
          "height": 330
        }
      },
      "source": [
        "pd.crosstab(df.Age,df.Disease).plot(kind=\"bar\",figsize=(20,6))\n",
        "plt.title('Heart Disease Frequency for Ages')\n",
        "plt.xlabel('Age')\n",
        "plt.ylabel('Frequency')\n",
        "plt.show()"
      ],
      "execution_count": 12,
      "outputs": [
        {
          "output_type": "display_data",
          "data": {
            "image/png": "[encoded data removed]",
            "text/plain": [
              "<Figure size 1440x432 with 1 Axes>"
            ]
          },
          "metadata": {
            "tags": [],
            "needs_background": "light"
          }
        }
      ]
    },
    {
      "cell_type": "markdown",
      "metadata": {
        "id": "SLlvk8VCW7hn",
        "colab_type": "text"
      },
      "source": [
        "Analysis: The above graph shows a pattern that as Age increases the chances of getting a Disease is High."
      ]
    },
    {
      "cell_type": "code",
      "metadata": {
        "id": "oeyDNjrDW9qE",
        "colab_type": "code",
        "outputId": "b5804981-7feb-41c7-f16b-b565a2d20014",
        "colab": {
          "base_uri": "https://localhost:8080/",
          "height": 438
        }
      },
      "source": [
        "countFemale = len(df[df.Gender == 'female'])\n",
        "countMale = len(df[df.Gender == 'male'])\n",
        "print(\"Percentage of Female Patients: {:.2f}%\".format((countFemale / (len(df.Gender))*100)))\n",
        "print(\"Percentage of Male Patients: {:.2f}%\".format((countMale / (len(df.Gender))*100)))\n",
        "pd.crosstab(df.Gender,df.Disease).plot(kind=\"bar\",figsize=(15,6),color=['#1CA53B','#AA1111' ])\n",
        "plt.title('Heart Disease Frequency for Gender')\n",
        "plt.xlabel('Gender (Female, Male)')\n",
        "plt.xticks(rotation=0)\n",
        "plt.legend([\"Haven't Disease\", \"Have Disease\"])\n",
        "plt.ylabel('Frequency')\n",
        "plt.show()"
      ],
      "execution_count": 13,
      "outputs": [
        {
          "output_type": "stream",
          "text": [
            "Percentage of Female Patients: 64.51%\n",
            "Percentage of Male Patients: 35.49%\n"
          ],
          "name": "stdout"
        },
        {
          "output_type": "display_data",
          "data": {
            "image/png": "[encoded data removed]",
            "text/plain": [
              "<Figure size 1080x432 with 1 Axes>"
            ]
          },
          "metadata": {
            "tags": [],
            "needs_background": "light"
          }
        }
      ]
    },
    {
      "cell_type": "markdown",
      "metadata": {
        "id": "VHkc0kHpXKkR",
        "colab_type": "text"
      },
      "source": [
        "Analysis: Female Patients are twice as Male Patients"
      ]
    },
    {
      "cell_type": "code",
      "metadata": {
        "id": "MaLO7LmWfe7z",
        "colab_type": "code",
        "colab": {
          "base_uri": "https://localhost:8080/",
          "height": 413
        },
        "outputId": "a4f2170b-4107-4021-f7c1-a6db8d5f2cfb"
      },
      "source": [
        "pd.crosstab(df['High Blood Pressure'],df.Disease).plot(kind=\"bar\",figsize=(15,6),color=['#1CA53B','#AA1111' ])\n",
        "plt.title('Heart Disease Frequency with High Blood Pressure')\n",
        "plt.xlabel('High Blood Pressure')\n",
        "plt.xticks(rotation=90)\n",
        "plt.legend([\"Haven't Disease\", \"Have Disease\"])\n",
        "plt.ylabel('Frequency')\n",
        "plt.show()"
      ],
      "execution_count": 92,
      "outputs": [
        {
          "output_type": "display_data",
          "data": {
            "image/png": "[encoded data removed]",
            "text/plain": [
              "<Figure size 1080x432 with 1 Axes>"
            ]
          },
          "metadata": {
            "tags": [],
            "needs_background": "light"
          }
        }
      ]
    },
    {
      "cell_type": "markdown",
      "metadata": {
        "id": "GUJerRStC3bY",
        "colab_type": "text"
      },
      "source": [
        "**Analysis:** As Blood Pressure goes beyond 125 the chances of getting the disease increases."
      ]
    },
    {
      "cell_type": "markdown",
      "metadata": {
        "id": "oSt3OdhHGAOj",
        "colab_type": "text"
      },
      "source": [
        "### Trivariate Analysis\n"
      ]
    },
    {
      "cell_type": "code",
      "metadata": {
        "id": "oqx5hzpMFlyB",
        "colab_type": "code",
        "colab": {
          "base_uri": "https://localhost:8080/",
          "height": 404
        },
        "outputId": "bf19903f-28a9-4334-c268-c71d10880f07"
      },
      "source": [
        "pd.crosstab([df.Cholesterol,df.Glucose],df.Disease).plot(kind=\"bar\",figsize=(15,6),color=['#11A5AA','#AA1190' ])\n",
        "plt.title('Heart Disease Frequency According To Cholesterol Level and Glucose Level')\n",
        "plt.xlabel('Cholesterol / Glucose(Too High, High or Normal)')\n",
        "plt.xticks(rotation = 0)\n",
        "plt.ylabel('Frequency of Disease or Not')\n",
        "plt.show()"
      ],
      "execution_count": 118,
      "outputs": [
        {
          "output_type": "display_data",
          "data": {
            "image/png": "[encoded data removed]",
            "text/plain": [
              "<Figure size 1080x432 with 1 Axes>"
            ]
          },
          "metadata": {
            "tags": [],
            "needs_background": "light"
          }
        }
      ]
    },
    {
      "cell_type": "markdown",
      "metadata": {
        "id": "qq1JFbRJF3p3",
        "colab_type": "text"
      },
      "source": [
        "**Analysis:** We can see that when cholestrol is high/too high as compared to when glucose is normal there are more number of chances getting a disease. Although when both are high there is a definite chance of getting the disease."
      ]
    },
    {
      "cell_type": "code",
      "metadata": {
        "id": "4bNJlB2VGDpH",
        "colab_type": "code",
        "colab": {
          "base_uri": "https://localhost:8080/",
          "height": 404
        },
        "outputId": "823f3d56-3679-4859-fbc4-120168ccbfa2"
      },
      "source": [
        "pd.crosstab([df.Smoke,df.Alcohol,df.Exercise],df.Disease).plot(kind=\"bar\",figsize=(15,6),color=['#11A5AA','#AA1190' ])\n",
        "plt.title('Heart Disease Frequency According To Smoke / Alcohol / Exercise ')\n",
        "plt.xlabel('Smoke/Alcohol/Excercise')\n",
        "plt.xticks(rotation = 0)\n",
        "plt.ylabel('Frequency of Disease or Not')\n",
        "plt.show()"
      ],
      "execution_count": 117,
      "outputs": [
        {
          "output_type": "display_data",
          "data": {
            "image/png": "[encoded data removed]",
            "text/plain": [
              "<Figure size 1080x432 with 1 Axes>"
            ]
          },
          "metadata": {
            "tags": [],
            "needs_background": "light"
          }
        }
      ]
    },
    {
      "cell_type": "markdown",
      "metadata": {
        "id": "_uVNY0OyGInM",
        "colab_type": "text"
      },
      "source": [
        "**Analysis:** We can see an interesting characteristic that when people smoke and drink alcohol and don't do exercise they are at higher risk of getting disease.\n",
        " "
      ]
    },
    {
      "cell_type": "markdown",
      "metadata": {
        "id": "mLq09-XLXf3U",
        "colab_type": "text"
      },
      "source": [
        "### Performing One Hot Encoding "
      ]
    },
    {
      "cell_type": "code",
      "metadata": {
        "id": "J_jeD0cuXLKn",
        "colab_type": "code",
        "colab": {}
      },
      "source": [
        "a = pd.get_dummies(df['Gender'], prefix = \"Gender_\")\n",
        "b = pd.get_dummies(df['Cholesterol'], prefix = \"Cholesterol_\")\n",
        "c = pd.get_dummies(df['Glucose'], prefix = \"Glucose_\")"
      ],
      "execution_count": 0,
      "outputs": []
    },
    {
      "cell_type": "code",
      "metadata": {
        "id": "tt8chaZpXa_k",
        "colab_type": "code",
        "colab": {}
      },
      "source": [
        "frames = [df, a, b, c]\n",
        "df1 = pd.concat(frames, axis = 1)\n",
        "df1 = df1.drop(columns = ['Gender', 'Cholesterol', 'Glucose'])"
      ],
      "execution_count": 0,
      "outputs": []
    },
    {
      "cell_type": "markdown",
      "metadata": {
        "id": "8tEWFIPQXwob",
        "colab_type": "text"
      },
      "source": [
        "# Section 2: Build, tune and evaluate various machine learning algorithms"
      ]
    },
    {
      "cell_type": "code",
      "metadata": {
        "id": "6hrwGOIxXxTq",
        "colab_type": "code",
        "colab": {}
      },
      "source": [
        "y = df1.Disease.values"
      ],
      "execution_count": 0,
      "outputs": []
    },
    {
      "cell_type": "code",
      "metadata": {
        "id": "0n9Tq970X1Pk",
        "colab_type": "code",
        "colab": {}
      },
      "source": [
        "x = df1.drop(['Disease'], axis = 1)\n",
        "# Scaling data\n",
        "x = (x - np.min(x)) / (np.max(x) - np.min(x)).values"
      ],
      "execution_count": 0,
      "outputs": []
    },
    {
      "cell_type": "code",
      "metadata": {
        "id": "bBxkoAv5X5nh",
        "colab_type": "code",
        "colab": {}
      },
      "source": [
        "x_train, x_test, y_train, y_test = train_test_split(x,y,test_size = 0.3,random_state=0)\n",
        "x_train = x_train.T\n",
        "y_train = y_train.T\n",
        "x_test = x_test.T\n",
        "y_test = y_test.T"
      ],
      "execution_count": 0,
      "outputs": []
    },
    {
      "cell_type": "code",
      "metadata": {
        "id": "uFmBHx3JYdl7",
        "colab_type": "code",
        "colab": {}
      },
      "source": [
        "ns_probs = [0 for _ in range(len(y_test.T))]"
      ],
      "execution_count": 0,
      "outputs": []
    },
    {
      "cell_type": "markdown",
      "metadata": {
        "id": "FrtME2S8ZFf1",
        "colab_type": "text"
      },
      "source": [
        "1. Naive Bayes"
      ]
    },
    {
      "cell_type": "code",
      "metadata": {
        "id": "yji1Xil5YjT6",
        "colab_type": "code",
        "outputId": "39078bfe-3524-4a1f-b947-92fafda31214",
        "colab": {
          "base_uri": "https://localhost:8080/",
          "height": 272
        }
      },
      "source": [
        "from sklearn.naive_bayes import GaussianNB\n",
        "nb_G = GaussianNB()\n",
        "nb_G = nb_G.fit(x_train.T, y_train.T)\n",
        "prediction = nb_G.predict(x_test.T)\n",
        "print(\"\\n Confusion Matrix \\n\",confusion_matrix(y_test.T,prediction))\n",
        "print(\"\\n Classification Report \\n\",classification_report(y_test.T, prediction))"
      ],
      "execution_count": 99,
      "outputs": [
        {
          "output_type": "stream",
          "text": [
            "\n",
            " Confusion Matrix \n",
            " [[4826 1383]\n",
            " [2713 3681]]\n",
            "\n",
            " Classification Report \n",
            "               precision    recall  f1-score   support\n",
            "\n",
            "           0       0.64      0.78      0.70      6209\n",
            "           1       0.73      0.58      0.64      6394\n",
            "\n",
            "    accuracy                           0.67     12603\n",
            "   macro avg       0.68      0.68      0.67     12603\n",
            "weighted avg       0.68      0.67      0.67     12603\n",
            "\n"
          ],
          "name": "stdout"
        }
      ]
    },
    {
      "cell_type": "markdown",
      "metadata": {
        "id": "5tBstJOvZKYV",
        "colab_type": "text"
      },
      "source": [
        "2. KNN"
      ]
    },
    {
      "cell_type": "code",
      "metadata": {
        "id": "D9djfOjhZJBp",
        "colab_type": "code",
        "outputId": "044f13a0-91d3-45aa-d453-c35bc151f1ef",
        "colab": {
          "base_uri": "https://localhost:8080/",
          "height": 272
        }
      },
      "source": [
        "from sklearn.neighbors import KNeighborsClassifier\n",
        "knn_best = KNeighborsClassifier(n_neighbors=26)  \n",
        "knn_best = knn_best.fit(x_train.T, y_train.T)\n",
        "prediction = knn_best.predict(x_test.T)\n",
        "print(\"\\n Confusion Matrix \\n\",confusion_matrix(y_test.T,prediction))\n",
        "print(\"\\n Classification Report \\n\",classification_report(y_test.T, prediction))"
      ],
      "execution_count": 100,
      "outputs": [
        {
          "output_type": "stream",
          "text": [
            "\n",
            " Confusion Matrix \n",
            " [[4797 1412]\n",
            " [2270 4124]]\n",
            "\n",
            " Classification Report \n",
            "               precision    recall  f1-score   support\n",
            "\n",
            "           0       0.68      0.77      0.72      6209\n",
            "           1       0.74      0.64      0.69      6394\n",
            "\n",
            "    accuracy                           0.71     12603\n",
            "   macro avg       0.71      0.71      0.71     12603\n",
            "weighted avg       0.71      0.71      0.71     12603\n",
            "\n"
          ],
          "name": "stdout"
        }
      ]
    },
    {
      "cell_type": "markdown",
      "metadata": {
        "id": "rpDL8YibaCr0",
        "colab_type": "text"
      },
      "source": [
        "3. SVM Linear"
      ]
    },
    {
      "cell_type": "code",
      "metadata": {
        "id": "BD9jlmF2ZY_X",
        "colab_type": "code",
        "outputId": "7aebf9c6-5942-4adc-fb11-ca2f37818a63",
        "colab": {
          "base_uri": "https://localhost:8080/",
          "height": 272
        }
      },
      "source": [
        "from sklearn.svm import SVC\n",
        "from sklearn.svm import SVC\n",
        "svm_Best = SVC(C=0.1,kernel='linear',probability=True)\n",
        "svm_Best = svm_Best.fit(x_train.T, y_train.T)\n",
        "predictions = svm_Best.predict(x_test.T)\n",
        "print(\"\\n Confusion Matrix \\n\",confusion_matrix(y_test.T,predictions))\n",
        "print(\"\\n Classification report \\n\",classification_report(y_test.T,predictions))"
      ],
      "execution_count": 101,
      "outputs": [
        {
          "output_type": "stream",
          "text": [
            "\n",
            " Confusion Matrix \n",
            " [[5359  850]\n",
            " [2890 3504]]\n",
            "\n",
            " Classification report \n",
            "               precision    recall  f1-score   support\n",
            "\n",
            "           0       0.65      0.86      0.74      6209\n",
            "           1       0.80      0.55      0.65      6394\n",
            "\n",
            "    accuracy                           0.70     12603\n",
            "   macro avg       0.73      0.71      0.70     12603\n",
            "weighted avg       0.73      0.70      0.70     12603\n",
            "\n"
          ],
          "name": "stdout"
        }
      ]
    },
    {
      "cell_type": "markdown",
      "metadata": {
        "id": "sIOOxasmaGiL",
        "colab_type": "text"
      },
      "source": [
        "4. SVM Non Linear"
      ]
    },
    {
      "cell_type": "code",
      "metadata": {
        "id": "b_Ys4sbZZknN",
        "colab_type": "code",
        "outputId": "f520c3d0-e332-433d-c87e-fab6f721cbc7",
        "colab": {
          "base_uri": "https://localhost:8080/",
          "height": 272
        }
      },
      "source": [
        "svm_NL_Best = SVC(C=10,gamma=0.1,kernel='rbf',probability=True)\n",
        "svm_NL_Best.fit(x_train.T, y_train.T)\n",
        "predictions = svm_NL_Best.predict(x_test.T)\n",
        "print(\"\\n Confusion Matrix \\n\",confusion_matrix(y_test.T,predictions))\n",
        "print(\"\\n Classification report \\n\",classification_report(y_test.T,predictions))"
      ],
      "execution_count": 104,
      "outputs": [
        {
          "output_type": "stream",
          "text": [
            "\n",
            " Confusion Matrix \n",
            " [[5209 1000]\n",
            " [2627 3767]]\n",
            "\n",
            " Classification report \n",
            "               precision    recall  f1-score   support\n",
            "\n",
            "           0       0.66      0.84      0.74      6209\n",
            "           1       0.79      0.59      0.68      6394\n",
            "\n",
            "    accuracy                           0.71     12603\n",
            "   macro avg       0.73      0.71      0.71     12603\n",
            "weighted avg       0.73      0.71      0.71     12603\n",
            "\n"
          ],
          "name": "stdout"
        }
      ]
    },
    {
      "cell_type": "markdown",
      "metadata": {
        "id": "mcHWIEDLaOJi",
        "colab_type": "text"
      },
      "source": [
        "5. Random Forest"
      ]
    },
    {
      "cell_type": "code",
      "metadata": {
        "id": "5SDssFYaaJhi",
        "colab_type": "code",
        "outputId": "f44440b9-c1ba-42b8-e2ee-ca63f2495070",
        "colab": {
          "base_uri": "https://localhost:8080/",
          "height": 272
        }
      },
      "source": [
        "from sklearn.ensemble import RandomForestClassifier\n",
        "rf_best = RandomForestClassifier(bootstrap=True,max_depth=100,max_features=3,min_samples_leaf=5,min_samples_split=12,n_estimators=300)\n",
        "rf_best.fit(x_train.T, y_train.T)\n",
        "predictions = rf_best.predict(x_test.T)\n",
        "print(\"\\n Confusion Matrix \\n\",confusion_matrix(y_test.T,predictions))\n",
        "print(\"\\n Classification Report \\n\",classification_report(y_test.T,predictions))"
      ],
      "execution_count": 102,
      "outputs": [
        {
          "output_type": "stream",
          "text": [
            "\n",
            " Confusion Matrix \n",
            " [[4733 1476]\n",
            " [2026 4368]]\n",
            "\n",
            " Classification Report \n",
            "               precision    recall  f1-score   support\n",
            "\n",
            "           0       0.70      0.76      0.73      6209\n",
            "           1       0.75      0.68      0.71      6394\n",
            "\n",
            "    accuracy                           0.72     12603\n",
            "   macro avg       0.72      0.72      0.72     12603\n",
            "weighted avg       0.72      0.72      0.72     12603\n",
            "\n"
          ],
          "name": "stdout"
        }
      ]
    },
    {
      "cell_type": "markdown",
      "metadata": {
        "id": "SoSfARxMaQnJ",
        "colab_type": "text"
      },
      "source": [
        "6. Gradient Boosting"
      ]
    },
    {
      "cell_type": "code",
      "metadata": {
        "id": "woH9nTn2aS33",
        "colab_type": "code",
        "outputId": "6a662a86-24a1-4f12-f1c9-37ca6d975183",
        "colab": {
          "base_uri": "https://localhost:8080/",
          "height": 272
        }
      },
      "source": [
        "from sklearn.ensemble import GradientBoostingClassifier\n",
        "gb_best = GradientBoostingClassifier(n_estimators=150,max_depth=3,learning_rate=0.1)\n",
        "gb_best = gb_best.fit(x_train.T, y_train.T)\n",
        "predictions = gb_best.predict(x_test.T)\n",
        "print(\"\\n Confusion Matrix \\n\",confusion_matrix(y_test.T,predictions))\n",
        "print(\"\\n Classification Report \\n\",classification_report(y_test.T,predictions))"
      ],
      "execution_count": 108,
      "outputs": [
        {
          "output_type": "stream",
          "text": [
            "\n",
            " Confusion Matrix \n",
            " [[4737 1472]\n",
            " [1993 4401]]\n",
            "\n",
            " Classification Report \n",
            "               precision    recall  f1-score   support\n",
            "\n",
            "           0       0.70      0.76      0.73      6209\n",
            "           1       0.75      0.69      0.72      6394\n",
            "\n",
            "    accuracy                           0.73     12603\n",
            "   macro avg       0.73      0.73      0.72     12603\n",
            "weighted avg       0.73      0.73      0.72     12603\n",
            "\n"
          ],
          "name": "stdout"
        }
      ]
    },
    {
      "cell_type": "markdown",
      "metadata": {
        "id": "WoPLZnuBakiC",
        "colab_type": "text"
      },
      "source": [
        "7. Logistic Regression"
      ]
    },
    {
      "cell_type": "markdown",
      "metadata": {
        "id": "Ihp2Za_TD0zF",
        "colab_type": "text"
      },
      "source": [
        "A. Base Model"
      ]
    },
    {
      "cell_type": "code",
      "metadata": {
        "id": "hXNHzkgbamos",
        "colab_type": "code",
        "outputId": "6435cf81-9dcc-45ed-cd60-190aa6363f92",
        "colab": {
          "base_uri": "https://localhost:8080/",
          "height": 272
        }
      },
      "source": [
        "from sklearn.linear_model import LogisticRegression\n",
        "logmodel = LogisticRegression(max_iter=10000)\n",
        "logmodel.fit(x_train.T,y_train.T)\n",
        "predictions = logmodel.predict(x_test.T)\n",
        "print(\"\\n Confusion Matrix \\n\",confusion_matrix(y_test.T,predictions))\n",
        "print(\"\\n Classification Report \\n\",classification_report(y_test.T,predictions))"
      ],
      "execution_count": 98,
      "outputs": [
        {
          "output_type": "stream",
          "text": [
            "\n",
            " Confusion Matrix \n",
            " [[4960 1249]\n",
            " [2283 4111]]\n",
            "\n",
            " Classification Report \n",
            "               precision    recall  f1-score   support\n",
            "\n",
            "           0       0.68      0.80      0.74      6209\n",
            "           1       0.77      0.64      0.70      6394\n",
            "\n",
            "    accuracy                           0.72     12603\n",
            "   macro avg       0.73      0.72      0.72     12603\n",
            "weighted avg       0.73      0.72      0.72     12603\n",
            "\n"
          ],
          "name": "stdout"
        }
      ]
    },
    {
      "cell_type": "markdown",
      "metadata": {
        "id": "kSXObX7mD41n",
        "colab_type": "text"
      },
      "source": [
        "B. HyperTuning Parameters to get Best parameters in an attempt to increase accuracy and recall."
      ]
    },
    {
      "cell_type": "code",
      "metadata": {
        "id": "jFXub5jpav96",
        "colab_type": "code",
        "outputId": "c777b663-9d67-4c40-aa9d-2f9ec66407c8",
        "colab": {
          "base_uri": "https://localhost:8080/",
          "height": 323
        }
      },
      "source": [
        "param_grid = {'C': [0.1, 0.5, 1, 4, 10],\n",
        "    'penalty': ['l1', 'l2'], \n",
        "    'solver': ['newton-cg', 'lbfgs', 'liblinear', 'sag', 'saga']} \n",
        "grid = GridSearchCV(LogisticRegression(),param_grid,n_jobs=3)\n",
        "grid_lr = grid.fit(x_train.T,y_train.T)\n",
        "grid_predictions = grid_lr.predict(x_test.T)\n",
        "print(\"\\n Best Parameters \\n\",grid_lr.best_params_)\n",
        "print(\"\\n Confusion Matrix \\n\",confusion_matrix(y_test.T,grid_predictions))\n",
        "print(\"\\n Classification Report \\n\",classification_report(y_test.T,grid_predictions))"
      ],
      "execution_count": 97,
      "outputs": [
        {
          "output_type": "stream",
          "text": [
            "\n",
            " Best Parameters \n",
            " {'C': 0.1, 'penalty': 'l1', 'solver': 'liblinear'}\n",
            "\n",
            " Confusion Matrix \n",
            " [[4971 1238]\n",
            " [2282 4112]]\n",
            "\n",
            " Classification Report \n",
            "               precision    recall  f1-score   support\n",
            "\n",
            "           0       0.69      0.80      0.74      6209\n",
            "           1       0.77      0.64      0.70      6394\n",
            "\n",
            "    accuracy                           0.72     12603\n",
            "   macro avg       0.73      0.72      0.72     12603\n",
            "weighted avg       0.73      0.72      0.72     12603\n",
            "\n"
          ],
          "name": "stdout"
        }
      ]
    },
    {
      "cell_type": "markdown",
      "metadata": {
        "id": "kceajb0ZEFuL",
        "colab_type": "text"
      },
      "source": [
        "C. Comparing Base model and Best Model"
      ]
    },
    {
      "cell_type": "code",
      "metadata": {
        "id": "ca8_v55bp8HZ",
        "colab_type": "code",
        "colab": {
          "base_uri": "https://localhost:8080/",
          "height": 111
        },
        "outputId": "9d01d2a9-952b-469d-f91a-6dcbdf325d2b"
      },
      "source": [
        "tune1 = pd.DataFrame(data=None, index= ['LR','LR_Best'],columns=['Accuracy','Precision','Recall','F1_Score','Hyper_Parameters'])\n",
        "tune1['Accuracy']=  [0.72,0.72]\n",
        "tune1['Precision']= [0.73,0.73]\n",
        "tune1['Recall']=    [0.72,0.72]\n",
        "tune1['F1_Score']=  [0.72,0.72]\n",
        "tune1['Hyper_Parameters']= [['C: 1.0', 'penalty: l2', 'solver: lbfgs'],['C: 0.1', 'penalty: l1', 'solver: liblinear']]\n",
        "tune1"
      ],
      "execution_count": 102,
      "outputs": [
        {
          "output_type": "execute_result",
          "data": {
            "text/html": [
              "<div>\n",
              "<style scoped>\n",
              "    .dataframe tbody tr th:only-of-type {\n",
              "        vertical-align: middle;\n",
              "    }\n",
              "\n",
              "    .dataframe tbody tr th {\n",
              "        vertical-align: top;\n",
              "    }\n",
              "\n",
              "    .dataframe thead th {\n",
              "        text-align: right;\n",
              "    }\n",
              "</style>\n",
              "<table border=\"1\" class=\"dataframe\">\n",
              "  <thead>\n",
              "    <tr style=\"text-align: right;\">\n",
              "      <th></th>\n",
              "      <th>Accuracy</th>\n",
              "      <th>Precision</th>\n",
              "      <th>Recall</th>\n",
              "      <th>F1_Score</th>\n",
              "      <th>Hyper_Parameters</th>\n",
              "    </tr>\n",
              "  </thead>\n",
              "  <tbody>\n",
              "    <tr>\n",
              "      <th>LR</th>\n",
              "      <td>0.72</td>\n",
              "      <td>0.73</td>\n",
              "      <td>0.72</td>\n",
              "      <td>0.72</td>\n",
              "      <td>[C: 1.0, penalty: l2, solver: lbfgs]</td>\n",
              "    </tr>\n",
              "    <tr>\n",
              "      <th>LR_Best</th>\n",
              "      <td>0.72</td>\n",
              "      <td>0.73</td>\n",
              "      <td>0.72</td>\n",
              "      <td>0.72</td>\n",
              "      <td>[C: 0.1, penalty: l1, solver: liblinear]</td>\n",
              "    </tr>\n",
              "  </tbody>\n",
              "</table>\n",
              "</div>"
            ],
            "text/plain": [
              "         Accuracy  ...                          Hyper_Parameters\n",
              "LR           0.72  ...      [C: 1.0, penalty: l2, solver: lbfgs]\n",
              "LR_Best      0.72  ...  [C: 0.1, penalty: l1, solver: liblinear]\n",
              "\n",
              "[2 rows x 5 columns]"
            ]
          },
          "metadata": {
            "tags": []
          },
          "execution_count": 102
        }
      ]
    },
    {
      "cell_type": "markdown",
      "metadata": {
        "id": "pc0iOVUbr9kQ",
        "colab_type": "text"
      },
      "source": [
        "**Analysis:**<br>\n",
        "*Penalty :* Used to specify the norm used in the penalization. The ‘newton-cg’, ‘sag’ and ‘lbfgs’ solvers support only l2 penalties. ‘elasticnet’ is only supported by the ‘saga’ solver. If ‘none’ (not supported by the liblinear solver), no regularization is applied.<br>\n",
        "*C:* Inverse of regularization strength; must be a positive float. Like in support vector machines, smaller values specify stronger regularization.<br>\n",
        "*Solver :* Algorithm to use in the optimization problem.\n",
        "For small datasets, ‘liblinear’ is a good choice, whereas ‘sag’ and ‘saga’ are faster for large ones. For multiclass problems, only ‘newton-cg’, ‘sag’, ‘saga’ and ‘lbfgs’ handle multinomial loss; ‘liblinear’ is limited to one-versus-rest schemes.‘newton-cg’, ‘lbfgs’, ‘sag’ and ‘saga’ handle L2 or no penalty.‘liblinear’ and ‘saga’ also handle L1 penalty.‘saga’ also supports ‘elasticnet’ penalty\n",
        "‘liblinear’ does not support setting penalty='none'<br>\n",
        "*Regularization:* Regularization is a way to avoid overfitting by penalizing high-valued regression coefficients. In simple terms, it reduces parameters and shrinks (simplifies) the model. This more streamlined, more parsimonious model will likely perform better at predictions. Regularization adds penalties to more complex models and then sorts potential models from least overfit to greatest; The model with the lowest “overfitting” score is usually the best choice for predictive power.\n",
        "L1 regularization adds an L1 penalty equal to the absolute value of the magnitude of coefficients. In other words, it limits the size of the coefficients.\n",
        "L2 regularization adds an L2 penalty equal to the square of the magnitude of coefficients.<br>\n",
        "As we can observe from the table our model performance remains constant after tuning the hyper parameters. The model has constant accuracy and recall which is 72% but best model shows an increase in True Positive. \n",
        "\n",
        "\n"
      ]
    },
    {
      "cell_type": "markdown",
      "metadata": {
        "id": "GGAfYqU6EOms",
        "colab_type": "text"
      },
      "source": [
        "D. Plotting Roc Curve using Best Model"
      ]
    },
    {
      "cell_type": "code",
      "metadata": {
        "id": "MQRBM1dRE66Z",
        "colab_type": "code",
        "colab": {
          "base_uri": "https://localhost:8080/",
          "height": 313
        },
        "outputId": "386f664e-57c6-471f-df74-40aab75500cb"
      },
      "source": [
        "lr_probs = grid_lr.predict_proba(x_test.T)\n",
        "lr_probs = lr_probs[:, 1]\n",
        "ns_auc = roc_auc_score(y_test.T, ns_probs)\n",
        "lr_auc = roc_auc_score(y_test.T, lr_probs)\n",
        "# summarize scores\n",
        "print('No Disease: ROC AUC=%.3f' % (ns_auc))\n",
        "print('Disease: ROC AUC=%.3f' % (lr_auc))\n",
        "# calculate roc curves\n",
        "ns_fpr, ns_tpr, _ = roc_curve(y_test.T, ns_probs)\n",
        "lr_fpr, lr_tpr, _ = roc_curve(y_test.T, lr_probs)\n",
        "# plot the roc curve for the model\n",
        "pyplot.plot(ns_fpr, ns_tpr, linestyle='--', label='No Disease')\n",
        "pyplot.plot(lr_fpr, lr_tpr, marker='.', label='Disease')\n",
        "# axis labels\n",
        "pyplot.xlabel('False Positive Rate')\n",
        "pyplot.ylabel('True Positive Rate')\n",
        "# show the legend\n",
        "pyplot.legend()\n",
        "# show the plot\n",
        "pyplot.show()"
      ],
      "execution_count": 52,
      "outputs": [
        {
          "output_type": "stream",
          "text": [
            "No Disease: ROC AUC=0.500\n",
            "Disease: ROC AUC=0.785\n"
          ],
          "name": "stdout"
        },
        {
          "output_type": "display_data",
          "data": {
            "image/png": "[encoded data removed]",
            "text/plain": [
              "<Figure size 432x288 with 1 Axes>"
            ]
          },
          "metadata": {
            "tags": [],
            "needs_background": "light"
          }
        }
      ]
    },
    {
      "cell_type": "markdown",
      "metadata": {
        "id": "ldrop3jtbF7r",
        "colab_type": "text"
      },
      "source": [
        "8. ANN 0 Layer"
      ]
    },
    {
      "cell_type": "code",
      "metadata": {
        "id": "F7Km2MmlQu8r",
        "colab_type": "code",
        "colab": {}
      },
      "source": [
        "# creating functions for calculating recall, f1 score and precision\n",
        "from keras import backend as K\n",
        "\n",
        "def recall_m(y_true, y_pred):\n",
        "    true_positives = K.sum(K.round(K.clip(y_true * y_pred, 0, 1)))\n",
        "    possible_positives = K.sum(K.round(K.clip(y_true, 0, 1)))\n",
        "    recall = true_positives / (possible_positives + K.epsilon())\n",
        "    return recall\n",
        "\n",
        "def precision_m(y_true, y_pred):\n",
        "    true_positives = K.sum(K.round(K.clip(y_true * y_pred, 0, 1)))\n",
        "    predicted_positives = K.sum(K.round(K.clip(y_pred, 0, 1)))\n",
        "    precision = true_positives / (predicted_positives + K.epsilon())\n",
        "    return precision\n",
        "\n",
        "def f1_m(y_true, y_pred):\n",
        "    precision = precision_m(y_true, y_pred)\n",
        "    recall = recall_m(y_true, y_pred)\n",
        "    return 2*((precision*recall)/(precision+recall+K.epsilon()))"
      ],
      "execution_count": 0,
      "outputs": []
    },
    {
      "cell_type": "markdown",
      "metadata": {
        "id": "xgjj8lm4EWee",
        "colab_type": "text"
      },
      "source": [
        "A. Base Model "
      ]
    },
    {
      "cell_type": "code",
      "metadata": {
        "id": "Usmdf3nobJv-",
        "colab_type": "code",
        "colab": {}
      },
      "source": [
        "from keras.models import Sequential\n",
        "from keras.layers import Dense, Activation\n",
        "\n",
        "model = Sequential()\n",
        "model.add(Dense(1,activation='sigmoid',input_shape=(16,)))\n",
        "model.compile(optimizer='rmsprop',\n",
        "              loss='binary_crossentropy',\n",
        "              metrics=['accuracy',f1_m,precision_m, recall_m])\n",
        "model.fit(x_train.T, y_train.T, epochs=5, batch_size=128,verbose = False)\n",
        "loss, accuracy, f1_score, precision, recall= model.evaluate(x_test.T, y_test.T, batch_size=128)\n",
        "loss, accuracy, f1_score, precision, recall"
      ],
      "execution_count": 0,
      "outputs": []
    },
    {
      "cell_type": "markdown",
      "metadata": {
        "id": "N2NF3yurEie_",
        "colab_type": "text"
      },
      "source": [
        "B. HyperTuning Parameters to get Best parameters in an attempt to increase accuracy and recall."
      ]
    },
    {
      "cell_type": "code",
      "metadata": {
        "id": "mxZVzRvygt5w",
        "colab_type": "code",
        "colab": {}
      },
      "source": [
        "from keras.wrappers.scikit_learn import KerasClassifier\n",
        "from sklearn.model_selection import cross_val_score\n",
        "from sklearn.model_selection import GridSearchCV\n",
        "def build_ann(optimizer):\n",
        "  model = Sequential()\n",
        "  model.add(Dense(1,activation='sigmoid',input_shape=(16,)))\n",
        "  model.compile(optimizer='rmsprop',\n",
        "              loss='binary_crossentropy',\n",
        "              metrics=['accuracy',f1_m,precision_m, recall_m])\n",
        "  return model\n",
        "model=KerasClassifier(build_fn=build_ann)\n",
        "parameters={'batch_size':[25,32],\n",
        "           'epochs':[10,50],\n",
        "           'optimizer':['adam','rmsprop']}\n",
        "grid_search=GridSearchCV(estimator= model,\n",
        "                        param_grid=parameters,\n",
        "                        scoring='accuracy',\n",
        "                        cv=10)\n",
        "grid_search=grid_search.fit(x_train.T, y_train.T,verbose=False)\n",
        "grid_search.best_score_"
      ],
      "execution_count": 0,
      "outputs": []
    },
    {
      "cell_type": "code",
      "metadata": {
        "id": "ZV-yrIE4rmX1",
        "colab_type": "code",
        "colab": {}
      },
      "source": [
        "grid_predictions_ann = grid_search.predict(x_test.T)\n",
        "print(\"\\n Classification Report \\n\",classification_report(y_test.T,grid_predictions_ann))"
      ],
      "execution_count": 0,
      "outputs": []
    },
    {
      "cell_type": "code",
      "metadata": {
        "id": "6w5wUiQtNSE8",
        "colab_type": "code",
        "colab": {}
      },
      "source": [
        "best_parameters=grid_search.best_params_\n",
        "best_parameters"
      ],
      "execution_count": 0,
      "outputs": []
    },
    {
      "cell_type": "markdown",
      "metadata": {
        "id": "OlCfzTTYE90X",
        "colab_type": "text"
      },
      "source": [
        "C. Comparing Training Accuracy with Validation Accuracy"
      ]
    },
    {
      "cell_type": "code",
      "metadata": {
        "id": "xQRWKUCLGCjQ",
        "colab_type": "code",
        "colab": {
          "base_uri": "https://localhost:8080/",
          "height": 573
        },
        "outputId": "a2ed4201-430b-46db-b0b5-da41bb44f78a"
      },
      "source": [
        "history = model.fit(x_train.T, y_train.T, validation_split=0.25, epochs=50, batch_size=25,verbose=0)\n",
        "plt.plot(history.history['accuracy'])\n",
        "plt.plot(history.history['val_accuracy'])\n",
        "plt.title('Model accuracy')\n",
        "plt.ylabel('Accuracy')\n",
        "plt.xlabel('Epoch')\n",
        "plt.legend(['Test', 'Train'], loc='upper left')\n",
        "plt.show()\n",
        "\n",
        "plt.plot(history.history['loss'])\n",
        "plt.plot(history.history['val_loss'])\n",
        "plt.title('Model loss')\n",
        "plt.ylabel('Loss')\n",
        "plt.xlabel('Epoch')\n",
        "plt.legend(['Test', 'Train'], loc='upper left')\n",
        "plt.show()"
      ],
      "execution_count": 64,
      "outputs": [
        {
          "output_type": "display_data",
          "data": {
            "image/png": "[encoded data removed]",
            "text/plain": [
              "<Figure size 432x288 with 1 Axes>"
            ]
          },
          "metadata": {
            "tags": [],
            "needs_background": "light"
          }
        },
        {
          "output_type": "display_data",
          "data": {
            "image/png": "[encoded data removed]",
            "text/plain": [
              "<Figure size 432x288 with 1 Axes>"
            ]
          },
          "metadata": {
            "tags": [],
            "needs_background": "light"
          }
        }
      ]
    },
    {
      "cell_type": "markdown",
      "metadata": {
        "id": "zhGvsWVbWsZY",
        "colab_type": "text"
      },
      "source": [
        "**Analysis:** As Training and Validation Accuracy are similar this model is better and also Training Loss and Validation Loss are reducing it means that the data is not overfitting."
      ]
    },
    {
      "cell_type": "markdown",
      "metadata": {
        "id": "QwTIXmL6F6N_",
        "colab_type": "text"
      },
      "source": [
        "D. Comparing ANN0 Base Model with ANN0 Best Model"
      ]
    },
    {
      "cell_type": "code",
      "metadata": {
        "id": "nHfsetsMrp2L",
        "colab_type": "code",
        "colab": {
          "base_uri": "https://localhost:8080/",
          "height": 111
        },
        "outputId": "f5820631-0e58-4bff-9b74-008793f39c09"
      },
      "source": [
        "#import plotly.express as px\n",
        "import plotly.offline as px\n",
        "import plotly.graph_objects as go\n",
        "tune2 = pd.DataFrame(data=None,columns=['Model','Accuracy','Precision','Recall','F1_Score','Hyper_Parameters'])\n",
        "tune2['Model']=  ['ANN0','ANN0_Best']\n",
        "tune2['Accuracy']=  [0.69,0.72]\n",
        "tune2['Precision']=  [0.73,0.73]\n",
        "tune2['Recall']=  [0.63,0.72]\n",
        "tune2['F1_Score']=  [0.67,0.72]\n",
        "tune2['Hyper_Parameters']= [['batch_size:128',\n",
        "           'epochs:5',\n",
        "           'optimizer: rmsprop'],['batch_size:25',\n",
        "           'epochs:50',\n",
        "           'optimizer:rmsprop']]\n",
        "tune2\n",
        "#fig = go.Figure(data=[go.Table(\n",
        "  #  columnorder = [1,2,3,4,5,6],\n",
        "   # columnwidth = [100,80,80,80,80,400],\n",
        "   # header=dict(values=list(tune2.columns),\n",
        "              #  fill_color='paleturquoise',\n",
        "            #    align='left'),\n",
        "   # cells=dict(values=[tune2.Model,tune2.Accuracy,tune2.Precision,tune2.Recall,tune2.F1_Score,tune2.Hyper_Parameters],\n",
        "         #      fill_color='lavender',\n",
        "        #       align='left'))\n",
        "#])\n",
        "\n",
        "#fig.show()\n",
        "# commenting the code as it was plotly figure were not showing up in Html"
      ],
      "execution_count": 152,
      "outputs": [
        {
          "output_type": "execute_result",
          "data": {
            "text/html": [
              "<div>\n",
              "<style scoped>\n",
              "    .dataframe tbody tr th:only-of-type {\n",
              "        vertical-align: middle;\n",
              "    }\n",
              "\n",
              "    .dataframe tbody tr th {\n",
              "        vertical-align: top;\n",
              "    }\n",
              "\n",
              "    .dataframe thead th {\n",
              "        text-align: right;\n",
              "    }\n",
              "</style>\n",
              "<table border=\"1\" class=\"dataframe\">\n",
              "  <thead>\n",
              "    <tr style=\"text-align: right;\">\n",
              "      <th></th>\n",
              "      <th>Model</th>\n",
              "      <th>Accuracy</th>\n",
              "      <th>Precision</th>\n",
              "      <th>Recall</th>\n",
              "      <th>F1_Score</th>\n",
              "      <th>Hyper_Parameters</th>\n",
              "    </tr>\n",
              "  </thead>\n",
              "  <tbody>\n",
              "    <tr>\n",
              "      <th>0</th>\n",
              "      <td>ANN0</td>\n",
              "      <td>0.69</td>\n",
              "      <td>0.73</td>\n",
              "      <td>0.63</td>\n",
              "      <td>0.67</td>\n",
              "      <td>[batch_size:128, epochs:5, optimizer: rmsprop]</td>\n",
              "    </tr>\n",
              "    <tr>\n",
              "      <th>1</th>\n",
              "      <td>ANN0_Best</td>\n",
              "      <td>0.72</td>\n",
              "      <td>0.73</td>\n",
              "      <td>0.72</td>\n",
              "      <td>0.72</td>\n",
              "      <td>[batch_size:25, epochs:50, optimizer:rmsprop]</td>\n",
              "    </tr>\n",
              "  </tbody>\n",
              "</table>\n",
              "</div>"
            ],
            "text/plain": [
              "       Model  ...                                Hyper_Parameters\n",
              "0       ANN0  ...  [batch_size:128, epochs:5, optimizer: rmsprop]\n",
              "1  ANN0_Best  ...   [batch_size:25, epochs:50, optimizer:rmsprop]\n",
              "\n",
              "[2 rows x 6 columns]"
            ]
          },
          "metadata": {
            "tags": []
          },
          "execution_count": 152
        }
      ]
    },
    {
      "cell_type": "markdown",
      "metadata": {
        "id": "JJaCn0g0Xo7P",
        "colab_type": "text"
      },
      "source": [
        "**Analysis:** After Hypertuning ANN with zero hidden layer there is a significan rise in Accuracy and Recall. The Best model has Accuracy of 72% and recall as 72%. The hyper Parameter tuned are Epoch, Batch size and Optimizer.<br>\n",
        "*Epoch :* One Epoch is when an entire dataset is passed forward and backward through the neural network only once.One epoch leads to underfitting and as the number of epochs increases, more number of times the weight are changed in the neural network and the curve goes from underfitting to optimal to overfitting curve.<br>\n",
        "*Batch Size :* Total number of training examples present in a single batch.<br>\n",
        "*Optimizers :* Optimizers are algorithms or methods used to change the attributes of your neural network such as weights and learning rate in order to reduce the losses.<br>\n",
        "*RMSprop Optimizer :* RMSprop optimizer is similar to the gradient descent algorithm with momentum. The RMSprop optimizer restricts the oscillations in the vertical direction. Therefore, we can increase our learning rate and our algorithm could take larger steps in the horizontal direction converging faster.<br>\n",
        "*Adam Optimizer:* Adam is a replacement optimization algorithm for stochastic gradient descent for training deep learning models. Adam combines the best properties of the AdaGrad and RMSProp algorithms to provide an optimization algorithm that can handle sparse gradients on noisy problems<br>\n",
        "Keras’s binary_crossentropy, when fed with input resulting from sigmoid activation, will not produce over- or underflow of numbers.\n",
        "Therefore as observed above reducing batch size and increasing epoch increases the accuracy and recall for ANN with zero hidden layers."
      ]
    },
    {
      "cell_type": "markdown",
      "metadata": {
        "id": "6fXfGwOtGCZV",
        "colab_type": "text"
      },
      "source": [
        "E. Generating Roc Curve for Ann0 Best Model"
      ]
    },
    {
      "cell_type": "code",
      "metadata": {
        "id": "d0khyNuXIgUg",
        "colab_type": "code",
        "colab": {
          "base_uri": "https://localhost:8080/",
          "height": 313
        },
        "outputId": "eb5c9ac9-33bb-49c5-bd33-96440cfd9537"
      },
      "source": [
        "lr_probs = grid_search.predict_proba(x_test.T)\n",
        "lr_probs = lr_probs[:, 1]\n",
        "ns_auc = roc_auc_score(y_test.T, ns_probs)\n",
        "lr_auc = roc_auc_score(y_test.T, lr_probs)\n",
        "# summarize scores\n",
        "print('No Disease: ROC AUC=%.3f' % (ns_auc))\n",
        "print('Disease: ROC AUC=%.3f' % (lr_auc))\n",
        "# calculate roc curves\n",
        "ns_fpr, ns_tpr, _ = roc_curve(y_test.T, ns_probs)\n",
        "lr_fpr, lr_tpr, _ = roc_curve(y_test.T, lr_probs)\n",
        "# plot the roc curve for the model\n",
        "pyplot.plot(ns_fpr, ns_tpr, linestyle='--', label='No Disease')\n",
        "pyplot.plot(lr_fpr, lr_tpr, marker='.', label='Disease')\n",
        "# axis labels\n",
        "pyplot.xlabel('False Positive Rate')\n",
        "pyplot.ylabel('True Positive Rate')\n",
        "# show the legend\n",
        "pyplot.legend()\n",
        "# show the plot\n",
        "pyplot.show()"
      ],
      "execution_count": 89,
      "outputs": [
        {
          "output_type": "stream",
          "text": [
            "No Disease: ROC AUC=0.500\n",
            "Disease: ROC AUC=0.788\n"
          ],
          "name": "stdout"
        },
        {
          "output_type": "display_data",
          "data": {
            "image/png": "[encoded data removed]",
            "text/plain": [
              "<Figure size 432x288 with 1 Axes>"
            ]
          },
          "metadata": {
            "tags": [],
            "needs_background": "light"
          }
        }
      ]
    },
    {
      "cell_type": "markdown",
      "metadata": {
        "id": "41PVOgQegD6U",
        "colab_type": "text"
      },
      "source": [
        "9. ANN 1 Layer"
      ]
    },
    {
      "cell_type": "markdown",
      "metadata": {
        "id": "uTTxd_S3GJ4c",
        "colab_type": "text"
      },
      "source": [
        "A. Base Model"
      ]
    },
    {
      "cell_type": "code",
      "metadata": {
        "id": "ETK6_KsPfjwY",
        "colab_type": "code",
        "colab": {}
      },
      "source": [
        "model1 = Sequential()\n",
        "model1.add(Dense(units=4, activation='relu',input_shape=(16,)))\n",
        "model1.add(Dense(1,activation='sigmoid'))\n",
        "model1.compile(optimizer='rmsprop',\n",
        "              loss='binary_crossentropy',\n",
        "              metrics=['accuracy',f1_m,precision_m, recall_m])\n",
        "model1.fit(x_train.T, y_train.T, epochs=5, batch_size=128,verbose = False)\n",
        "loss, accuracy, f1_score, precision, recall= model1.evaluate(x_test.T, y_test.T, batch_size=128)\n",
        "loss, accuracy, f1_score, precision, recall"
      ],
      "execution_count": 0,
      "outputs": []
    },
    {
      "cell_type": "markdown",
      "metadata": {
        "id": "RDStREfBGruD",
        "colab_type": "text"
      },
      "source": [
        "B. HyperTuning Parameters to get Best parameters in an attempt to increase accuracy and recall."
      ]
    },
    {
      "cell_type": "code",
      "metadata": {
        "id": "TCDMk66SDRNe",
        "colab_type": "code",
        "colab": {}
      },
      "source": [
        "def build_ann(optimizer):\n",
        "  model1 = Sequential()\n",
        "  model1.add(Dense(units=4, activation='relu',input_shape=(16,)))\n",
        "  model1.add(Dense(1,activation='sigmoid'))\n",
        "  model1.compile(optimizer='rmsprop',\n",
        "              loss='binary_crossentropy',\n",
        "              metrics=['accuracy'])\n",
        "  return model1\n",
        "model1=KerasClassifier(build_fn=build_ann)\n",
        "parameters={'batch_size':[25,32],\n",
        "           'epochs':[10,50],\n",
        "           'optimizer':['adam','rmsprop']}\n",
        "grid_search=GridSearchCV(estimator= model1,\n",
        "                        param_grid=parameters,\n",
        "                        scoring='accuracy',\n",
        "                        cv=10)\n",
        "grid_search_1=grid_search.fit(x_train.T, y_train.T,verbose=False)\n",
        "grid_search_1.best_score_"
      ],
      "execution_count": 0,
      "outputs": []
    },
    {
      "cell_type": "code",
      "metadata": {
        "id": "t-PI7xV7yeI5",
        "colab_type": "code",
        "colab": {}
      },
      "source": [
        "grid_predictions_ann1 = grid_search_1.predict(x_test.T)\n",
        "print(\"\\n Classification Report \\n\",classification_report(y_test.T,grid_predictions_ann1))"
      ],
      "execution_count": 0,
      "outputs": []
    },
    {
      "cell_type": "code",
      "metadata": {
        "id": "nL65bZz7DbpY",
        "colab_type": "code",
        "colab": {}
      },
      "source": [
        "best_parameters1=grid_search_1.best_params_\n",
        "best_parameters1"
      ],
      "execution_count": 0,
      "outputs": []
    },
    {
      "cell_type": "markdown",
      "metadata": {
        "id": "ThjwFj1QGzq9",
        "colab_type": "text"
      },
      "source": [
        "C. Comparing Training Accuracy with Validation Accuracy"
      ]
    },
    {
      "cell_type": "code",
      "metadata": {
        "id": "r4OdEQZxKpke",
        "colab_type": "code",
        "colab": {
          "base_uri": "https://localhost:8080/",
          "height": 573
        },
        "outputId": "7e078418-4dc3-4a62-af5c-6300632c57b0"
      },
      "source": [
        "history = model1.fit(x_train.T, y_train.T, validation_split=0.25, epochs=10, batch_size=32,verbose=0)\n",
        "plt.plot(history.history['accuracy'])\n",
        "plt.plot(history.history['val_accuracy'])\n",
        "plt.title('Model accuracy')\n",
        "plt.ylabel('Accuracy')\n",
        "plt.xlabel('Epoch')\n",
        "plt.legend(['Test', 'Train'], loc='upper left')\n",
        "plt.show()\n",
        "\n",
        "plt.plot(history.history['loss'])\n",
        "plt.plot(history.history['val_loss'])\n",
        "plt.title('Model loss')\n",
        "plt.ylabel('Loss')\n",
        "plt.xlabel('Epoch')\n",
        "plt.legend(['Test', 'Train'], loc='upper left')\n",
        "plt.show()"
      ],
      "execution_count": 73,
      "outputs": [
        {
          "output_type": "display_data",
          "data": {
            "image/png": "[encoded data removed]",
            "text/plain": [
              "<Figure size 432x288 with 1 Axes>"
            ]
          },
          "metadata": {
            "tags": [],
            "needs_background": "light"
          }
        },
        {
          "output_type": "display_data",
          "data": {
            "image/png": "[encoded data removed]",
            "text/plain": [
              "<Figure size 432x288 with 1 Axes>"
            ]
          },
          "metadata": {
            "tags": [],
            "needs_background": "light"
          }
        }
      ]
    },
    {
      "cell_type": "markdown",
      "metadata": {
        "id": "fRX4Jm3iXe6e",
        "colab_type": "text"
      },
      "source": [
        "Analysis: As Training and Validation Accuracy are similar this model is better and also Training Loss and Validation Loss are reducing it means that the data is not overfitting."
      ]
    },
    {
      "cell_type": "markdown",
      "metadata": {
        "id": "es2McF3MHLqV",
        "colab_type": "text"
      },
      "source": [
        "D. Comparing ANN1 Base Model with ANN1 Best Model"
      ]
    },
    {
      "cell_type": "code",
      "metadata": {
        "id": "SvtLCTp8th2o",
        "colab_type": "code",
        "colab": {
          "base_uri": "https://localhost:8080/",
          "height": 111
        },
        "outputId": "8e6981bc-9770-4e77-bb60-a78cc2c145fa"
      },
      "source": [
        "tune3 = pd.DataFrame(data=None,columns=['Model','Accuracy','Precision','Recall','F1_Score','Hyper_Parameters'])\n",
        "tune3['Model']=  ['ANN1','ANN1_Best']\n",
        "tune3['Accuracy']=  [0.71,0.72]\n",
        "tune3['Precision']=  [0.77,0.72]\n",
        "tune3['Recall']=  [0.62,0.72]\n",
        "tune3['F1_Score']=  [0.68,0.72]\n",
        "tune3['Hyper_Parameters']= [['batch_size:128',\n",
        "           'epochs:5',\n",
        "           'optimizer: rmsprop'],['batch_size:32',\n",
        "           'epochs:10',\n",
        "           'optimizer:adam']]\n",
        "tune3 \n",
        "#fig = go.Figure(data=[go.Table(\n",
        " #   columnorder = [1,2,3,4,5,6],\n",
        "  #  columnwidth = [100,80,80,80,80,400],\n",
        "   # header=dict(values=list(tune3.columns),\n",
        "    #            fill_color='paleturquoise',\n",
        "     #           align='left'),\n",
        "    #cells=dict(values=[tune3.Model,tune3.Accuracy,tune3.Precision,tune3.Recall,tune3.F1_Score,tune3.Hyper_Parameters],\n",
        "     #          fill_color='lavender',\n",
        "      #         align='left'))\n",
        "#])\n",
        "\n",
        "#fig.show()"
      ],
      "execution_count": 153,
      "outputs": [
        {
          "output_type": "execute_result",
          "data": {
            "text/html": [
              "<div>\n",
              "<style scoped>\n",
              "    .dataframe tbody tr th:only-of-type {\n",
              "        vertical-align: middle;\n",
              "    }\n",
              "\n",
              "    .dataframe tbody tr th {\n",
              "        vertical-align: top;\n",
              "    }\n",
              "\n",
              "    .dataframe thead th {\n",
              "        text-align: right;\n",
              "    }\n",
              "</style>\n",
              "<table border=\"1\" class=\"dataframe\">\n",
              "  <thead>\n",
              "    <tr style=\"text-align: right;\">\n",
              "      <th></th>\n",
              "      <th>Model</th>\n",
              "      <th>Accuracy</th>\n",
              "      <th>Precision</th>\n",
              "      <th>Recall</th>\n",
              "      <th>F1_Score</th>\n",
              "      <th>Hyper_Parameters</th>\n",
              "    </tr>\n",
              "  </thead>\n",
              "  <tbody>\n",
              "    <tr>\n",
              "      <th>0</th>\n",
              "      <td>ANN1</td>\n",
              "      <td>0.71</td>\n",
              "      <td>0.77</td>\n",
              "      <td>0.62</td>\n",
              "      <td>0.68</td>\n",
              "      <td>[batch_size:128, epochs:5, optimizer: rmsprop]</td>\n",
              "    </tr>\n",
              "    <tr>\n",
              "      <th>1</th>\n",
              "      <td>ANN1_Best</td>\n",
              "      <td>0.72</td>\n",
              "      <td>0.72</td>\n",
              "      <td>0.72</td>\n",
              "      <td>0.72</td>\n",
              "      <td>[batch_size:32, epochs:10, optimizer:adam]</td>\n",
              "    </tr>\n",
              "  </tbody>\n",
              "</table>\n",
              "</div>"
            ],
            "text/plain": [
              "       Model  ...                                Hyper_Parameters\n",
              "0       ANN1  ...  [batch_size:128, epochs:5, optimizer: rmsprop]\n",
              "1  ANN1_Best  ...      [batch_size:32, epochs:10, optimizer:adam]\n",
              "\n",
              "[2 rows x 6 columns]"
            ]
          },
          "metadata": {
            "tags": []
          },
          "execution_count": 153
        }
      ]
    },
    {
      "cell_type": "markdown",
      "metadata": {
        "id": "fN-DIIp-gcSM",
        "colab_type": "text"
      },
      "source": [
        "*Analysis:* After Hypertuning ANN with one hidden layer there is a slight rise in Accuracy and significant rise in Recall from base model. The Best model has Accuracy of 72% and recall as 72% but the otimizer used in best model is adam.\n",
        "Here we have added one hidden layer with activation function as relu.<br>\n",
        "*Activation function:* It is used to determine the output of neural network like yes or no. It maps the resulting values in between 0 to 1 or -1 to 1 etc\n"
      ]
    },
    {
      "cell_type": "markdown",
      "metadata": {
        "id": "Lp_21cRfHY2E",
        "colab_type": "text"
      },
      "source": [
        "E. Generating Roc Curve for Ann1 Best Model"
      ]
    },
    {
      "cell_type": "code",
      "metadata": {
        "id": "RqjXNb5VJXXu",
        "colab_type": "code",
        "colab": {
          "base_uri": "https://localhost:8080/",
          "height": 313
        },
        "outputId": "ffff64c6-ba44-4d97-cdc1-f14d9b467c2d"
      },
      "source": [
        "lr_probs = grid_search_1.predict_proba(x_test.T)\n",
        "lr_probs = lr_probs[:, 1]\n",
        "ns_auc = roc_auc_score(y_test.T, ns_probs)\n",
        "lr_auc = roc_auc_score(y_test.T, lr_probs)\n",
        "# summarize scores\n",
        "print('No Disease: ROC AUC=%.3f' % (ns_auc))\n",
        "print('Disease: ROC AUC=%.3f' % (lr_auc))\n",
        "# calculate roc curves\n",
        "ns_fpr, ns_tpr, _ = roc_curve(y_test.T, ns_probs)\n",
        "lr_fpr, lr_tpr, _ = roc_curve(y_test.T, lr_probs)\n",
        "# plot the roc curve for the model\n",
        "pyplot.plot(ns_fpr, ns_tpr, linestyle='--', label='No Disease')\n",
        "pyplot.plot(lr_fpr, lr_tpr, marker='.', label='Disease')\n",
        "# axis labels\n",
        "pyplot.xlabel('False Positive Rate')\n",
        "pyplot.ylabel('True Positive Rate')\n",
        "# show the legend\n",
        "pyplot.legend()\n",
        "# show the plot\n",
        "pyplot.show()"
      ],
      "execution_count": 88,
      "outputs": [
        {
          "output_type": "stream",
          "text": [
            "No Disease: ROC AUC=0.500\n",
            "Disease: ROC AUC=0.789\n"
          ],
          "name": "stdout"
        },
        {
          "output_type": "display_data",
          "data": {
            "image/png": "[encoded data removed]",
            "text/plain": [
              "<Figure size 432x288 with 1 Axes>"
            ]
          },
          "metadata": {
            "tags": [],
            "needs_background": "light"
          }
        }
      ]
    },
    {
      "cell_type": "markdown",
      "metadata": {
        "id": "3egKPJeHgk6b",
        "colab_type": "text"
      },
      "source": [
        "10. ANN 2 Layer"
      ]
    },
    {
      "cell_type": "markdown",
      "metadata": {
        "id": "7FPaeI3oG_Vp",
        "colab_type": "text"
      },
      "source": [
        "A. Base Model"
      ]
    },
    {
      "cell_type": "code",
      "metadata": {
        "id": "H8ms6pFagff9",
        "colab_type": "code",
        "colab": {}
      },
      "source": [
        "model2 = Sequential()\n",
        "model2.add(Dense(units=4, activation='relu',input_shape=(16,)))\n",
        "model2.add(Dense(units=4, activation='relu'))\n",
        "model2.add(Dense(1,activation='sigmoid'))\n",
        "model2.compile(optimizer='rmsprop',\n",
        "              loss='binary_crossentropy',\n",
        "              metrics=['accuracy',f1_m,precision_m, recall_m])\n",
        "model2.fit(x_train.T, y_train.T, epochs=5, batch_size=128,verbose = False)\n",
        "loss, accuracy, f1_score, precision, recall= model2.evaluate(x_test.T, y_test.T, batch_size=128)\n",
        "loss, accuracy, f1_score, precision, recall"
      ],
      "execution_count": 0,
      "outputs": []
    },
    {
      "cell_type": "markdown",
      "metadata": {
        "id": "59m8O7OtHCX8",
        "colab_type": "text"
      },
      "source": [
        "B. HyperTuning Parameters to get Best parameters in an attempt to increase accuracy and recall."
      ]
    },
    {
      "cell_type": "code",
      "metadata": {
        "id": "FAmyp_82Dscr",
        "colab_type": "code",
        "colab": {}
      },
      "source": [
        "def build_ann(optimizer):\n",
        "  model2 = Sequential()\n",
        "  model2.add(Dense(units=4, activation='relu',input_shape=(16,)))\n",
        "  model2.add(Dense(units=4, activation='relu'))\n",
        "  model2.add(Dense(1,activation='sigmoid'))\n",
        "  model2.compile(optimizer='rmsprop',\n",
        "              loss='binary_crossentropy',\n",
        "              metrics=['accuracy'])\n",
        "  return model2\n",
        "model2=KerasClassifier(build_fn=build_ann)\n",
        "parameters={'batch_size':[25,32],\n",
        "           'epochs':[10,50],\n",
        "           'optimizer':['adam','rmsprop']}\n",
        "grid_search=GridSearchCV(estimator= model2,\n",
        "                        param_grid=parameters,\n",
        "                        scoring='accuracy',\n",
        "                        cv=10)\n",
        "grid_search_2=grid_search.fit(x_train.T, y_train.T,verbose=False)\n",
        "grid_search_2.best_score_"
      ],
      "execution_count": 0,
      "outputs": []
    },
    {
      "cell_type": "code",
      "metadata": {
        "id": "UfE-ICvy0CUH",
        "colab_type": "code",
        "colab": {}
      },
      "source": [
        "grid_predictions_ann2 = grid_search_2.predict(x_test.T)\n",
        "print(\"\\n Classification Report \\n\",classification_report(y_test.T,grid_predictions_ann2))"
      ],
      "execution_count": 0,
      "outputs": []
    },
    {
      "cell_type": "code",
      "metadata": {
        "id": "3hXwNGQvDx8q",
        "colab_type": "code",
        "colab": {}
      },
      "source": [
        "best_parameters2=grid_search_2.best_params_\n",
        "best_parameters2"
      ],
      "execution_count": 0,
      "outputs": []
    },
    {
      "cell_type": "markdown",
      "metadata": {
        "id": "OnorULBXG76q",
        "colab_type": "text"
      },
      "source": [
        "C. Comparing Training Accuracy with Validation Accuracy"
      ]
    },
    {
      "cell_type": "code",
      "metadata": {
        "id": "mrmBqksKK6eF",
        "colab_type": "code",
        "colab": {
          "base_uri": "https://localhost:8080/",
          "height": 573
        },
        "outputId": "c6a0182a-90c0-4aaf-b581-565157e80d01"
      },
      "source": [
        "history = model2.fit(x_train.T, y_train.T, validation_split=0.25, epochs=10, batch_size=25,verbose=0)\n",
        "plt.plot(history.history['accuracy'])\n",
        "plt.plot(history.history['val_accuracy'])\n",
        "plt.title('Model accuracy')\n",
        "plt.ylabel('Accuracy')\n",
        "plt.xlabel('Epoch')\n",
        "plt.legend(['Test', 'Train'], loc='upper left')\n",
        "plt.show()\n",
        "\n",
        "plt.plot(history.history['loss'])\n",
        "plt.plot(history.history['val_loss'])\n",
        "plt.title('Model loss')\n",
        "plt.ylabel('Loss')\n",
        "plt.xlabel('Epoch')\n",
        "plt.legend(['Test', 'Train'], loc='upper left')\n",
        "plt.show()"
      ],
      "execution_count": 84,
      "outputs": [
        {
          "output_type": "display_data",
          "data": {
            "image/png": "[encoded data removed]",
            "text/plain": [
              "<Figure size 432x288 with 1 Axes>"
            ]
          },
          "metadata": {
            "tags": [],
            "needs_background": "light"
          }
        },
        {
          "output_type": "display_data",
          "data": {
            "image/png": "[encoded data removed]",
            "text/plain": [
              "<Figure size 432x288 with 1 Axes>"
            ]
          },
          "metadata": {
            "tags": [],
            "needs_background": "light"
          }
        }
      ]
    },
    {
      "cell_type": "markdown",
      "metadata": {
        "id": "l1qhgA9QXjCs",
        "colab_type": "text"
      },
      "source": [
        "Analysis: As Training and Validation Accuracy are similar this model is better and also Training Loss and Validation Loss are reducing it means that the data is not overfitting."
      ]
    },
    {
      "cell_type": "markdown",
      "metadata": {
        "id": "5JgfDao2HRXF",
        "colab_type": "text"
      },
      "source": [
        "D. Comparing ANN2 Base Model with ANN2 Best Model"
      ]
    },
    {
      "cell_type": "code",
      "metadata": {
        "id": "L_1wA26huEMi",
        "colab_type": "code",
        "colab": {
          "base_uri": "https://localhost:8080/",
          "height": 111
        },
        "outputId": "68a598ef-0719-424c-c542-7a268feb7fd5"
      },
      "source": [
        "tune4 = pd.DataFrame(data=None,columns=['Model','Accuracy','Precision','Recall','F1_Score','Hyper_Parameters'])\n",
        "tune4['Model']=  ['ANN2','ANN2_Best']\n",
        "tune4['Accuracy']=  [0.71,0.72]\n",
        "tune4['Precision']=  [0.73,0.73]\n",
        "tune4['Recall']=  [0.69,0.72]\n",
        "tune4['F1_Score']=  [0.71,0.72]\n",
        "tune4['Hyper_Parameters']= [['batch_size:128',\n",
        "           'epochs:5',\n",
        "           'optimizer: rmsprop'],['batch_size:25',\n",
        "           'epochs:10',\n",
        "           'optimizer:rmsprop']]\n",
        "tune4\n",
        "#fig = go.Figure(data=[go.Table(\n",
        "  #  columnorder = [1,2,3,4,5,6],\n",
        "  #  columnwidth = [100,80,80,80,80,400],\n",
        "   # header=dict(values=list(tune4.columns),\n",
        "  #              fill_color='paleturquoise',\n",
        "   #             align='left'),\n",
        "  #  cells=dict(values=[tune4.Model,tune4.Accuracy,tune4.Precision,tune4.Recall,tune4.F1_Score,tune4.Hyper_Parameters],\n",
        "             #  fill_color='lavender',\n",
        "             #  align='left'))\n",
        "#])\n",
        "\n",
        "#fig.show()"
      ],
      "execution_count": 154,
      "outputs": [
        {
          "output_type": "execute_result",
          "data": {
            "text/html": [
              "<div>\n",
              "<style scoped>\n",
              "    .dataframe tbody tr th:only-of-type {\n",
              "        vertical-align: middle;\n",
              "    }\n",
              "\n",
              "    .dataframe tbody tr th {\n",
              "        vertical-align: top;\n",
              "    }\n",
              "\n",
              "    .dataframe thead th {\n",
              "        text-align: right;\n",
              "    }\n",
              "</style>\n",
              "<table border=\"1\" class=\"dataframe\">\n",
              "  <thead>\n",
              "    <tr style=\"text-align: right;\">\n",
              "      <th></th>\n",
              "      <th>Model</th>\n",
              "      <th>Accuracy</th>\n",
              "      <th>Precision</th>\n",
              "      <th>Recall</th>\n",
              "      <th>F1_Score</th>\n",
              "      <th>Hyper_Parameters</th>\n",
              "    </tr>\n",
              "  </thead>\n",
              "  <tbody>\n",
              "    <tr>\n",
              "      <th>0</th>\n",
              "      <td>ANN2</td>\n",
              "      <td>0.71</td>\n",
              "      <td>0.73</td>\n",
              "      <td>0.69</td>\n",
              "      <td>0.71</td>\n",
              "      <td>[batch_size:128, epochs:5, optimizer: rmsprop]</td>\n",
              "    </tr>\n",
              "    <tr>\n",
              "      <th>1</th>\n",
              "      <td>ANN2_Best</td>\n",
              "      <td>0.72</td>\n",
              "      <td>0.73</td>\n",
              "      <td>0.72</td>\n",
              "      <td>0.72</td>\n",
              "      <td>[batch_size:25, epochs:10, optimizer:rmsprop]</td>\n",
              "    </tr>\n",
              "  </tbody>\n",
              "</table>\n",
              "</div>"
            ],
            "text/plain": [
              "       Model  ...                                Hyper_Parameters\n",
              "0       ANN2  ...  [batch_size:128, epochs:5, optimizer: rmsprop]\n",
              "1  ANN2_Best  ...   [batch_size:25, epochs:10, optimizer:rmsprop]\n",
              "\n",
              "[2 rows x 6 columns]"
            ]
          },
          "metadata": {
            "tags": []
          },
          "execution_count": 154
        }
      ]
    },
    {
      "cell_type": "markdown",
      "metadata": {
        "id": "MEFse3VkiTUd",
        "colab_type": "text"
      },
      "source": [
        "**Analysis:** After Hypertuning ANN with two hidden layer there is a slight rise in Accuracy and significant rise in Recall from base model. The Best model has Accuracy of 72% and recall as 72% after reducing batch size and increasing epoch. Here we have added two hidden layer with activation function as relu."
      ]
    },
    {
      "cell_type": "markdown",
      "metadata": {
        "id": "F9iwsP2ZHcpM",
        "colab_type": "text"
      },
      "source": [
        "E. Generating Roc Curve for Ann2 Best Model"
      ]
    },
    {
      "cell_type": "code",
      "metadata": {
        "id": "AGD2eHxlJdGl",
        "colab_type": "code",
        "colab": {
          "base_uri": "https://localhost:8080/",
          "height": 313
        },
        "outputId": "2dd490bc-3439-42f8-cdb4-df618c6799c0"
      },
      "source": [
        "lr_probs = grid_search_2.predict_proba(x_test.T)\n",
        "lr_probs = lr_probs[:, 1]\n",
        "ns_auc = roc_auc_score(y_test.T, ns_probs)\n",
        "lr_auc = roc_auc_score(y_test.T, lr_probs)\n",
        "# summarize scores\n",
        "print('No Disease: ROC AUC=%.3f' % (ns_auc))\n",
        "print('Disease: ROC AUC=%.3f' % (lr_auc))\n",
        "# calculate roc curves\n",
        "ns_fpr, ns_tpr, _ = roc_curve(y_test.T, ns_probs)\n",
        "lr_fpr, lr_tpr, _ = roc_curve(y_test.T, lr_probs)\n",
        "# plot the roc curve for the model\n",
        "pyplot.plot(ns_fpr, ns_tpr, linestyle='--', label='No Disease')\n",
        "pyplot.plot(lr_fpr, lr_tpr, marker='.', label='Disease')\n",
        "# axis labels\n",
        "pyplot.xlabel('False Positive Rate')\n",
        "pyplot.ylabel('True Positive Rate')\n",
        "# show the legend\n",
        "pyplot.legend()\n",
        "# show the plot\n",
        "pyplot.show()"
      ],
      "execution_count": 87,
      "outputs": [
        {
          "output_type": "stream",
          "text": [
            "No Disease: ROC AUC=0.500\n",
            "Disease: ROC AUC=0.788\n"
          ],
          "name": "stdout"
        },
        {
          "output_type": "display_data",
          "data": {
            "image/png": "[encoded data removed]",
            "text/plain": [
              "<Figure size 432x288 with 1 Axes>"
            ]
          },
          "metadata": {
            "tags": [],
            "needs_background": "light"
          }
        }
      ]
    },
    {
      "cell_type": "markdown",
      "metadata": {
        "id": "8UeKWiXxAktx",
        "colab_type": "text"
      },
      "source": [
        "### Comparing ANN with 0 Hidden layer, Ann with 1 Hidden Layer and Ann with 2 Hidden Layer"
      ]
    },
    {
      "cell_type": "code",
      "metadata": {
        "id": "BXQ4nqU_8OMt",
        "colab_type": "code",
        "colab": {
          "base_uri": "https://localhost:8080/",
          "height": 142
        },
        "outputId": "95d7a5c6-c812-4a5a-e540-a818cbd6f7a5"
      },
      "source": [
        "tune4 = pd.DataFrame(data=None,columns=['Model','Accuracy','Precision','Recall','F1_Score','AUC_Score','Hyper_Parameters'])\n",
        "tune4['Model']=  ['ANN0_Best','ANN1_Best','ANN2_Best']\n",
        "tune4['Accuracy']=  [0.72,0.72,0.72]\n",
        "tune4['Precision']=  [0.73,0.72,0.73]\n",
        "tune4['Recall']=  [0.72,0.72,0.72]\n",
        "tune4['F1_Score']=  [0.72,0.72,0.72]\n",
        "tune4['AUC_Score']=  [0.788,0.789,0.788]\n",
        "tune4['Hyper_Parameters']= [['batch_size:25','epochs:50','optimizer:rmsprop'],\n",
        "                            ['batch_size:32','epochs:10', 'optimizer:adam'],\n",
        "                            ['batch_size:25','epochs:10','optimizer:rmsprop']]\n",
        "tune4\n",
        "#fig = go.Figure(data=[go.Table(\n",
        " #   columnorder = [1,2,3,4,5,6,7],\n",
        "  #  columnwidth = [100,80,80,80,80,90,400],\n",
        "   # header=dict(values=list(tune4.columns),\n",
        "   #             fill_color='paleturquoise',\n",
        "    #            align='left'),\n",
        "    #cells=dict(values=[tune4.Model,tune4.Accuracy,tune4.Precision,tune4.Recall,tune4.F1_Score,tune4.AUC_Score,tune4.Hyper_Parameters],\n",
        "     #          fill_color='lavender',\n",
        "     #          align='left'))\n",
        "#])\n",
        "\n",
        "#fig.show()"
      ],
      "execution_count": 156,
      "outputs": [
        {
          "output_type": "execute_result",
          "data": {
            "text/html": [
              "<div>\n",
              "<style scoped>\n",
              "    .dataframe tbody tr th:only-of-type {\n",
              "        vertical-align: middle;\n",
              "    }\n",
              "\n",
              "    .dataframe tbody tr th {\n",
              "        vertical-align: top;\n",
              "    }\n",
              "\n",
              "    .dataframe thead th {\n",
              "        text-align: right;\n",
              "    }\n",
              "</style>\n",
              "<table border=\"1\" class=\"dataframe\">\n",
              "  <thead>\n",
              "    <tr style=\"text-align: right;\">\n",
              "      <th></th>\n",
              "      <th>Model</th>\n",
              "      <th>Accuracy</th>\n",
              "      <th>Precision</th>\n",
              "      <th>Recall</th>\n",
              "      <th>F1_Score</th>\n",
              "      <th>AUC_Score</th>\n",
              "      <th>Hyper_Parameters</th>\n",
              "    </tr>\n",
              "  </thead>\n",
              "  <tbody>\n",
              "    <tr>\n",
              "      <th>0</th>\n",
              "      <td>ANN0_Best</td>\n",
              "      <td>0.72</td>\n",
              "      <td>0.73</td>\n",
              "      <td>0.72</td>\n",
              "      <td>0.72</td>\n",
              "      <td>0.788</td>\n",
              "      <td>[batch_size:25, epochs:50, optimizer:rmsprop]</td>\n",
              "    </tr>\n",
              "    <tr>\n",
              "      <th>1</th>\n",
              "      <td>ANN1_Best</td>\n",
              "      <td>0.72</td>\n",
              "      <td>0.72</td>\n",
              "      <td>0.72</td>\n",
              "      <td>0.72</td>\n",
              "      <td>0.789</td>\n",
              "      <td>[batch_size:32, epochs:10, optimizer:adam]</td>\n",
              "    </tr>\n",
              "    <tr>\n",
              "      <th>2</th>\n",
              "      <td>ANN2_Best</td>\n",
              "      <td>0.72</td>\n",
              "      <td>0.73</td>\n",
              "      <td>0.72</td>\n",
              "      <td>0.72</td>\n",
              "      <td>0.788</td>\n",
              "      <td>[batch_size:25, epochs:10, optimizer:rmsprop]</td>\n",
              "    </tr>\n",
              "  </tbody>\n",
              "</table>\n",
              "</div>"
            ],
            "text/plain": [
              "       Model  ...                               Hyper_Parameters\n",
              "0  ANN0_Best  ...  [batch_size:25, epochs:50, optimizer:rmsprop]\n",
              "1  ANN1_Best  ...     [batch_size:32, epochs:10, optimizer:adam]\n",
              "2  ANN2_Best  ...  [batch_size:25, epochs:10, optimizer:rmsprop]\n",
              "\n",
              "[3 rows x 7 columns]"
            ]
          },
          "metadata": {
            "tags": []
          },
          "execution_count": 156
        }
      ]
    },
    {
      "cell_type": "markdown",
      "metadata": {
        "id": "PBe9xrMji-px",
        "colab_type": "text"
      },
      "source": [
        "Analysis: After Looking at above table all the three models have similar accuracy and recall. But if you look at the hyper parameters each model is best fitted at diiferent hyper parameters. One thing which i observed is as i added layers the loss was significantly reduced."
      ]
    },
    {
      "cell_type": "markdown",
      "metadata": {
        "id": "woq0KbTA5Qze",
        "colab_type": "text"
      },
      "source": [
        "### Comparing ANN0, Logistic Regression and SVM"
      ]
    },
    {
      "cell_type": "code",
      "metadata": {
        "id": "VIfkWZG-obnJ",
        "colab_type": "code",
        "colab": {
          "base_uri": "https://localhost:8080/",
          "height": 142
        },
        "outputId": "71e39f2e-7e41-41b5-8de1-fe20da1a8697"
      },
      "source": [
        "hyper7 = pd.DataFrame(data=None, index= ['ANN0','LR','SVM',],columns=['Accuracy','Precision','Recall','F1_Score','AUC_Score'])\n",
        "\n",
        "hyper7['Accuracy']=  [0.72,0.72,0.70]\n",
        "hyper7['Precision']= [0.73,0.73,0.73]\n",
        "hyper7['Recall']=    [0.72,0.72,0.72]\n",
        "hyper7['F1_Score']=  [0.72,0.72,0.71]\n",
        "hyper7['AUC_Score']= [0.788,0.785,0.794]\n",
        "hyper7"
      ],
      "execution_count": 100,
      "outputs": [
        {
          "output_type": "execute_result",
          "data": {
            "text/html": [
              "<div>\n",
              "<style scoped>\n",
              "    .dataframe tbody tr th:only-of-type {\n",
              "        vertical-align: middle;\n",
              "    }\n",
              "\n",
              "    .dataframe tbody tr th {\n",
              "        vertical-align: top;\n",
              "    }\n",
              "\n",
              "    .dataframe thead th {\n",
              "        text-align: right;\n",
              "    }\n",
              "</style>\n",
              "<table border=\"1\" class=\"dataframe\">\n",
              "  <thead>\n",
              "    <tr style=\"text-align: right;\">\n",
              "      <th></th>\n",
              "      <th>Accuracy</th>\n",
              "      <th>Precision</th>\n",
              "      <th>Recall</th>\n",
              "      <th>F1_Score</th>\n",
              "      <th>AUC_Score</th>\n",
              "    </tr>\n",
              "  </thead>\n",
              "  <tbody>\n",
              "    <tr>\n",
              "      <th>ANN0</th>\n",
              "      <td>0.73</td>\n",
              "      <td>0.73</td>\n",
              "      <td>0.72</td>\n",
              "      <td>0.72</td>\n",
              "      <td>0.760</td>\n",
              "    </tr>\n",
              "    <tr>\n",
              "      <th>LR</th>\n",
              "      <td>0.72</td>\n",
              "      <td>0.73</td>\n",
              "      <td>0.72</td>\n",
              "      <td>0.72</td>\n",
              "      <td>0.787</td>\n",
              "    </tr>\n",
              "    <tr>\n",
              "      <th>SVM</th>\n",
              "      <td>0.70</td>\n",
              "      <td>0.73</td>\n",
              "      <td>0.71</td>\n",
              "      <td>0.71</td>\n",
              "      <td>0.794</td>\n",
              "    </tr>\n",
              "  </tbody>\n",
              "</table>\n",
              "</div>"
            ],
            "text/plain": [
              "      Accuracy  Precision  Recall  F1_Score  AUC_Score\n",
              "ANN0      0.73       0.73    0.72      0.72      0.760\n",
              "LR        0.72       0.73    0.72      0.72      0.787\n",
              "SVM       0.70       0.73    0.71      0.71      0.794"
            ]
          },
          "metadata": {
            "tags": []
          },
          "execution_count": 100
        }
      ]
    },
    {
      "cell_type": "markdown",
      "metadata": {
        "id": "FBIUZ6Fk5MvP",
        "colab_type": "text"
      },
      "source": [
        "**Analysis:**\n",
        "The above 3 models are similar in nature because a netwrok without a hidden layer is actually identical to logistic regression model if the logistical sigmoidal activation function is used and Without using the kernel trick in SVM, the hyperplanes are strictly linear which are roughly equivalent to feed forward neural networks without an activation function. Therefore they are similar but process of generating the decision boundary is different.\n",
        "The above table shows similarity in accuracy and recall for the above three models."
      ]
    },
    {
      "cell_type": "markdown",
      "metadata": {
        "id": "CBoKxhf2z6sp",
        "colab_type": "text"
      },
      "source": [
        "#Section 3"
      ]
    },
    {
      "cell_type": "markdown",
      "metadata": {
        "id": "2TQbFO2wHtQo",
        "colab_type": "text"
      },
      "source": [
        "11. Decision Tree"
      ]
    },
    {
      "cell_type": "markdown",
      "metadata": {
        "id": "pf-JTX2AHulZ",
        "colab_type": "text"
      },
      "source": [
        "A. Base Model"
      ]
    },
    {
      "cell_type": "code",
      "metadata": {
        "id": "Z8eKQCSKnD9F",
        "colab_type": "code",
        "colab": {
          "base_uri": "https://localhost:8080/",
          "height": 272
        },
        "outputId": "3ece209f-0708-4700-fe84-8e2a4b51ffdc"
      },
      "source": [
        "from sklearn.tree import DecisionTreeClassifier\n",
        "dtree = DecisionTreeClassifier()\n",
        "dtree.fit(x_train.T,y_train.T)\n",
        "predictions = dtree.predict(x_test.T)\n",
        "print(\"\\n Confusion Matrix \\n\",confusion_matrix(y_test.T,predictions))\n",
        "print(\"\\n Classification Report \\n\",classification_report(y_test.T,predictions))"
      ],
      "execution_count": 116,
      "outputs": [
        {
          "output_type": "stream",
          "text": [
            "\n",
            " Confusion Matrix \n",
            " [[3801 2408]\n",
            " [2441 3953]]\n",
            "\n",
            " Classification Report \n",
            "               precision    recall  f1-score   support\n",
            "\n",
            "           0       0.61      0.61      0.61      6209\n",
            "           1       0.62      0.62      0.62      6394\n",
            "\n",
            "    accuracy                           0.62     12603\n",
            "   macro avg       0.62      0.62      0.62     12603\n",
            "weighted avg       0.62      0.62      0.62     12603\n",
            "\n"
          ],
          "name": "stdout"
        }
      ]
    },
    {
      "cell_type": "markdown",
      "metadata": {
        "id": "Nl_fLI0xHyB0",
        "colab_type": "text"
      },
      "source": [
        "B. HyperTuning Parameters to get Best parameters in an attempt to increase accuracy and recall."
      ]
    },
    {
      "cell_type": "code",
      "metadata": {
        "id": "caZO-D1KyrFH",
        "colab_type": "code",
        "colab": {
          "base_uri": "https://localhost:8080/",
          "height": 323
        },
        "outputId": "8a3c3919-05c7-423e-ee09-792e4d8c2dc1"
      },
      "source": [
        "param_grid = {'max_depth': [1, 10],\n",
        "    'min_samples_split': [0.1,0.5,1], \n",
        "    'min_samples_leaf': [0.1,0.3,0.5]} \n",
        "grid = GridSearchCV(DecisionTreeClassifier(),param_grid,n_jobs=3)\n",
        "grid_dt = grid.fit(x_train.T,y_train.T)\n",
        "grid_predictions = grid_dt.predict(x_test.T)\n",
        "print(\"\\n Best Parameters \\n\",grid_dt.best_params_)\n",
        "print(\"\\n Confusion Matrix \\n\",confusion_matrix(y_test.T,grid_predictions))\n",
        "print(\"\\n Classification Report \\n\",classification_report(y_test.T,grid_predictions))"
      ],
      "execution_count": 117,
      "outputs": [
        {
          "output_type": "stream",
          "text": [
            "\n",
            " Best Parameters \n",
            " {'max_depth': 1, 'min_samples_leaf': 0.1, 'min_samples_split': 0.1}\n",
            "\n",
            " Confusion Matrix \n",
            " [[4947 1262]\n",
            " [2417 3977]]\n",
            "\n",
            " Classification Report \n",
            "               precision    recall  f1-score   support\n",
            "\n",
            "           0       0.67      0.80      0.73      6209\n",
            "           1       0.76      0.62      0.68      6394\n",
            "\n",
            "    accuracy                           0.71     12603\n",
            "   macro avg       0.72      0.71      0.71     12603\n",
            "weighted avg       0.72      0.71      0.71     12603\n",
            "\n"
          ],
          "name": "stdout"
        }
      ]
    },
    {
      "cell_type": "markdown",
      "metadata": {
        "id": "ZyTokrKuH6th",
        "colab_type": "text"
      },
      "source": [
        "C. Comparing Base Model and Best Model"
      ]
    },
    {
      "cell_type": "code",
      "metadata": {
        "id": "tvU1ervCvOy0",
        "colab_type": "code",
        "colab": {
          "base_uri": "https://localhost:8080/",
          "height": 111
        },
        "outputId": "09027876-5356-4bfa-a188-decd37b3ca3c"
      },
      "source": [
        "tune2 = pd.DataFrame(data=None,columns=['Model','Accuracy','Precision','Recall','F1_Score','Hyper_Parameters'])\n",
        "tune2['Model']=  ['DT','DT_Best']\n",
        "tune2['Accuracy']=  [0.62,0.71]\n",
        "tune2['Precision']=  [0.62,0.72]\n",
        "tune2['Recall']=  [0.62,0.71]\n",
        "tune2['F1_Score']=  [0.62,0.71]\n",
        "tune2['Hyper_Parameters']= [['max_depth: None', 'min_samples_leaf: 1', 'min_samples_split: 2'],['max_depth: 1', 'min_samples_leaf: 0.1', 'min_samples_split: 0.1']]\n",
        "tune2\n",
        "#fig = go.Figure(data=[go.Table(\n",
        " #   columnorder = [1,2,3,4,5,6],\n",
        " #   columnwidth = [60,80,80,80,80,400],\n",
        "  #  header=dict(values=list(tune2.columns),\n",
        "  #              fill_color='paleturquoise',\n",
        "   #             align='left'),\n",
        "  #  cells=dict(values=[tune2.Model,tune2.Accuracy,tune2.Precision,tune2.Recall,tune2.F1_Score,tune2.Hyper_Parameters],\n",
        "  #             fill_color='lavender',\n",
        "   #            align='left'))\n",
        "#])\n",
        "\n",
        "#fig.show()"
      ],
      "execution_count": 157,
      "outputs": [
        {
          "output_type": "execute_result",
          "data": {
            "text/html": [
              "<div>\n",
              "<style scoped>\n",
              "    .dataframe tbody tr th:only-of-type {\n",
              "        vertical-align: middle;\n",
              "    }\n",
              "\n",
              "    .dataframe tbody tr th {\n",
              "        vertical-align: top;\n",
              "    }\n",
              "\n",
              "    .dataframe thead th {\n",
              "        text-align: right;\n",
              "    }\n",
              "</style>\n",
              "<table border=\"1\" class=\"dataframe\">\n",
              "  <thead>\n",
              "    <tr style=\"text-align: right;\">\n",
              "      <th></th>\n",
              "      <th>Model</th>\n",
              "      <th>Accuracy</th>\n",
              "      <th>Precision</th>\n",
              "      <th>Recall</th>\n",
              "      <th>F1_Score</th>\n",
              "      <th>Hyper_Parameters</th>\n",
              "    </tr>\n",
              "  </thead>\n",
              "  <tbody>\n",
              "    <tr>\n",
              "      <th>0</th>\n",
              "      <td>DT</td>\n",
              "      <td>0.62</td>\n",
              "      <td>0.62</td>\n",
              "      <td>0.62</td>\n",
              "      <td>0.62</td>\n",
              "      <td>[max_depth: None, min_samples_leaf: 1, min_sam...</td>\n",
              "    </tr>\n",
              "    <tr>\n",
              "      <th>1</th>\n",
              "      <td>DT_Best</td>\n",
              "      <td>0.71</td>\n",
              "      <td>0.72</td>\n",
              "      <td>0.71</td>\n",
              "      <td>0.71</td>\n",
              "      <td>[max_depth: 1, min_samples_leaf: 0.1, min_samp...</td>\n",
              "    </tr>\n",
              "  </tbody>\n",
              "</table>\n",
              "</div>"
            ],
            "text/plain": [
              "     Model  ...                                   Hyper_Parameters\n",
              "0       DT  ...  [max_depth: None, min_samples_leaf: 1, min_sam...\n",
              "1  DT_Best  ...  [max_depth: 1, min_samples_leaf: 0.1, min_samp...\n",
              "\n",
              "[2 rows x 6 columns]"
            ]
          },
          "metadata": {
            "tags": []
          },
          "execution_count": 157
        }
      ]
    },
    {
      "cell_type": "markdown",
      "metadata": {
        "id": "_kqWtwOAn3h3",
        "colab_type": "text"
      },
      "source": [
        "**Analysis:** The hyper parameters tuned are:<br>\n",
        "*max_depth:* This indicates how deep the tree can be. The deeper the tree, the more splits it has and it captures more information about the data. We have observed that model overfits for large depth values.<br> \n",
        "*min_samples_split:* When we increase this parameter, the tree becomes more constrained as it has to consider more samples at each node. when we consider 100% of the samples at each node, the model cannot learn enough about the data. This is an underfitting case.<br>\n",
        "*min_samples_leaf:* This describe the minimum number of samples of samples at the leafs, the base of the tree. Increasing this value may cause underfitting.<br>\n",
        "As Observed in the above table we observe significant rise in accuracy and recall which is from 61% to 71% by increasing depth and reducing samples at each node and samples at leaf."
      ]
    },
    {
      "cell_type": "markdown",
      "metadata": {
        "id": "_Ece6Q02H_VR",
        "colab_type": "text"
      },
      "source": [
        "D. Generating ROC curve for best model"
      ]
    },
    {
      "cell_type": "code",
      "metadata": {
        "id": "B6BZQIXcEqze",
        "colab_type": "code",
        "colab": {
          "base_uri": "https://localhost:8080/",
          "height": 313
        },
        "outputId": "ca839185-05d9-4c1d-de04-93116f38e472"
      },
      "source": [
        "lr_probs = grid_dt.predict_proba(x_test.T)\n",
        "lr_probs = lr_probs[:, 1]\n",
        "ns_auc = roc_auc_score(y_test.T, ns_probs)\n",
        "lr_auc = roc_auc_score(y_test.T, lr_probs)\n",
        "# summarize scores\n",
        "print('No Disease: ROC AUC=%.3f' % (ns_auc))\n",
        "print('Disease: ROC AUC=%.3f' % (lr_auc))\n",
        "# calculate roc curves\n",
        "ns_fpr, ns_tpr, _ = roc_curve(y_test.T, ns_probs)\n",
        "lr_fpr, lr_tpr, _ = roc_curve(y_test.T, lr_probs)\n",
        "# plot the roc curve for the model\n",
        "pyplot.plot(ns_fpr, ns_tpr, linestyle='--', label='No Disease')\n",
        "pyplot.plot(lr_fpr, lr_tpr, marker='.', label='Disease')\n",
        "# axis labels\n",
        "pyplot.xlabel('False Positive Rate')\n",
        "pyplot.ylabel('True Positive Rate')\n",
        "# show the legend\n",
        "pyplot.legend()\n",
        "# show the plot\n",
        "pyplot.show()"
      ],
      "execution_count": 118,
      "outputs": [
        {
          "output_type": "stream",
          "text": [
            "No Disease: ROC AUC=0.500\n",
            "Disease: ROC AUC=0.709\n"
          ],
          "name": "stdout"
        },
        {
          "output_type": "display_data",
          "data": {
            "image/png": "[encoded data removed]",
            "text/plain": [
              "<Figure size 432x288 with 1 Axes>"
            ]
          },
          "metadata": {
            "tags": [],
            "needs_background": "light"
          }
        }
      ]
    },
    {
      "cell_type": "markdown",
      "metadata": {
        "id": "kl_OF_JrIEQg",
        "colab_type": "text"
      },
      "source": [
        "## Comparing Random Forest , Gradient Boosting, Logistic Regression and Decision Tree with respect to performance and feature importance"
      ]
    },
    {
      "cell_type": "code",
      "metadata": {
        "id": "-moH6ND215Ka",
        "colab_type": "code",
        "colab": {}
      },
      "source": [
        "from sklearn.feature_selection import SelectFromModel\n",
        "from sklearn.ensemble import GradientBoostingClassifier\n",
        "from sklearn.ensemble import RandomForestClassifier\n",
        "from sklearn.linear_model import LogisticRegression\n",
        "sel = SelectFromModel(RandomForestClassifier(bootstrap= True, max_depth= 100, max_features= 2, min_samples_leaf= 5, min_samples_split= 12, n_estimators= 300))\n",
        "sel.fit(x_train.T, y_train.T)\n",
        "selected_feat= x_train.T.columns[(sel.get_support())]\n",
        "print(selected_feat)"
      ],
      "execution_count": 0,
      "outputs": []
    },
    {
      "cell_type": "code",
      "metadata": {
        "id": "Q5W2aMcp1-pH",
        "colab_type": "code",
        "colab": {}
      },
      "source": [
        "sel1 = SelectFromModel(DecisionTreeClassifier(max_depth= 10, min_samples_leaf=0.1, min_samples_split= 0.1))\n",
        "sel1.fit(x_train.T, y_train.T)\n",
        "selected_feat1= x_train.T.columns[(sel1.get_support())]\n",
        "print(selected_feat1)"
      ],
      "execution_count": 0,
      "outputs": []
    },
    {
      "cell_type": "code",
      "metadata": {
        "id": "VzHleYj02BIy",
        "colab_type": "code",
        "colab": {}
      },
      "source": [
        "sel2 = SelectFromModel(GradientBoostingClassifier(n_estimators=150,max_depth=3,learning_rate=0.1))\n",
        "sel2.fit(x_train.T, y_train.T)\n",
        "selected_feat2= x_train.T.columns[(sel2.get_support())]\n",
        "print(selected_feat2)"
      ],
      "execution_count": 0,
      "outputs": []
    },
    {
      "cell_type": "code",
      "metadata": {
        "id": "4X16xX5p2CLI",
        "colab_type": "code",
        "colab": {}
      },
      "source": [
        "sel3 = SelectFromModel(LogisticRegression(C = 0.1, penalty = 'l1',solver='liblinear'))\n",
        "sel3.fit(x_train.T, y_train.T)\n",
        "selected_feat3= x_train.T.columns[(sel3.get_support())]\n",
        "print(selected_feat3)"
      ],
      "execution_count": 0,
      "outputs": []
    },
    {
      "cell_type": "markdown",
      "metadata": {
        "id": "4f5x0MnYIqG6",
        "colab_type": "text"
      },
      "source": [
        "Table Of Feature Importance"
      ]
    },
    {
      "cell_type": "code",
      "metadata": {
        "id": "UZ9R2KnVNMcK",
        "colab_type": "code",
        "colab": {
          "base_uri": "https://localhost:8080/",
          "height": 204
        },
        "outputId": "8b8ecfb9-1733-4c2c-d86c-efd835e3b73c"
      },
      "source": [
        "import plotly.express as px\n",
        "import plotly.graph_objects as go\n",
        "hyper1 = pd.DataFrame(data=None,columns=['RF'])\n",
        "hyper1['RF']= selected_feat\n",
        "hyper2 = pd.DataFrame(data=None,columns=['GBC'])\n",
        "hyper2['GBC']= selected_feat2\n",
        "hyper3 = pd.DataFrame(data=None,columns=['DT'])\n",
        "hyper3['DT']= selected_feat1\n",
        "hyper4 = pd.DataFrame(data=None,columns=['LR'])\n",
        "hyper4['LR']= selected_feat3\n",
        "horizontal_stack = pd.concat([hyper4, hyper1,hyper2,hyper3], axis=1)\n",
        "horizontal_stack.head()"
      ],
      "execution_count": 128,
      "outputs": [
        {
          "output_type": "execute_result",
          "data": {
            "text/html": [
              "<div>\n",
              "<style scoped>\n",
              "    .dataframe tbody tr th:only-of-type {\n",
              "        vertical-align: middle;\n",
              "    }\n",
              "\n",
              "    .dataframe tbody tr th {\n",
              "        vertical-align: top;\n",
              "    }\n",
              "\n",
              "    .dataframe thead th {\n",
              "        text-align: right;\n",
              "    }\n",
              "</style>\n",
              "<table border=\"1\" class=\"dataframe\">\n",
              "  <thead>\n",
              "    <tr style=\"text-align: right;\">\n",
              "      <th></th>\n",
              "      <th>LR</th>\n",
              "      <th>RF</th>\n",
              "      <th>GBC</th>\n",
              "      <th>DT</th>\n",
              "    </tr>\n",
              "  </thead>\n",
              "  <tbody>\n",
              "    <tr>\n",
              "      <th>0</th>\n",
              "      <td>Age</td>\n",
              "      <td>Age</td>\n",
              "      <td>Age</td>\n",
              "      <td>Age</td>\n",
              "    </tr>\n",
              "    <tr>\n",
              "      <th>1</th>\n",
              "      <td>Height</td>\n",
              "      <td>Height</td>\n",
              "      <td>High Blood Pressure</td>\n",
              "      <td>High Blood Pressure</td>\n",
              "    </tr>\n",
              "    <tr>\n",
              "      <th>2</th>\n",
              "      <td>Weight</td>\n",
              "      <td>Weight</td>\n",
              "      <td>NaN</td>\n",
              "      <td>NaN</td>\n",
              "    </tr>\n",
              "    <tr>\n",
              "      <th>3</th>\n",
              "      <td>High Blood Pressure</td>\n",
              "      <td>High Blood Pressure</td>\n",
              "      <td>NaN</td>\n",
              "      <td>NaN</td>\n",
              "    </tr>\n",
              "    <tr>\n",
              "      <th>4</th>\n",
              "      <td>Low Blood Pressure</td>\n",
              "      <td>Low Blood Pressure</td>\n",
              "      <td>NaN</td>\n",
              "      <td>NaN</td>\n",
              "    </tr>\n",
              "  </tbody>\n",
              "</table>\n",
              "</div>"
            ],
            "text/plain": [
              "                    LR  ...                   DT\n",
              "0                  Age  ...                  Age\n",
              "1               Height  ...  High Blood Pressure\n",
              "2               Weight  ...                  NaN\n",
              "3  High Blood Pressure  ...                  NaN\n",
              "4   Low Blood Pressure  ...                  NaN\n",
              "\n",
              "[5 rows x 4 columns]"
            ]
          },
          "metadata": {
            "tags": []
          },
          "execution_count": 128
        }
      ]
    },
    {
      "cell_type": "markdown",
      "metadata": {
        "id": "fRNE1GqoIuE8",
        "colab_type": "text"
      },
      "source": [
        "Table Comparing Performance among all 4 algorithms"
      ]
    },
    {
      "cell_type": "code",
      "metadata": {
        "id": "plLK7VeEnmEU",
        "colab_type": "code",
        "colab": {
          "base_uri": "https://localhost:8080/",
          "height": 173
        },
        "outputId": "a14acfb2-be96-4615-e141-e7210242b710"
      },
      "source": [
        "hyper6 = pd.DataFrame(data=None, index= ['GBC','LR','RF','DT'],columns=['Accuracy','Precision','Recall','F1_Score','AUC_Score'])\n",
        "hyper6['Accuracy']=  [0.73,0.72,0.72,0.71]\n",
        "hyper6['Precision']= [0.73,0.73,0.72,0.72]\n",
        "hyper6['Recall']=    [0.73,0.72,0.72,0.71]\n",
        "hyper6['F1_Score']=  [0.72,0.72,0.72,0.71]\n",
        "hyper6['AUC_Score']= [0.800,0.785,0.797,0.709]\n",
        "hyper6"
      ],
      "execution_count": 130,
      "outputs": [
        {
          "output_type": "execute_result",
          "data": {
            "text/html": [
              "<div>\n",
              "<style scoped>\n",
              "    .dataframe tbody tr th:only-of-type {\n",
              "        vertical-align: middle;\n",
              "    }\n",
              "\n",
              "    .dataframe tbody tr th {\n",
              "        vertical-align: top;\n",
              "    }\n",
              "\n",
              "    .dataframe thead th {\n",
              "        text-align: right;\n",
              "    }\n",
              "</style>\n",
              "<table border=\"1\" class=\"dataframe\">\n",
              "  <thead>\n",
              "    <tr style=\"text-align: right;\">\n",
              "      <th></th>\n",
              "      <th>Accuracy</th>\n",
              "      <th>Precision</th>\n",
              "      <th>Recall</th>\n",
              "      <th>F1_Score</th>\n",
              "      <th>AUC_Score</th>\n",
              "    </tr>\n",
              "  </thead>\n",
              "  <tbody>\n",
              "    <tr>\n",
              "      <th>GBC</th>\n",
              "      <td>0.73</td>\n",
              "      <td>0.73</td>\n",
              "      <td>0.73</td>\n",
              "      <td>0.72</td>\n",
              "      <td>0.800</td>\n",
              "    </tr>\n",
              "    <tr>\n",
              "      <th>LR</th>\n",
              "      <td>0.72</td>\n",
              "      <td>0.73</td>\n",
              "      <td>0.72</td>\n",
              "      <td>0.72</td>\n",
              "      <td>0.785</td>\n",
              "    </tr>\n",
              "    <tr>\n",
              "      <th>RF</th>\n",
              "      <td>0.72</td>\n",
              "      <td>0.72</td>\n",
              "      <td>0.72</td>\n",
              "      <td>0.72</td>\n",
              "      <td>0.797</td>\n",
              "    </tr>\n",
              "    <tr>\n",
              "      <th>DT</th>\n",
              "      <td>0.71</td>\n",
              "      <td>0.72</td>\n",
              "      <td>0.71</td>\n",
              "      <td>0.71</td>\n",
              "      <td>0.709</td>\n",
              "    </tr>\n",
              "  </tbody>\n",
              "</table>\n",
              "</div>"
            ],
            "text/plain": [
              "     Accuracy  Precision  Recall  F1_Score  AUC_Score\n",
              "GBC      0.73       0.73    0.73      0.72      0.800\n",
              "LR       0.72       0.73    0.72      0.72      0.785\n",
              "RF       0.72       0.72    0.72      0.72      0.797\n",
              "DT       0.71       0.72    0.71      0.71      0.709"
            ]
          },
          "metadata": {
            "tags": []
          },
          "execution_count": 130
        }
      ]
    },
    {
      "cell_type": "markdown",
      "metadata": {
        "id": "D_OEpgvHpwp9",
        "colab_type": "text"
      },
      "source": [
        "**Analysis:** From the above two table we can observe that Decision Tree is consistent with the findings from the other three algorithms. The two important feature observed in all the four algorithm are Age and High Blood Pressure but High Blood Pressure has low weight in Logistic and Random Forest as for them the second most important feature is Height. Decision Tree also provides similar peroformance coefficients with respect to other three algorithms. All the four algorithms are having accuracies and recall between 71% to 73% in which Gradient boosting proves to be the best model with accuracy as 73% and recall as 72% \n"
      ]
    },
    {
      "cell_type": "markdown",
      "metadata": {
        "id": "AJRyH6EjI65_",
        "colab_type": "text"
      },
      "source": [
        "# Comparing All Supervised Algorithms"
      ]
    },
    {
      "cell_type": "code",
      "metadata": {
        "id": "RmumSAk3WgcS",
        "colab_type": "code",
        "colab": {
          "base_uri": "https://localhost:8080/",
          "height": 331
        },
        "outputId": "a3432ddf-eaf6-4166-e53a-384a39c591f4"
      },
      "source": [
        "import plotly.express as px\n",
        "import plotly.graph_objects as go\n",
        "hyper5 = pd.DataFrame(data=None,columns=['Algorithms','Accuracy','Precision','Recall','F1_Score','AUC_Score','Hyper_Parameters','Time_Approx'])\n",
        "hyper5['Algorithms']=['GBC','LR','RF','Non_linear_SVM','DT','KNN','SVM','NBC']\n",
        "hyper5['Accuracy']=  [0.73,0.72,0.72,0.71,0.71,0.71,0.70,0.67]\n",
        "hyper5['Precision']= [0.73,0.73,0.72,0.73,0.72,0.71,0.73,0.68]\n",
        "hyper5['Recall']=    [0.73,0.72,0.72,0.71,0.71,0.71,0.71,0.68]\n",
        "hyper5['F1_Score']=  [0.72,0.72,0.72,0.71,0.71,0.71,0.71,0.67]\n",
        "hyper5['AUC_Score']= [0.800,0.785,0.797,0.794,0.709,0.787,0.794,0.760]\n",
        "hyper5['Hyper_Parameters']= [['learning rate','max_depth','n_estimator'],['C','penalty','solver'],['max_depth','n_estimator','bootstrap', 'max_features','min_samples_leaf', 'min_samples_split'],['C','gamma','kernel=rbf'],['max_depth', 'min_samples_leaf', 'min_samples_split'],'k','C',['GuassianNB','BernoulliNB','Multinomial']]\n",
        "hyper5['Time_Approx']= ['2-3 hours','5 minutes','2-3 hours','2-3 hours','20 minutes','25 minutes','1-2 hours','5 minutes']\n",
        "hyper5\n",
        "#fig = go.Figure(data=[go.Table(\n",
        "#    columnorder = [1,2,3,4,5,6,7,8],\n",
        " #   columnwidth = [80,80,80,80,80,90,300,80],\n",
        " #   header=dict(values=list(hyper5.columns),\n",
        "  #              fill_color='paleturquoise',\n",
        "  #              align='left'),\n",
        "  #  cells=dict(values=[hyper5.Algorithms,hyper5.Accuracy,hyper5.Precision,hyper5.Recall,hyper5.F1_Score,hyper5.AUC_Score,hyper5.Hyper_Parameters,hyper5.Time_Approx],\n",
        "   #            fill_color='lavender',\n",
        "    #           align='left'))\n",
        "#])\n",
        "\n",
        "#fig.show()"
      ],
      "execution_count": 159,
      "outputs": [
        {
          "output_type": "execute_result",
          "data": {
            "text/html": [
              "<div>\n",
              "<style scoped>\n",
              "    .dataframe tbody tr th:only-of-type {\n",
              "        vertical-align: middle;\n",
              "    }\n",
              "\n",
              "    .dataframe tbody tr th {\n",
              "        vertical-align: top;\n",
              "    }\n",
              "\n",
              "    .dataframe thead th {\n",
              "        text-align: right;\n",
              "    }\n",
              "</style>\n",
              "<table border=\"1\" class=\"dataframe\">\n",
              "  <thead>\n",
              "    <tr style=\"text-align: right;\">\n",
              "      <th></th>\n",
              "      <th>Algorithms</th>\n",
              "      <th>Accuracy</th>\n",
              "      <th>Precision</th>\n",
              "      <th>Recall</th>\n",
              "      <th>F1_Score</th>\n",
              "      <th>AUC_Score</th>\n",
              "      <th>Hyper_Parameters</th>\n",
              "      <th>Time_Approx</th>\n",
              "    </tr>\n",
              "  </thead>\n",
              "  <tbody>\n",
              "    <tr>\n",
              "      <th>0</th>\n",
              "      <td>GBC</td>\n",
              "      <td>0.73</td>\n",
              "      <td>0.73</td>\n",
              "      <td>0.73</td>\n",
              "      <td>0.72</td>\n",
              "      <td>0.800</td>\n",
              "      <td>[learning rate, max_depth, n_estimator]</td>\n",
              "      <td>2-3 hours</td>\n",
              "    </tr>\n",
              "    <tr>\n",
              "      <th>1</th>\n",
              "      <td>LR</td>\n",
              "      <td>0.72</td>\n",
              "      <td>0.73</td>\n",
              "      <td>0.72</td>\n",
              "      <td>0.72</td>\n",
              "      <td>0.785</td>\n",
              "      <td>[C, penalty, solver]</td>\n",
              "      <td>5 minutes</td>\n",
              "    </tr>\n",
              "    <tr>\n",
              "      <th>2</th>\n",
              "      <td>RF</td>\n",
              "      <td>0.72</td>\n",
              "      <td>0.72</td>\n",
              "      <td>0.72</td>\n",
              "      <td>0.72</td>\n",
              "      <td>0.797</td>\n",
              "      <td>[max_depth, n_estimator, bootstrap, max_featur...</td>\n",
              "      <td>2-3 hours</td>\n",
              "    </tr>\n",
              "    <tr>\n",
              "      <th>3</th>\n",
              "      <td>Non_linear_SVM</td>\n",
              "      <td>0.71</td>\n",
              "      <td>0.73</td>\n",
              "      <td>0.71</td>\n",
              "      <td>0.71</td>\n",
              "      <td>0.794</td>\n",
              "      <td>[C, gamma, kernel=rbf]</td>\n",
              "      <td>2-3 hours</td>\n",
              "    </tr>\n",
              "    <tr>\n",
              "      <th>4</th>\n",
              "      <td>DT</td>\n",
              "      <td>0.71</td>\n",
              "      <td>0.72</td>\n",
              "      <td>0.71</td>\n",
              "      <td>0.71</td>\n",
              "      <td>0.709</td>\n",
              "      <td>[max_depth, min_samples_leaf, min_samples_split]</td>\n",
              "      <td>20 minutes</td>\n",
              "    </tr>\n",
              "    <tr>\n",
              "      <th>5</th>\n",
              "      <td>KNN</td>\n",
              "      <td>0.71</td>\n",
              "      <td>0.71</td>\n",
              "      <td>0.71</td>\n",
              "      <td>0.71</td>\n",
              "      <td>0.787</td>\n",
              "      <td>k</td>\n",
              "      <td>25 minutes</td>\n",
              "    </tr>\n",
              "    <tr>\n",
              "      <th>6</th>\n",
              "      <td>SVM</td>\n",
              "      <td>0.70</td>\n",
              "      <td>0.73</td>\n",
              "      <td>0.71</td>\n",
              "      <td>0.71</td>\n",
              "      <td>0.794</td>\n",
              "      <td>C</td>\n",
              "      <td>1-2 hours</td>\n",
              "    </tr>\n",
              "    <tr>\n",
              "      <th>7</th>\n",
              "      <td>NBC</td>\n",
              "      <td>0.67</td>\n",
              "      <td>0.68</td>\n",
              "      <td>0.68</td>\n",
              "      <td>0.67</td>\n",
              "      <td>0.760</td>\n",
              "      <td>[GuassianNB, BernoulliNB, Multinomial]</td>\n",
              "      <td>5 minutes</td>\n",
              "    </tr>\n",
              "  </tbody>\n",
              "</table>\n",
              "</div>"
            ],
            "text/plain": [
              "       Algorithms  ...  Time_Approx\n",
              "0             GBC  ...    2-3 hours\n",
              "1              LR  ...    5 minutes\n",
              "2              RF  ...    2-3 hours\n",
              "3  Non_linear_SVM  ...    2-3 hours\n",
              "4              DT  ...   20 minutes\n",
              "5             KNN  ...   25 minutes\n",
              "6             SVM  ...    1-2 hours\n",
              "7             NBC  ...    5 minutes\n",
              "\n",
              "[8 rows x 8 columns]"
            ]
          },
          "metadata": {
            "tags": []
          },
          "execution_count": 159
        }
      ]
    },
    {
      "cell_type": "markdown",
      "metadata": {
        "id": "_nIWBQhhwUcn",
        "colab_type": "text"
      },
      "source": [
        "**Analyis:**<br>\n",
        "I have considered Accuracy and Recall as Performance metric because our dataset is balanced dataset and as its the disease problem my aim was to predict total number of patients to have disease and i hypertune the model with an aim to reduce type1 error.<br>\n",
        "As Observing above all the supervised algorithms have similar accuracies and recall but Gradient boosting proofs to be the best model with accuracy of 73% and recall as 73%. "
      ]
    },
    {
      "cell_type": "markdown",
      "metadata": {
        "id": "dBmBu8Bn1kfB",
        "colab_type": "text"
      },
      "source": [
        "#Section 4 : TEST DATA SET"
      ]
    },
    {
      "cell_type": "code",
      "metadata": {
        "id": "-X3jVwmD1jWa",
        "colab_type": "code",
        "colab": {}
      },
      "source": [
        "df_test = pd.read_csv('Disease Prediction Testing.csv')\n",
        "df_test.set_index('ID',inplace = True)\n",
        "df_test = df.drop_duplicates()\n",
        "df_test= outliers_IQR(df_test, 'Age')\n",
        "df_test = outliers_IQR(df_test, 'Height')\n",
        "df_test = outliers_IQR(df_test, 'Weight')\n",
        "df_test= outliers_IQR(df_test, 'High Blood Pressure')\n",
        "df_test = outliers_IQR(df_test, 'Low Blood Pressure')\n",
        "df_test['High Blood Pressure'].clip(125,170,inplace=True)\n",
        "df_test['Low Blood Pressure'].clip(60,89,inplace = True)\n",
        "a = pd.get_dummies(df_test['Gender'], prefix = \"Gender_\")\n",
        "b = pd.get_dummies(df_test['Cholesterol'], prefix = \"Cholesterol_\")\n",
        "c = pd.get_dummies(df_test['Glucose'], prefix = \"Glucose_\")\n",
        "frames = [df_test, a, b, c]\n",
        "df_test = pd.concat(frames, axis = 1)\n",
        "df_test = df_test.drop(columns = ['Gender', 'Cholesterol', 'Glucose','Disease'])"
      ],
      "execution_count": 0,
      "outputs": []
    },
    {
      "cell_type": "code",
      "metadata": {
        "id": "5CFA14sA1jTm",
        "colab_type": "code",
        "colab": {}
      },
      "source": [
        "norm_x = (df_test - np.min(df_test)) / (np.max(df_test) - np.min(df_test)).values"
      ],
      "execution_count": 0,
      "outputs": []
    },
    {
      "cell_type": "code",
      "metadata": {
        "id": "WL5yAoxV4CMD",
        "colab_type": "code",
        "colab": {}
      },
      "source": [
        "p_lr = grid_lr.predict(norm_x)\n",
        "p_dt = grid_dt.predict(norm_x)\n",
        "p_a0 = grid_search.predict(norm_x)\n",
        "p_a1 = grid_search_1.predict(norm_x)\n",
        "p_a2 = grid_search_2.predict(norm_x)"
      ],
      "execution_count": 0,
      "outputs": []
    },
    {
      "cell_type": "code",
      "metadata": {
        "id": "CdOQAd44iD3L",
        "colab_type": "code",
        "colab": {}
      },
      "source": [
        "final_df = pd.DataFrame(data=None,columns=['LR','DT','ANN0','ANN1','ANN2'])\n",
        "final_df['LR']=p_lr\n",
        "final_df['DT']=p_dt\n",
        "final_df['ANN0']=p_a0 \n",
        "final_df['ANN1']=p_a1\n",
        "final_df['ANN2']=p_a2"
      ],
      "execution_count": 0,
      "outputs": []
    },
    {
      "cell_type": "code",
      "metadata": {
        "id": "D0uILgg5icxB",
        "colab_type": "code",
        "colab": {}
      },
      "source": [
        "final_df = final_df.reset_index()"
      ],
      "execution_count": 0,
      "outputs": []
    },
    {
      "cell_type": "code",
      "metadata": {
        "id": "l84QbvQSiifh",
        "colab_type": "code",
        "colab": {
          "base_uri": "https://localhost:8080/",
          "height": 359
        },
        "outputId": "7a420e5b-4875-454b-fea6-ea736e7425a5"
      },
      "source": [
        "final_df.rename(columns = {'index':'ID'}, inplace = True)\n",
        "final_df.head(10)"
      ],
      "execution_count": 146,
      "outputs": [
        {
          "output_type": "execute_result",
          "data": {
            "text/html": [
              "<div>\n",
              "<style scoped>\n",
              "    .dataframe tbody tr th:only-of-type {\n",
              "        vertical-align: middle;\n",
              "    }\n",
              "\n",
              "    .dataframe tbody tr th {\n",
              "        vertical-align: top;\n",
              "    }\n",
              "\n",
              "    .dataframe thead th {\n",
              "        text-align: right;\n",
              "    }\n",
              "</style>\n",
              "<table border=\"1\" class=\"dataframe\">\n",
              "  <thead>\n",
              "    <tr style=\"text-align: right;\">\n",
              "      <th></th>\n",
              "      <th>ID</th>\n",
              "      <th>LR</th>\n",
              "      <th>DT</th>\n",
              "      <th>ANN0</th>\n",
              "      <th>ANN1</th>\n",
              "      <th>ANN2</th>\n",
              "    </tr>\n",
              "  </thead>\n",
              "  <tbody>\n",
              "    <tr>\n",
              "      <th>0</th>\n",
              "      <td>0</td>\n",
              "      <td>0</td>\n",
              "      <td>1</td>\n",
              "      <td>1</td>\n",
              "      <td>1</td>\n",
              "      <td>1</td>\n",
              "    </tr>\n",
              "    <tr>\n",
              "      <th>1</th>\n",
              "      <td>1</td>\n",
              "      <td>1</td>\n",
              "      <td>1</td>\n",
              "      <td>1</td>\n",
              "      <td>1</td>\n",
              "      <td>1</td>\n",
              "    </tr>\n",
              "    <tr>\n",
              "      <th>2</th>\n",
              "      <td>2</td>\n",
              "      <td>0</td>\n",
              "      <td>0</td>\n",
              "      <td>0</td>\n",
              "      <td>0</td>\n",
              "      <td>0</td>\n",
              "    </tr>\n",
              "    <tr>\n",
              "      <th>3</th>\n",
              "      <td>3</td>\n",
              "      <td>0</td>\n",
              "      <td>0</td>\n",
              "      <td>0</td>\n",
              "      <td>0</td>\n",
              "      <td>0</td>\n",
              "    </tr>\n",
              "    <tr>\n",
              "      <th>4</th>\n",
              "      <td>4</td>\n",
              "      <td>0</td>\n",
              "      <td>0</td>\n",
              "      <td>0</td>\n",
              "      <td>0</td>\n",
              "      <td>0</td>\n",
              "    </tr>\n",
              "    <tr>\n",
              "      <th>5</th>\n",
              "      <td>5</td>\n",
              "      <td>1</td>\n",
              "      <td>1</td>\n",
              "      <td>1</td>\n",
              "      <td>1</td>\n",
              "      <td>1</td>\n",
              "    </tr>\n",
              "    <tr>\n",
              "      <th>6</th>\n",
              "      <td>6</td>\n",
              "      <td>0</td>\n",
              "      <td>0</td>\n",
              "      <td>0</td>\n",
              "      <td>0</td>\n",
              "      <td>0</td>\n",
              "    </tr>\n",
              "    <tr>\n",
              "      <th>7</th>\n",
              "      <td>7</td>\n",
              "      <td>1</td>\n",
              "      <td>1</td>\n",
              "      <td>1</td>\n",
              "      <td>1</td>\n",
              "      <td>1</td>\n",
              "    </tr>\n",
              "    <tr>\n",
              "      <th>8</th>\n",
              "      <td>8</td>\n",
              "      <td>1</td>\n",
              "      <td>1</td>\n",
              "      <td>1</td>\n",
              "      <td>1</td>\n",
              "      <td>1</td>\n",
              "    </tr>\n",
              "    <tr>\n",
              "      <th>9</th>\n",
              "      <td>9</td>\n",
              "      <td>1</td>\n",
              "      <td>1</td>\n",
              "      <td>1</td>\n",
              "      <td>1</td>\n",
              "      <td>1</td>\n",
              "    </tr>\n",
              "  </tbody>\n",
              "</table>\n",
              "</div>"
            ],
            "text/plain": [
              "   ID  LR  DT  ANN0  ANN1  ANN2\n",
              "0   0   0   1     1     1     1\n",
              "1   1   1   1     1     1     1\n",
              "2   2   0   0     0     0     0\n",
              "3   3   0   0     0     0     0\n",
              "4   4   0   0     0     0     0\n",
              "5   5   1   1     1     1     1\n",
              "6   6   0   0     0     0     0\n",
              "7   7   1   1     1     1     1\n",
              "8   8   1   1     1     1     1\n",
              "9   9   1   1     1     1     1"
            ]
          },
          "metadata": {
            "tags": []
          },
          "execution_count": 146
        }
      ]
    },
    {
      "cell_type": "code",
      "metadata": {
        "id": "q5Ef_1opixZo",
        "colab_type": "code",
        "colab": {}
      },
      "source": [
        "final_df.to_csv('Akshay_Bhala_HW4.csv',index=False)"
      ],
      "execution_count": 0,
      "outputs": []
    },
    {
      "cell_type": "markdown",
      "metadata": {
        "id": "MyHKDibKztAW",
        "colab_type": "text"
      },
      "source": [
        "Conclusion: Learned about applying two different classification algorithms and to build ANN models and how they are used to predict the unspecified disease. Learned how each parameter affects the performance of the model. How tuning hyperparameter tells us about underfitting and overfitting of data. Plotting Roc curve explains about the performance of the model. The finidings from the above steps tells us that Gradient Boosting is the best model for this data set to predict whether the person has disease or not."
      ]
    },
    {
      "cell_type": "code",
      "metadata": {
        "id": "RwVbx9N90UkI",
        "colab_type": "code",
        "colab": {}
      },
      "source": [
        ""
      ],
      "execution_count": 0,
      "outputs": []
    }
  ]
}