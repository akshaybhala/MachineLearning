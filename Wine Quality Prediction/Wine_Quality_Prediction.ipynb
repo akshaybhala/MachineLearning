{
  "nbformat": 4,
  "nbformat_minor": 0,
  "metadata": {
    "colab": {
      "name": "DA_extra_Credit_Assignment.ipynb",
      "provenance": [],
      "collapsed_sections": [],
      "toc_visible": true
    },
    "kernelspec": {
      "name": "python3",
      "display_name": "Python 3"
    }
  },
  "cells": [
    {
      "cell_type": "markdown",
      "metadata": {
        "id": "Eiq0KJOMokdp",
        "colab_type": "text"
      },
      "source": [
        "# Akshay Bhala\n",
        "### Extra Credit Assignment\n",
        "05/08/2020<br>\n",
        "\n",
        "Introduction: Predicting whether the quality of wine is bad , average or good.<br>\n",
        "Link to the data set :<BR>\n",
        "https://archive.ics.uci.edu/ml/datasets/wine+quality\n"
      ]
    },
    {
      "cell_type": "code",
      "metadata": {
        "id": "mMlymkK1-l-C",
        "colab_type": "code",
        "colab": {}
      },
      "source": [
        "import numpy as np\n",
        "import pandas as pd\n",
        "import pickle\n",
        "import matplotlib.pyplot as plt\n",
        "import seaborn as sns\n",
        "import plotly.express as px\n",
        "from scipy import stats\n",
        "import statsmodels.api as sm\n",
        "from scipy import stats\n",
        "from sklearn.model_selection import train_test_split\n",
        "from sklearn.metrics import classification_report,confusion_matrix\n",
        "from sklearn.metrics import roc_curve\n",
        "from sklearn.metrics import roc_auc_score\n",
        "from matplotlib import pyplot\n",
        "from sklearn.model_selection import GridSearchCV"
      ],
      "execution_count": 0,
      "outputs": []
    },
    {
      "cell_type": "code",
      "metadata": {
        "id": "REiiNsV3DdVW",
        "colab_type": "code",
        "outputId": "31638fab-c9c2-4b70-ebae-3d81d7379146",
        "colab": {
          "base_uri": "https://localhost:8080/",
          "height": 34
        }
      },
      "source": [
        "df = pd.read_csv('winequality-red.csv')\n",
        "df.shape"
      ],
      "execution_count": 2,
      "outputs": [
        {
          "output_type": "execute_result",
          "data": {
            "text/plain": [
              "(1599, 12)"
            ]
          },
          "metadata": {
            "tags": []
          },
          "execution_count": 2
        }
      ]
    },
    {
      "cell_type": "code",
      "metadata": {
        "id": "NzJLNBuP_lTq",
        "colab_type": "code",
        "outputId": "4401faa4-504b-4a38-f4be-b90dd18f9243",
        "colab": {
          "base_uri": "https://localhost:8080/",
          "height": 238
        }
      },
      "source": [
        "df.isnull().sum()"
      ],
      "execution_count": 3,
      "outputs": [
        {
          "output_type": "execute_result",
          "data": {
            "text/plain": [
              "fixed acidity           0\n",
              "volatile acidity        0\n",
              "citric acid             0\n",
              "residual sugar          0\n",
              "chlorides               0\n",
              "free sulfur dioxide     0\n",
              "total sulfur dioxide    0\n",
              "density                 0\n",
              "pH                      0\n",
              "sulphates               0\n",
              "alcohol                 0\n",
              "quality                 0\n",
              "dtype: int64"
            ]
          },
          "metadata": {
            "tags": []
          },
          "execution_count": 3
        }
      ]
    },
    {
      "cell_type": "markdown",
      "metadata": {
        "id": "i9C6yIBspVO7",
        "colab_type": "text"
      },
      "source": [
        "**Analysis :** No Null Values"
      ]
    },
    {
      "cell_type": "code",
      "metadata": {
        "id": "cwFC51Oh_rBZ",
        "colab_type": "code",
        "outputId": "d2ebfac1-2cc6-4b74-db6c-5c0522471f8a",
        "colab": {
          "base_uri": "https://localhost:8080/",
          "height": 34
        }
      },
      "source": [
        "df = df.drop_duplicates()\n",
        "df.shape"
      ],
      "execution_count": 4,
      "outputs": [
        {
          "output_type": "execute_result",
          "data": {
            "text/plain": [
              "(1359, 12)"
            ]
          },
          "metadata": {
            "tags": []
          },
          "execution_count": 4
        }
      ]
    },
    {
      "cell_type": "markdown",
      "metadata": {
        "id": "Btu8KehHpezY",
        "colab_type": "text"
      },
      "source": [
        "**Analysis :** Removed 240 duplicate values"
      ]
    },
    {
      "cell_type": "code",
      "metadata": {
        "id": "SYzwd5c0BVv7",
        "colab_type": "code",
        "outputId": "bbbad4fa-0d7f-4751-f09d-998807bb5415",
        "colab": {
          "base_uri": "https://localhost:8080/",
          "height": 1000
        }
      },
      "source": [
        "plot = plt.figure(figsize=(5,5))\n",
        "plt.title(\"Citric Acid Vs Quality\")\n",
        "sns.barplot(data=df,x=\"quality\",y=\"citric acid\",palette=\"pastel\")\n",
        "\n",
        "plot = plt.figure(figsize=(5,5))\n",
        "plt.title(\"volatile Acidity Vs Quality\")\n",
        "sns.barplot(data=df,x=\"quality\",y=\"volatile acidity\",palette=\"rocket\")\n",
        "\n",
        "plot = plt.figure(figsize=(5,5))\n",
        "plt.title(\"Chlorides Vs Quality\")\n",
        "sns.barplot(data=df,x=\"quality\",y=\"chlorides\",palette=\"pastel\")\n",
        "\n",
        "plot = plt.figure(figsize=(5,5))\n",
        "plt.title(\"sulphates Vs Quality\")\n",
        "sns.barplot(data=df,x=\"quality\",y=\"sulphates\",palette=\"pastel\")"
      ],
      "execution_count": 5,
      "outputs": [
        {
          "output_type": "execute_result",
          "data": {
            "text/plain": [
              "<matplotlib.axes._subplots.AxesSubplot at 0x7f1918f00588>"
            ]
          },
          "metadata": {
            "tags": []
          },
          "execution_count": 5
        },
        {
          "output_type": "display_data",
          "data": {
            "image/png": "[encoded data removed]",
            "text/plain": [
              "<Figure size 360x360 with 1 Axes>"
            ]
          },
          "metadata": {
            "tags": [],
            "needs_background": "light"
          }
        },
        {
          "output_type": "display_data",
          "data": {
            "image/png": "[encoded data removed]",
            "text/plain": [
              "<Figure size 360x360 with 1 Axes>"
            ]
          },
          "metadata": {
            "tags": [],
            "needs_background": "light"
          }
        },
        {
          "output_type": "display_data",
          "data": {
            "image/png": "[encoded data removed]",
            "text/plain": [
              "<Figure size 360x360 with 1 Axes>"
            ]
          },
          "metadata": {
            "tags": [],
            "needs_background": "light"
          }
        },
        {
          "output_type": "display_data",
          "data": {
            "image/png": "[encoded data removed]",
            "text/plain": [
              "<Figure size 360x360 with 1 Axes>"
            ]
          },
          "metadata": {
            "tags": [],
            "needs_background": "light"
          }
        }
      ]
    },
    {
      "cell_type": "markdown",
      "metadata": {
        "id": "meL7XM6KsGhi",
        "colab_type": "text"
      },
      "source": [
        "**Analysis :** Both citric acid and sulphates increases as the quality increases whereas chlorides and volatile acidity decreases as quality increases."
      ]
    },
    {
      "cell_type": "code",
      "metadata": {
        "id": "njEe1Uu42vmo",
        "colab_type": "code",
        "outputId": "e0c7f6ee-9919-4745-af66-be6367723ef8",
        "colab": {
          "base_uri": "https://localhost:8080/",
          "height": 547
        }
      },
      "source": [
        "plot = plt.figure(figsize=(5,5))\n",
        "\n",
        "sns.jointplot(data=df,x=\"quality\",y=\"alcohol\", kind=\"reg\", truncate=False,\n",
        "                  \n",
        "                  color=\"r\", height=7)"
      ],
      "execution_count": 6,
      "outputs": [
        {
          "output_type": "execute_result",
          "data": {
            "text/plain": [
              "<seaborn.axisgrid.JointGrid at 0x7f1919764e80>"
            ]
          },
          "metadata": {
            "tags": []
          },
          "execution_count": 6
        },
        {
          "output_type": "display_data",
          "data": {
            "text/plain": [
              "<Figure size 360x360 with 0 Axes>"
            ]
          },
          "metadata": {
            "tags": []
          }
        },
        {
          "output_type": "display_data",
          "data": {
            "image/png": "[encoded data removed]",
            "text/plain": [
              "<Figure size 504x504 with 3 Axes>"
            ]
          },
          "metadata": {
            "tags": [],
            "needs_background": "light"
          }
        }
      ]
    },
    {
      "cell_type": "markdown",
      "metadata": {
        "id": "AbXhx9ECsg7T",
        "colab_type": "text"
      },
      "source": [
        "**Analysis :** Content of Alcohol increases as quality increases"
      ]
    },
    {
      "cell_type": "code",
      "metadata": {
        "id": "g00qqN_iuIKO",
        "colab_type": "code",
        "outputId": "7f807779-8573-44ce-80a6-d8f01487f907",
        "colab": {
          "base_uri": "https://localhost:8080/",
          "height": 351
        }
      },
      "source": [
        "df.describe()"
      ],
      "execution_count": 7,
      "outputs": [
        {
          "output_type": "execute_result",
          "data": {
            "text/html": [
              "<div>\n",
              "<style scoped>\n",
              "    .dataframe tbody tr th:only-of-type {\n",
              "        vertical-align: middle;\n",
              "    }\n",
              "\n",
              "    .dataframe tbody tr th {\n",
              "        vertical-align: top;\n",
              "    }\n",
              "\n",
              "    .dataframe thead th {\n",
              "        text-align: right;\n",
              "    }\n",
              "</style>\n",
              "<table border=\"1\" class=\"dataframe\">\n",
              "  <thead>\n",
              "    <tr style=\"text-align: right;\">\n",
              "      <th></th>\n",
              "      <th>fixed acidity</th>\n",
              "      <th>volatile acidity</th>\n",
              "      <th>citric acid</th>\n",
              "      <th>residual sugar</th>\n",
              "      <th>chlorides</th>\n",
              "      <th>free sulfur dioxide</th>\n",
              "      <th>total sulfur dioxide</th>\n",
              "      <th>density</th>\n",
              "      <th>pH</th>\n",
              "      <th>sulphates</th>\n",
              "      <th>alcohol</th>\n",
              "      <th>quality</th>\n",
              "    </tr>\n",
              "  </thead>\n",
              "  <tbody>\n",
              "    <tr>\n",
              "      <th>count</th>\n",
              "      <td>1359.000000</td>\n",
              "      <td>1359.000000</td>\n",
              "      <td>1359.000000</td>\n",
              "      <td>1359.000000</td>\n",
              "      <td>1359.000000</td>\n",
              "      <td>1359.000000</td>\n",
              "      <td>1359.000000</td>\n",
              "      <td>1359.000000</td>\n",
              "      <td>1359.000000</td>\n",
              "      <td>1359.000000</td>\n",
              "      <td>1359.000000</td>\n",
              "      <td>1359.000000</td>\n",
              "    </tr>\n",
              "    <tr>\n",
              "      <th>mean</th>\n",
              "      <td>8.310596</td>\n",
              "      <td>0.529478</td>\n",
              "      <td>0.272333</td>\n",
              "      <td>2.523400</td>\n",
              "      <td>0.088124</td>\n",
              "      <td>15.893304</td>\n",
              "      <td>46.825975</td>\n",
              "      <td>0.996709</td>\n",
              "      <td>3.309787</td>\n",
              "      <td>0.658705</td>\n",
              "      <td>10.432315</td>\n",
              "      <td>5.623252</td>\n",
              "    </tr>\n",
              "    <tr>\n",
              "      <th>std</th>\n",
              "      <td>1.736990</td>\n",
              "      <td>0.183031</td>\n",
              "      <td>0.195537</td>\n",
              "      <td>1.352314</td>\n",
              "      <td>0.049377</td>\n",
              "      <td>10.447270</td>\n",
              "      <td>33.408946</td>\n",
              "      <td>0.001869</td>\n",
              "      <td>0.155036</td>\n",
              "      <td>0.170667</td>\n",
              "      <td>1.082065</td>\n",
              "      <td>0.823578</td>\n",
              "    </tr>\n",
              "    <tr>\n",
              "      <th>min</th>\n",
              "      <td>4.600000</td>\n",
              "      <td>0.120000</td>\n",
              "      <td>0.000000</td>\n",
              "      <td>0.900000</td>\n",
              "      <td>0.012000</td>\n",
              "      <td>1.000000</td>\n",
              "      <td>6.000000</td>\n",
              "      <td>0.990070</td>\n",
              "      <td>2.740000</td>\n",
              "      <td>0.330000</td>\n",
              "      <td>8.400000</td>\n",
              "      <td>3.000000</td>\n",
              "    </tr>\n",
              "    <tr>\n",
              "      <th>25%</th>\n",
              "      <td>7.100000</td>\n",
              "      <td>0.390000</td>\n",
              "      <td>0.090000</td>\n",
              "      <td>1.900000</td>\n",
              "      <td>0.070000</td>\n",
              "      <td>7.000000</td>\n",
              "      <td>22.000000</td>\n",
              "      <td>0.995600</td>\n",
              "      <td>3.210000</td>\n",
              "      <td>0.550000</td>\n",
              "      <td>9.500000</td>\n",
              "      <td>5.000000</td>\n",
              "    </tr>\n",
              "    <tr>\n",
              "      <th>50%</th>\n",
              "      <td>7.900000</td>\n",
              "      <td>0.520000</td>\n",
              "      <td>0.260000</td>\n",
              "      <td>2.200000</td>\n",
              "      <td>0.079000</td>\n",
              "      <td>14.000000</td>\n",
              "      <td>38.000000</td>\n",
              "      <td>0.996700</td>\n",
              "      <td>3.310000</td>\n",
              "      <td>0.620000</td>\n",
              "      <td>10.200000</td>\n",
              "      <td>6.000000</td>\n",
              "    </tr>\n",
              "    <tr>\n",
              "      <th>75%</th>\n",
              "      <td>9.200000</td>\n",
              "      <td>0.640000</td>\n",
              "      <td>0.430000</td>\n",
              "      <td>2.600000</td>\n",
              "      <td>0.091000</td>\n",
              "      <td>21.000000</td>\n",
              "      <td>63.000000</td>\n",
              "      <td>0.997820</td>\n",
              "      <td>3.400000</td>\n",
              "      <td>0.730000</td>\n",
              "      <td>11.100000</td>\n",
              "      <td>6.000000</td>\n",
              "    </tr>\n",
              "    <tr>\n",
              "      <th>max</th>\n",
              "      <td>15.900000</td>\n",
              "      <td>1.580000</td>\n",
              "      <td>1.000000</td>\n",
              "      <td>15.500000</td>\n",
              "      <td>0.611000</td>\n",
              "      <td>72.000000</td>\n",
              "      <td>289.000000</td>\n",
              "      <td>1.003690</td>\n",
              "      <td>4.010000</td>\n",
              "      <td>2.000000</td>\n",
              "      <td>14.900000</td>\n",
              "      <td>8.000000</td>\n",
              "    </tr>\n",
              "  </tbody>\n",
              "</table>\n",
              "</div>"
            ],
            "text/plain": [
              "       fixed acidity  volatile acidity  ...      alcohol      quality\n",
              "count    1359.000000       1359.000000  ...  1359.000000  1359.000000\n",
              "mean        8.310596          0.529478  ...    10.432315     5.623252\n",
              "std         1.736990          0.183031  ...     1.082065     0.823578\n",
              "min         4.600000          0.120000  ...     8.400000     3.000000\n",
              "25%         7.100000          0.390000  ...     9.500000     5.000000\n",
              "50%         7.900000          0.520000  ...    10.200000     6.000000\n",
              "75%         9.200000          0.640000  ...    11.100000     6.000000\n",
              "max        15.900000          1.580000  ...    14.900000     8.000000\n",
              "\n",
              "[8 rows x 12 columns]"
            ]
          },
          "metadata": {
            "tags": []
          },
          "execution_count": 7
        }
      ]
    },
    {
      "cell_type": "code",
      "metadata": {
        "id": "LhHZRQBwrNU6",
        "colab_type": "code",
        "outputId": "19fa41aa-dace-46e3-8b13-4c4aac936d84",
        "colab": {
          "base_uri": "https://localhost:8080/",
          "height": 471
        }
      },
      "source": [
        "plt.figure(figsize=(20,10))\n",
        "plt.subplot(1,3,1)\n",
        "sns.boxplot(y= df['free sulfur dioxide'])\n",
        "\n",
        "plt.subplot(1,3,2)\n",
        "sns.boxplot(y=df['total sulfur dioxide'])\n",
        "\n",
        "plt.subplot(1,3,3)\n",
        "sns.boxplot(y=df['residual sugar'])\n",
        "\n",
        "plt.show()"
      ],
      "execution_count": 8,
      "outputs": [
        {
          "output_type": "display_data",
          "data": {
            "image/png": "[encoded data removed]",
            "text/plain": [
              "<Figure size 1440x720 with 3 Axes>"
            ]
          },
          "metadata": {
            "tags": [],
            "needs_background": "light"
          }
        }
      ]
    },
    {
      "cell_type": "markdown",
      "metadata": {
        "id": "mopDllInszEA",
        "colab_type": "text"
      },
      "source": [
        "**Analysis :** After looking at data distribution i found there are some outliers which i treated using inter quartile range."
      ]
    },
    {
      "cell_type": "code",
      "metadata": {
        "id": "JYvs-r9JtPMS",
        "colab_type": "code",
        "colab": {}
      },
      "source": [
        "def outliers_IQR(data, col):\n",
        "    lower_quartile = data[col].quantile(0.25)\n",
        "    upper_quartile = data[col].quantile(0.75)\n",
        "    IQR = upper_quartile - lower_quartile\n",
        "    outlier_thresh = 1.5 * IQR\n",
        "    return data[data[col].between((lower_quartile - outlier_thresh), (upper_quartile + outlier_thresh))]\n",
        "df = outliers_IQR(df, 'free sulfur dioxide')\n",
        "df = outliers_IQR(df, 'total sulfur dioxide')\n",
        "df = outliers_IQR(df, 'residual sugar')\n",
        "df = outliers_IQR(df, 'fixed acidity')"
      ],
      "execution_count": 0,
      "outputs": []
    },
    {
      "cell_type": "code",
      "metadata": {
        "id": "m2GJhcwO9V99",
        "colab_type": "code",
        "outputId": "fee25343-4088-41a3-961e-adff9afca3ed",
        "colab": {
          "base_uri": "https://localhost:8080/",
          "height": 153
        }
      },
      "source": [
        "df.groupby(\"quality\")[\"quality\"].count()"
      ],
      "execution_count": 10,
      "outputs": [
        {
          "output_type": "execute_result",
          "data": {
            "text/plain": [
              "quality\n",
              "3      8\n",
              "4     44\n",
              "5    476\n",
              "6    475\n",
              "7    135\n",
              "8     14\n",
              "Name: quality, dtype: int64"
            ]
          },
          "metadata": {
            "tags": []
          },
          "execution_count": 10
        }
      ]
    },
    {
      "cell_type": "markdown",
      "metadata": {
        "id": "JQQlfOUctDHt",
        "colab_type": "text"
      },
      "source": [
        "Grouping Quality into Good and Bad i.e a classification problem\n",
        "\n",
        "\n"
      ]
    },
    {
      "cell_type": "code",
      "metadata": {
        "id": "CZBdo8aOOj5Q",
        "colab_type": "code",
        "colab": {}
      },
      "source": [
        "bins =(2,5,8)\n",
        "names =[\"bad\",\"good\"]\n",
        "df[\"quality\"] = pd.cut(df[\"quality\"],bins=bins,labels=names)"
      ],
      "execution_count": 0,
      "outputs": []
    },
    {
      "cell_type": "code",
      "metadata": {
        "id": "rvJS1EtqR0Qh",
        "colab_type": "code",
        "outputId": "f358af24-781f-4271-ae6c-620ed4a478e1",
        "colab": {
          "base_uri": "https://localhost:8080/",
          "height": 85
        }
      },
      "source": [
        "df.groupby(\"quality\")[\"quality\"].count()"
      ],
      "execution_count": 12,
      "outputs": [
        {
          "output_type": "execute_result",
          "data": {
            "text/plain": [
              "quality\n",
              "bad     528\n",
              "good    624\n",
              "Name: quality, dtype: int64"
            ]
          },
          "metadata": {
            "tags": []
          },
          "execution_count": 12
        }
      ]
    },
    {
      "cell_type": "markdown",
      "metadata": {
        "id": "3a7TbW_ptQKn",
        "colab_type": "text"
      },
      "source": [
        "One hot encoding aand splitting into train and test"
      ]
    },
    {
      "cell_type": "code",
      "metadata": {
        "id": "3SYhKfIAXTlZ",
        "colab_type": "code",
        "colab": {}
      },
      "source": [
        "from sklearn.preprocessing import LabelEncoder\n",
        "le = LabelEncoder()\n",
        "df[\"quality\"] = le.fit_transform(df[\"quality\"])\n",
        "X=df.drop(\"quality\",axis=1)\n",
        "y = df[\"quality\"]\n",
        "X_train, X_test, y_train, y_test = train_test_split(X, y, train_size=0.7, test_size=0.3, random_state=0)\n",
        "ns_probs = [0 for _ in range(len(y_test))]"
      ],
      "execution_count": 0,
      "outputs": []
    },
    {
      "cell_type": "markdown",
      "metadata": {
        "id": "JlUTIXyL6EI5",
        "colab_type": "text"
      },
      "source": [
        "## Machine Learning Models"
      ]
    },
    {
      "cell_type": "markdown",
      "metadata": {
        "id": "CH9urmiSbTWo",
        "colab_type": "text"
      },
      "source": [
        "1. Random Forest"
      ]
    },
    {
      "cell_type": "code",
      "metadata": {
        "id": "8qlzxDZytiCn",
        "colab_type": "code",
        "outputId": "67c84842-9db8-4e2a-8137-cf86422d929d",
        "colab": {
          "base_uri": "https://localhost:8080/",
          "height": 272
        }
      },
      "source": [
        "from sklearn.ensemble import RandomForestClassifier\n",
        "rf = RandomForestClassifier()\n",
        "rf.fit(X_train, y_train)\n",
        "predictions = rf.predict(X_test)\n",
        "print(\"\\n Confusion Matrix \\n\",confusion_matrix(y_test,predictions))\n",
        "print(\"\\n Classification Report \\n\",classification_report(y_test,predictions))"
      ],
      "execution_count": 28,
      "outputs": [
        {
          "output_type": "stream",
          "text": [
            "\n",
            " Confusion Matrix \n",
            " [[106  54]\n",
            " [ 38 148]]\n",
            "\n",
            " Classification Report \n",
            "               precision    recall  f1-score   support\n",
            "\n",
            "           0       0.74      0.66      0.70       160\n",
            "           1       0.73      0.80      0.76       186\n",
            "\n",
            "    accuracy                           0.73       346\n",
            "   macro avg       0.73      0.73      0.73       346\n",
            "weighted avg       0.73      0.73      0.73       346\n",
            "\n"
          ],
          "name": "stdout"
        }
      ]
    },
    {
      "cell_type": "code",
      "metadata": {
        "id": "BYyPFeXzZrg5",
        "colab_type": "code",
        "outputId": "6f72bc5f-c3a3-4b48-c279-017acd903637",
        "colab": {
          "base_uri": "https://localhost:8080/",
          "height": 88
        }
      },
      "source": [
        "from sklearn.ensemble import RandomForestClassifier\n",
        "param_grid = { 'bootstrap': [True],\n",
        "    'max_depth': [10, 50, 100],\n",
        "    'max_features': [2, 3],\n",
        "    'min_samples_leaf': [3, 5],\n",
        "    'min_samples_split': [8, 10, 12],\n",
        "    'n_estimators': [100, 200, 300]} \n",
        "grid = GridSearchCV(RandomForestClassifier(),param_grid,n_jobs=5)\n",
        "grid = grid.fit(X_train,y_train)\n",
        "grid_predictions = grid.predict(X_test)\n",
        "print(\"\\n Best Parameters \\n\",grid.best_params_)"
      ],
      "execution_count": 29,
      "outputs": [
        {
          "output_type": "stream",
          "text": [
            "\n",
            " Best Parameters \n",
            " {'bootstrap': True, 'max_depth': 50, 'max_features': 2, 'min_samples_leaf': 3, 'min_samples_split': 12, 'n_estimators': 200}\n"
          ],
          "name": "stdout"
        }
      ]
    },
    {
      "cell_type": "code",
      "metadata": {
        "id": "qvwnKeROZziS",
        "colab_type": "code",
        "outputId": "abf04b1d-de36-4686-c640-5a6b51e8990c",
        "colab": {
          "base_uri": "https://localhost:8080/",
          "height": 272
        }
      },
      "source": [
        "print(\"\\n Confusion Matrix \\n\",confusion_matrix(y_test,grid_predictions))\n",
        "print(\"\\n Classification Report \\n\",classification_report(y_test,grid_predictions))"
      ],
      "execution_count": 30,
      "outputs": [
        {
          "output_type": "stream",
          "text": [
            "\n",
            " Confusion Matrix \n",
            " [[109  51]\n",
            " [ 37 149]]\n",
            "\n",
            " Classification Report \n",
            "               precision    recall  f1-score   support\n",
            "\n",
            "           0       0.75      0.68      0.71       160\n",
            "           1       0.74      0.80      0.77       186\n",
            "\n",
            "    accuracy                           0.75       346\n",
            "   macro avg       0.75      0.74      0.74       346\n",
            "weighted avg       0.75      0.75      0.74       346\n",
            "\n"
          ],
          "name": "stdout"
        }
      ]
    },
    {
      "cell_type": "code",
      "metadata": {
        "id": "LRKwJsn-Xfrf",
        "colab_type": "code",
        "colab": {
          "base_uri": "https://localhost:8080/",
          "height": 111
        },
        "outputId": "b41ac9b6-d99a-4062-d07e-472a4e982e72"
      },
      "source": [
        "tune1 = pd.DataFrame(data=None, index= ['RF','RF_Best'],columns=['Accuracy','Precision','Recall','F1_Score','Hyper_Parameters'])\n",
        "tune1['Accuracy']=  [0.73,0.75]\n",
        "tune1['Precision']= [0.73,0.75]\n",
        "tune1['Recall']=    [0.73,0.74]\n",
        "tune1['F1_Score']=  [0.73,0.74]\n",
        "tune1['Hyper_Parameters']= [['max_depth = None','n_estimator = 100','bootstrap = True', 'max_features = auto','min_samples_leaf = 1', 'min_samples_split = 2'],['max_depth = 50','n_estimator = 200','bootstrap = True', 'max_features = 2','min_samples_leaf = 3', 'min_samples_split = 12']]\n",
        "tune1"
      ],
      "execution_count": 34,
      "outputs": [
        {
          "output_type": "execute_result",
          "data": {
            "text/html": [
              "<div>\n",
              "<style scoped>\n",
              "    .dataframe tbody tr th:only-of-type {\n",
              "        vertical-align: middle;\n",
              "    }\n",
              "\n",
              "    .dataframe tbody tr th {\n",
              "        vertical-align: top;\n",
              "    }\n",
              "\n",
              "    .dataframe thead th {\n",
              "        text-align: right;\n",
              "    }\n",
              "</style>\n",
              "<table border=\"1\" class=\"dataframe\">\n",
              "  <thead>\n",
              "    <tr style=\"text-align: right;\">\n",
              "      <th></th>\n",
              "      <th>Accuracy</th>\n",
              "      <th>Precision</th>\n",
              "      <th>Recall</th>\n",
              "      <th>F1_Score</th>\n",
              "      <th>Hyper_Parameters</th>\n",
              "    </tr>\n",
              "  </thead>\n",
              "  <tbody>\n",
              "    <tr>\n",
              "      <th>RF</th>\n",
              "      <td>0.73</td>\n",
              "      <td>0.73</td>\n",
              "      <td>0.73</td>\n",
              "      <td>0.73</td>\n",
              "      <td>[max_depth = None, n_estimator = 100, bootstra...</td>\n",
              "    </tr>\n",
              "    <tr>\n",
              "      <th>RF_Best</th>\n",
              "      <td>0.75</td>\n",
              "      <td>0.75</td>\n",
              "      <td>0.74</td>\n",
              "      <td>0.74</td>\n",
              "      <td>[max_depth = 50, n_estimator = 200, bootstrap ...</td>\n",
              "    </tr>\n",
              "  </tbody>\n",
              "</table>\n",
              "</div>"
            ],
            "text/plain": [
              "         Accuracy  ...                                   Hyper_Parameters\n",
              "RF           0.73  ...  [max_depth = None, n_estimator = 100, bootstra...\n",
              "RF_Best      0.75  ...  [max_depth = 50, n_estimator = 200, bootstrap ...\n",
              "\n",
              "[2 rows x 5 columns]"
            ]
          },
          "metadata": {
            "tags": []
          },
          "execution_count": 34
        }
      ]
    },
    {
      "cell_type": "markdown",
      "metadata": {
        "id": "xY25gkSs6cNO",
        "colab_type": "text"
      },
      "source": [
        "**Analysis:**  A random forest is a meta estimator that fits a number of decision tree classifiers on various sub-samples of the dataset and use averaging to improve the predictive accuracy and control over-fitting.n_estimators represents the number of trees in the forest. Usually the higher the number of trees the better to learn the data. However, adding a lot of trees can slow down the training process considerably. max_depth represents the depth of each tree in the forest. The deeper the tree, the more splits it has and it captures more information about the data. As Depth increases there is a chance of overfitting. min_samples_split represents the minimum number of samples required to split an internal node.When we increase this parameter, each tree in the forest becomes more constrained as it has to consider more samples at each node. There is a chance of underfitting when we require all of the sample at each node.min_samples_leaf is The minimum number of samples required to be at a leaf node. This parameter is similar to min_samples_splits, however, this describe the minimum number of samples of samples at the leafs, the base of the tree.Increasing this value can cause underfitting.max_features represents the number of features to consider when looking for the best split. As this value increases there is a chance of overfitting. After tuning random forest model the accuracy remained constant at 73% but recall and f1 score increased by 1% which is now 74%."
      ]
    },
    {
      "cell_type": "code",
      "metadata": {
        "id": "WYKVHZpTvfnt",
        "colab_type": "code",
        "outputId": "c2a6621e-16e0-4701-b4bd-78d647306980",
        "colab": {
          "base_uri": "https://localhost:8080/",
          "height": 313
        }
      },
      "source": [
        "lr_probs = grid.predict_proba(X_test)\n",
        "lr_probs = lr_probs[:, 1]\n",
        "ns_auc = roc_auc_score(y_test, ns_probs)\n",
        "lr_auc = roc_auc_score(y_test, lr_probs)\n",
        "# summarize scores\n",
        "print('No Disease: ROC AUC=%.3f' % (ns_auc))\n",
        "print('Disease: ROC AUC=%.3f' % (lr_auc))\n",
        "# calculate roc curves\n",
        "ns_fpr, ns_tpr, _ = roc_curve(y_test, ns_probs)\n",
        "lr_fpr, lr_tpr, _ = roc_curve(y_test, lr_probs)\n",
        "# plot the roc curve for the model\n",
        "pyplot.plot(ns_fpr, ns_tpr, linestyle='--', label='Bad Quality')\n",
        "pyplot.plot(lr_fpr, lr_tpr, marker='.', label='Good Quality')\n",
        "# axis labels\n",
        "pyplot.xlabel('False Positive Rate')\n",
        "pyplot.ylabel('True Positive Rate')\n",
        "# show the legend\n",
        "pyplot.legend()\n",
        "# show the plot\n",
        "pyplot.show()"
      ],
      "execution_count": 18,
      "outputs": [
        {
          "output_type": "stream",
          "text": [
            "No Disease: ROC AUC=0.500\n",
            "Disease: ROC AUC=0.818\n"
          ],
          "name": "stdout"
        },
        {
          "output_type": "display_data",
          "data": {
            "image/png": "[encoded data removed]",
            "text/plain": [
              "<Figure size 432x288 with 1 Axes>"
            ]
          },
          "metadata": {
            "tags": [],
            "needs_background": "light"
          }
        }
      ]
    },
    {
      "cell_type": "markdown",
      "metadata": {
        "id": "nFsQb6mq6RaW",
        "colab_type": "text"
      },
      "source": [
        "**Analysis:** The Roc curve with an auc score of 0.818 proves that our model is a good fit"
      ]
    },
    {
      "cell_type": "markdown",
      "metadata": {
        "id": "Az6_erlHbXTf",
        "colab_type": "text"
      },
      "source": [
        "2. SVM"
      ]
    },
    {
      "cell_type": "code",
      "metadata": {
        "id": "DMRhz_c_bHIP",
        "colab_type": "code",
        "outputId": "450261fd-0416-4b43-80d9-28bb373b0145",
        "colab": {
          "base_uri": "https://localhost:8080/",
          "height": 85
        }
      },
      "source": [
        "from sklearn.svm import SVC\n",
        "svm_L = SVC()\n",
        "svm_L.fit(X_train, y_train)"
      ],
      "execution_count": 19,
      "outputs": [
        {
          "output_type": "execute_result",
          "data": {
            "text/plain": [
              "SVC(C=1.0, break_ties=False, cache_size=200, class_weight=None, coef0=0.0,\n",
              "    decision_function_shape='ovr', degree=3, gamma='scale', kernel='rbf',\n",
              "    max_iter=-1, probability=False, random_state=None, shrinking=True,\n",
              "    tol=0.001, verbose=False)"
            ]
          },
          "metadata": {
            "tags": []
          },
          "execution_count": 19
        }
      ]
    },
    {
      "cell_type": "code",
      "metadata": {
        "id": "J2nwqnphebbZ",
        "colab_type": "code",
        "outputId": "fff6e855-340d-487a-a839-14492bd6b614",
        "colab": {
          "base_uri": "https://localhost:8080/",
          "height": 272
        }
      },
      "source": [
        "predictions = svm_L.predict(X_test)\n",
        "print(\"\\n Confusion Matrix \\n\",confusion_matrix(y_test,predictions))\n",
        "print(\"\\n Classification report \\n\",classification_report(y_test,predictions))"
      ],
      "execution_count": 20,
      "outputs": [
        {
          "output_type": "stream",
          "text": [
            "\n",
            " Confusion Matrix \n",
            " [[ 46 114]\n",
            " [ 18 168]]\n",
            "\n",
            " Classification report \n",
            "               precision    recall  f1-score   support\n",
            "\n",
            "           0       0.72      0.29      0.41       160\n",
            "           1       0.60      0.90      0.72       186\n",
            "\n",
            "    accuracy                           0.62       346\n",
            "   macro avg       0.66      0.60      0.56       346\n",
            "weighted avg       0.65      0.62      0.58       346\n",
            "\n"
          ],
          "name": "stdout"
        }
      ]
    },
    {
      "cell_type": "code",
      "metadata": {
        "id": "HpLoKiBoeigE",
        "colab_type": "code",
        "outputId": "545e3c83-26c5-46e1-edff-6c4974729193",
        "colab": {
          "base_uri": "https://localhost:8080/",
          "height": 68
        }
      },
      "source": [
        "param_grid = {'C': [0.1,1,10], 'kernel': ['linear','rbf'],'probability' : [True]} \n",
        "grid = GridSearchCV(SVC(),param_grid,n_jobs=3)\n",
        "grid = grid.fit(X_train,y_train)\n",
        "grid_predictions = grid.predict(X_test)\n",
        "print(\"\\n Best Parameters \\n\",grid.best_params_)"
      ],
      "execution_count": 21,
      "outputs": [
        {
          "output_type": "stream",
          "text": [
            "\n",
            " Best Parameters \n",
            " {'C': 10, 'kernel': 'linear', 'probability': True}\n"
          ],
          "name": "stdout"
        }
      ]
    },
    {
      "cell_type": "code",
      "metadata": {
        "id": "cCcjtzDSet-6",
        "colab_type": "code",
        "outputId": "9b566e38-7532-4926-e3c0-6734dd4cb148",
        "colab": {
          "base_uri": "https://localhost:8080/",
          "height": 272
        }
      },
      "source": [
        "predictions = grid.predict(X_test)\n",
        "print(\"\\n Confusion Matrix \\n\",confusion_matrix(y_test,grid_predictions))\n",
        "print(\"\\n Classification report \\n\",classification_report(y_test,grid_predictions))"
      ],
      "execution_count": 22,
      "outputs": [
        {
          "output_type": "stream",
          "text": [
            "\n",
            " Confusion Matrix \n",
            " [[118  42]\n",
            " [ 44 142]]\n",
            "\n",
            " Classification report \n",
            "               precision    recall  f1-score   support\n",
            "\n",
            "           0       0.73      0.74      0.73       160\n",
            "           1       0.77      0.76      0.77       186\n",
            "\n",
            "    accuracy                           0.75       346\n",
            "   macro avg       0.75      0.75      0.75       346\n",
            "weighted avg       0.75      0.75      0.75       346\n",
            "\n"
          ],
          "name": "stdout"
        }
      ]
    },
    {
      "cell_type": "code",
      "metadata": {
        "id": "UhJdoS6b3p9H",
        "colab_type": "code",
        "colab": {
          "base_uri": "https://localhost:8080/",
          "height": 111
        },
        "outputId": "fc741914-c4e7-45a6-d722-2c1004e7b39b"
      },
      "source": [
        "tune1 = pd.DataFrame(data=None, index= ['SVC','SVC_Best'],columns=['Accuracy','Precision','Recall','F1_Score','Hyper_Parameters'])\n",
        "tune1['Accuracy']=  [0.62,0.75]\n",
        "tune1['Precision']= [0.66,0.75]\n",
        "tune1['Recall']=    [0.60,0.75]\n",
        "tune1['F1_Score']=  [0.56,0.75]\n",
        "tune1['Hyper_Parameters']= [['C = 1','kernel = rbf'],['C = 10', 'kernel = linear']]\n",
        "tune1"
      ],
      "execution_count": 35,
      "outputs": [
        {
          "output_type": "execute_result",
          "data": {
            "text/html": [
              "<div>\n",
              "<style scoped>\n",
              "    .dataframe tbody tr th:only-of-type {\n",
              "        vertical-align: middle;\n",
              "    }\n",
              "\n",
              "    .dataframe tbody tr th {\n",
              "        vertical-align: top;\n",
              "    }\n",
              "\n",
              "    .dataframe thead th {\n",
              "        text-align: right;\n",
              "    }\n",
              "</style>\n",
              "<table border=\"1\" class=\"dataframe\">\n",
              "  <thead>\n",
              "    <tr style=\"text-align: right;\">\n",
              "      <th></th>\n",
              "      <th>Accuracy</th>\n",
              "      <th>Precision</th>\n",
              "      <th>Recall</th>\n",
              "      <th>F1_Score</th>\n",
              "      <th>Hyper_Parameters</th>\n",
              "    </tr>\n",
              "  </thead>\n",
              "  <tbody>\n",
              "    <tr>\n",
              "      <th>SVC</th>\n",
              "      <td>0.62</td>\n",
              "      <td>0.66</td>\n",
              "      <td>0.60</td>\n",
              "      <td>0.56</td>\n",
              "      <td>[C = 1, kernel = rbf]</td>\n",
              "    </tr>\n",
              "    <tr>\n",
              "      <th>SVC_Best</th>\n",
              "      <td>0.75</td>\n",
              "      <td>0.75</td>\n",
              "      <td>0.75</td>\n",
              "      <td>0.75</td>\n",
              "      <td>[C = 10, kernel = linear]</td>\n",
              "    </tr>\n",
              "  </tbody>\n",
              "</table>\n",
              "</div>"
            ],
            "text/plain": [
              "          Accuracy  Precision  Recall  F1_Score           Hyper_Parameters\n",
              "SVC           0.62       0.66    0.60      0.56      [C = 1, kernel = rbf]\n",
              "SVC_Best      0.75       0.75    0.75      0.75  [C = 10, kernel = linear]"
            ]
          },
          "metadata": {
            "tags": []
          },
          "execution_count": 35
        }
      ]
    },
    {
      "cell_type": "markdown",
      "metadata": {
        "id": "d03iWJj_42xO",
        "colab_type": "text"
      },
      "source": [
        "**Analysis:**  C is the penalty parameter of the error term. It controls the trade off between smooth decision boundary and classifying the training points correctly. Increasing C values may lead to overfitting the training data. As we go beyond C = 10 there is a chance of overfitting. As i hypertuned both kernel and penalty parameter the model showed significant improvent i.e accuracy increased from 62% to 75% as well as f1 has increased from 56% to 75% and as the dataset is balanced i am using accuracy as the performance metric."
      ]
    },
    {
      "cell_type": "code",
      "metadata": {
        "id": "ITjEoTTQenQl",
        "colab_type": "code",
        "outputId": "c8e4525f-7c98-459e-8c19-8e9a8557976c",
        "colab": {
          "base_uri": "https://localhost:8080/",
          "height": 313
        }
      },
      "source": [
        "lr_probs = grid.predict_proba(X_test)\n",
        "lr_probs = lr_probs[:, 1]\n",
        "ns_auc = roc_auc_score(y_test, ns_probs)\n",
        "lr_auc = roc_auc_score(y_test, lr_probs)\n",
        "# summarize scores\n",
        "print('No Disease: ROC AUC=%.3f' % (ns_auc))\n",
        "print('Disease: ROC AUC=%.3f' % (lr_auc))\n",
        "# calculate roc curves\n",
        "ns_fpr, ns_tpr, _ = roc_curve(y_test, ns_probs)\n",
        "lr_fpr, lr_tpr, _ = roc_curve(y_test, lr_probs)\n",
        "# plot the roc curve for the model\n",
        "pyplot.plot(ns_fpr, ns_tpr, linestyle='--', label='Bad Quality')\n",
        "pyplot.plot(lr_fpr, lr_tpr, marker='.', label='Good Quality')\n",
        "# axis labels\n",
        "pyplot.xlabel('False Positive Rate')\n",
        "pyplot.ylabel('True Positive Rate')\n",
        "# show the legend\n",
        "pyplot.legend()\n",
        "# show the plot\n",
        "pyplot.show()"
      ],
      "execution_count": 23,
      "outputs": [
        {
          "output_type": "stream",
          "text": [
            "No Disease: ROC AUC=0.500\n",
            "Disease: ROC AUC=0.823\n"
          ],
          "name": "stdout"
        },
        {
          "output_type": "display_data",
          "data": {
            "image/png": "[encoded data removed]",
            "text/plain": [
              "<Figure size 432x288 with 1 Axes>"
            ]
          },
          "metadata": {
            "tags": [],
            "needs_background": "light"
          }
        }
      ]
    },
    {
      "cell_type": "markdown",
      "metadata": {
        "id": "sbdj_PTj5sdp",
        "colab_type": "text"
      },
      "source": [
        "**Analysis:** The roc curve shows that our model is a good fit and has an auc score of 0.823"
      ]
    },
    {
      "cell_type": "code",
      "metadata": {
        "id": "UKdrvYXyKlFr",
        "colab_type": "code",
        "colab": {
          "base_uri": "https://localhost:8080/",
          "height": 111
        },
        "outputId": "b401f415-2bd7-441d-8f04-a608d1624736"
      },
      "source": [
        "tune1 = pd.DataFrame(data=None, index= ['RF_Best','SVC_Best'],columns=['Accuracy','Precision','Recall','F1_Score','Hyper_Parameters'])\n",
        "tune1['Accuracy']=  [0.75,0.75]\n",
        "tune1['Precision']= [0.75,0.75]\n",
        "tune1['Recall']=    [0.74,0.75]\n",
        "tune1['F1_Score']=  [0.74,0.75]\n",
        "tune1['Hyper_Parameters']= [['max_depth = 50','n_estimator = 200','bootstrap = True', 'max_features = 2','min_samples_leaf = 3', 'min_samples_split = 12'],['C = 10', 'kernel = linear']]\n",
        "tune1"
      ],
      "execution_count": 37,
      "outputs": [
        {
          "output_type": "execute_result",
          "data": {
            "text/html": [
              "<div>\n",
              "<style scoped>\n",
              "    .dataframe tbody tr th:only-of-type {\n",
              "        vertical-align: middle;\n",
              "    }\n",
              "\n",
              "    .dataframe tbody tr th {\n",
              "        vertical-align: top;\n",
              "    }\n",
              "\n",
              "    .dataframe thead th {\n",
              "        text-align: right;\n",
              "    }\n",
              "</style>\n",
              "<table border=\"1\" class=\"dataframe\">\n",
              "  <thead>\n",
              "    <tr style=\"text-align: right;\">\n",
              "      <th></th>\n",
              "      <th>Accuracy</th>\n",
              "      <th>Precision</th>\n",
              "      <th>Recall</th>\n",
              "      <th>F1_Score</th>\n",
              "      <th>Hyper_Parameters</th>\n",
              "    </tr>\n",
              "  </thead>\n",
              "  <tbody>\n",
              "    <tr>\n",
              "      <th>RF_Best</th>\n",
              "      <td>0.75</td>\n",
              "      <td>0.75</td>\n",
              "      <td>0.74</td>\n",
              "      <td>0.74</td>\n",
              "      <td>[max_depth = 50, n_estimator = 200, bootstrap ...</td>\n",
              "    </tr>\n",
              "    <tr>\n",
              "      <th>SVC_Best</th>\n",
              "      <td>0.75</td>\n",
              "      <td>0.75</td>\n",
              "      <td>0.75</td>\n",
              "      <td>0.75</td>\n",
              "      <td>[C = 10, kernel = linear]</td>\n",
              "    </tr>\n",
              "  </tbody>\n",
              "</table>\n",
              "</div>"
            ],
            "text/plain": [
              "          Accuracy  ...                                   Hyper_Parameters\n",
              "RF_Best       0.75  ...  [max_depth = 50, n_estimator = 200, bootstrap ...\n",
              "SVC_Best      0.75  ...                          [C = 10, kernel = linear]\n",
              "\n",
              "[2 rows x 5 columns]"
            ]
          },
          "metadata": {
            "tags": []
          },
          "execution_count": 37
        }
      ]
    },
    {
      "cell_type": "markdown",
      "metadata": {
        "id": "0prfcjTWMU9I",
        "colab_type": "text"
      },
      "source": [
        "**Analysis:** Both the machine learning models showed same  accuracy which is 75%. Hence i used random forest for getting feature importance."
      ]
    },
    {
      "cell_type": "markdown",
      "metadata": {
        "id": "qJnhoRbT5968",
        "colab_type": "text"
      },
      "source": [
        "# Feature Importance"
      ]
    },
    {
      "cell_type": "code",
      "metadata": {
        "id": "z3IyeyP4nrdL",
        "colab_type": "code",
        "outputId": "932db317-a104-4bd6-ec97-4bbca00f9c34",
        "colab": {
          "base_uri": "https://localhost:8080/",
          "height": 420
        }
      },
      "source": [
        "rf = RandomForestClassifier(bootstrap=True,max_depth=50,max_features=2,min_samples_leaf=5,min_samples_split=10,n_estimators=200)\n",
        "model = rf.fit(X_train, y_train)\n",
        "importances = model.feature_importances_\n",
        "indices = np.argsort(importances)[::-1]\n",
        "feature_names = list(X.columns) \n",
        "# Rearrange feature names so they match the sorted feature importances\n",
        "names = [feature_names[i] for i in indices]\n",
        "\n",
        "# Create plot\n",
        "plt.figure(figsize=(12,5))\n",
        "\n",
        "# Create plot title\n",
        "plt.title(\"Feature Importance\")\n",
        "\n",
        "# Add bars\n",
        "plt.bar(range(X.shape[1]), importances[indices])\n",
        "\n",
        "# Add feature names as x-axis labels\n",
        "plt.xticks(range(X.shape[1]), names, rotation=90)\n",
        "\n",
        "# Show plot\n",
        "plt.show()"
      ],
      "execution_count": 24,
      "outputs": [
        {
          "output_type": "display_data",
          "data": {
            "image/png": "[encoded data removed]",
            "text/plain": [
              "<Figure size 864x360 with 1 Axes>"
            ]
          },
          "metadata": {
            "tags": [],
            "needs_background": "light"
          }
        }
      ]
    },
    {
      "cell_type": "markdown",
      "metadata": {
        "id": "CdCJvMHIORa8",
        "colab_type": "text"
      },
      "source": [
        "**Analysis:** Alcohol, Sulphates, and volatile acidity are the 3 most important features used to predict the quality of wine."
      ]
    },
    {
      "cell_type": "code",
      "metadata": {
        "id": "zVWnwMUhObkf",
        "colab_type": "code",
        "colab": {}
      },
      "source": [
        ""
      ],
      "execution_count": 0,
      "outputs": []
    }
  ]
}